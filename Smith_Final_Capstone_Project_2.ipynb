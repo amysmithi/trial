{
 "cells": [
  {
   "cell_type": "markdown",
   "metadata": {
    "application/vnd.databricks.v1+cell": {
     "cellMetadata": {},
     "inputWidgets": {},
     "nuid": "4f6cce12-a006-4a6f-aa2d-49ffb1836a2e",
     "showTitle": false,
     "title": ""
    }
   },
   "source": [
    "## Final Project: Using Sakila Database\n",
    "**Amy Smith**\n",
    "\n",
    "**DS-2002: Data Science Systems**"
   ]
  },
  {
   "cell_type": "markdown",
   "metadata": {
    "application/vnd.databricks.v1+cell": {
     "cellMetadata": {},
     "inputWidgets": {},
     "nuid": "ce997147-c924-4b5e-bf73-75b1aabfae7a",
     "showTitle": false,
     "title": ""
    }
   },
   "source": [
    "#### Necessary Imports"
   ]
  },
  {
   "cell_type": "code",
   "execution_count": 0,
   "metadata": {
    "application/vnd.databricks.v1+cell": {
     "cellMetadata": {
      "byteLimit": 2048000,
      "rowLimit": 10000
     },
     "inputWidgets": {},
     "nuid": "f6a8545c-e396-40dd-a0eb-8fb98663bef7",
     "showTitle": false,
     "title": ""
    }
   },
   "outputs": [],
   "source": [
    "import os\n",
    "import json\n",
    "import pymongo\n",
    "import pyspark.pandas as pd  # This uses Koalas that is included in PySpark version 3.2 or newer.\n",
    "from pyspark.sql.functions import col\n",
    "from pyspark.sql.types import StructType, StructField, StringType, TimestampType, BinaryType\n",
    "from pyspark.sql.types import ByteType, ShortType, IntegerType, LongType, FloatType, DecimalType"
   ]
  },
  {
   "cell_type": "markdown",
   "metadata": {
    "application/vnd.databricks.v1+cell": {
     "cellMetadata": {},
     "inputWidgets": {},
     "nuid": "3c43fc7d-2918-4270-8595-354881a4e36d",
     "showTitle": false,
     "title": ""
    }
   },
   "source": [
    "#### Connecting to Azure MySQL Server, MongoDB Atlas, and Setting Up Data Files"
   ]
  },
  {
   "cell_type": "code",
   "execution_count": 0,
   "metadata": {
    "application/vnd.databricks.v1+cell": {
     "cellMetadata": {
      "byteLimit": 2048000,
      "rowLimit": 10000
     },
     "inputWidgets": {},
     "nuid": "ae18ed4a-a051-4249-ac4d-55d27a42b4e5",
     "showTitle": false,
     "title": ""
    }
   },
   "outputs": [
    {
     "output_type": "stream",
     "name": "stdout",
     "output_type": "stream",
     "text": [
      "Out[253]: True"
     ]
    }
   ],
   "source": [
    "# Azure MySQL Server Connection Information ###################\n",
    "jdbc_hostname = \"aps6cuq-sql.mysql.database.azure.com\"\n",
    "jdbc_port = 3306\n",
    "src_database = \"sakila\"\n",
    "\n",
    "connection_properties = {\n",
    "  \"user\" : \"asmith\",\n",
    "  \"password\" : \"W0rking123\",\n",
    "  \"driver\" : \"org.mariadb.jdbc.Driver\"\n",
    "}\n",
    "\n",
    "# MongoDB Atlas Connection Information ########################\n",
    "atlas_cluster_name = \"dsproject.yysm8yq\"\n",
    "atlas_database_name = \"sakila\"\n",
    "atlas_user_name = \"aps6cuq\"\n",
    "atlas_password = \"JpVjKZssyc3PYxhi\"\n",
    "\n",
    "# Data Files (JSON) Information ###############################\n",
    "dst_database = \"sakila_dlh\"\n",
    "\n",
    "base_dir = \"dbfs:/FileStore/ds2002-final-project\"\n",
    "database_dir = f\"{base_dir}/{dst_database}\"\n",
    "\n",
    "data_dir = f\"{base_dir}/source_data\"\n",
    "batch_dir = f\"{data_dir}/batch\"\n",
    "stream_dir = f\"{data_dir}/stream\"\n",
    "\n",
    "rental_payment_stream_dir = f\"{stream_dir}/rental_payment\"\n",
    "\n",
    "rental_payment_output_bronze = f\"{database_dir}/fact_rental_payment/bronze\"\n",
    "rental_payment_output_silver = f\"{database_dir}/fact_rental_payment/silver\"\n",
    "rental_payment_output_gold   = f\"{database_dir}/fact_rental_payment/gold\"\n",
    "\n",
    "# Delete the Streaming Files ################################## \n",
    "dbutils.fs.rm(f\"{database_dir}/fact_rental_payment\", True) \n",
    "\n",
    "# Delete the Database Files ###################################\n",
    "dbutils.fs.rm(database_dir, True)"
   ]
  },
  {
   "cell_type": "markdown",
   "metadata": {
    "application/vnd.databricks.v1+cell": {
     "cellMetadata": {},
     "inputWidgets": {},
     "nuid": "4e33d70f-637e-4eb6-a1a8-c00ea26011a5",
     "showTitle": false,
     "title": ""
    }
   },
   "source": [
    "#### Defining Global Functions"
   ]
  },
  {
   "cell_type": "code",
   "execution_count": 0,
   "metadata": {
    "application/vnd.databricks.v1+cell": {
     "cellMetadata": {
      "byteLimit": 2048000,
      "rowLimit": 10000
     },
     "inputWidgets": {},
     "nuid": "939af89f-638e-44fd-8e58-f88591889f4c",
     "showTitle": false,
     "title": ""
    }
   },
   "outputs": [],
   "source": [
    "# Fetches a DataFrame from MongoDB Atlas database server Using PyMongo.\n",
    "\n",
    "def get_mongo_dataframe(user_id, pwd, cluster_name, db_name, collection, conditions, projection, sort):\n",
    "    '''Create a client connection to MongoDB'''\n",
    "    mongo_uri = f\"mongodb+srv://{user_id}:{pwd}@{cluster_name}.mongodb.net/{db_name}\"\n",
    "    \n",
    "    client = pymongo.MongoClient(mongo_uri)\n",
    "\n",
    "    '''Query MongoDB, and fill a python list with documents to create a DataFrame'''\n",
    "    db = client[db_name]\n",
    "    if conditions and projection and sort:\n",
    "        dframe = pd.DataFrame(list(db[collection].find(conditions, projection).sort(sort)))\n",
    "    elif conditions and projection and not sort:\n",
    "        dframe = pd.DataFrame(list(db[collection].find(conditions, projection)))\n",
    "    else:\n",
    "        dframe = pd.DataFrame(list(db[collection].find()))\n",
    "\n",
    "    client.close()\n",
    "    \n",
    "    return dframe\n",
    "\n",
    "\n",
    "# Creates New Collections by Uploading JSON file(s) to the MongoDB Atlas server.\n",
    "\n",
    "def set_mongo_collection(user_id, pwd, cluster_name, db_name, src_file_path, json_files):\n",
    "    '''Create a client connection to MongoDB'''\n",
    "    mongo_uri = f\"mongodb+srv://{user_id}:{pwd}@{cluster_name}.mongodb.net/{db_name}\"\n",
    "    client = pymongo.MongoClient(mongo_uri)\n",
    "    db = client[db_name]\n",
    "    \n",
    "    '''Read in a JSON file, and Use It to Create a New Collection'''\n",
    "    for file in json_files:\n",
    "        db.drop_collection(file)\n",
    "        json_file = os.path.join(src_file_path, json_files[file])\n",
    "        with open(json_file, 'r') as openfile:\n",
    "            json_object = json.load(openfile)\n",
    "            file = db[file]\n",
    "            result = file.insert_many(json_object)\n",
    "\n",
    "    client.close()\n",
    "    \n",
    "    return result"
   ]
  },
  {
   "cell_type": "markdown",
   "metadata": {
    "application/vnd.databricks.v1+cell": {
     "cellMetadata": {},
     "inputWidgets": {},
     "nuid": "8066e8d6-3626-449d-a985-2fce976d0914",
     "showTitle": false,
     "title": ""
    }
   },
   "source": [
    "### Populating Dimensions by Ingesting Reference Data \n",
    "#### Fetching reference data from an Azure MySQL database"
   ]
  },
  {
   "cell_type": "code",
   "execution_count": 0,
   "metadata": {
    "application/vnd.databricks.v1+cell": {
     "cellMetadata": {
      "byteLimit": 2048000,
      "implicitDf": true,
      "rowLimit": 10000
     },
     "inputWidgets": {},
     "nuid": "cd70267e-3bc4-4f48-a7ef-4ea4d2dcc3c6",
     "showTitle": false,
     "title": ""
    }
   },
   "outputs": [
    {
     "output_type": "display_data",
     "data": {
      "text/html": [
       "<style scoped>\n",
       "  .table-result-container {\n",
       "    max-height: 300px;\n",
       "    overflow: auto;\n",
       "  }\n",
       "  table, th, td {\n",
       "    border: 1px solid black;\n",
       "    border-collapse: collapse;\n",
       "  }\n",
       "  th, td {\n",
       "    padding: 5px;\n",
       "  }\n",
       "  th {\n",
       "    text-align: left;\n",
       "  }\n",
       "</style><div class='table-result-container'><table class='table-result'><thead style='background-color: white'><tr></tr></thead><tbody></tbody></table></div>"
      ]
     },
     "metadata": {
      "application/vnd.databricks.v1+output": {
       "addedWidgets": {},
       "aggData": [],
       "aggError": "",
       "aggOverflow": false,
       "aggSchema": [],
       "aggSeriesLimitReached": false,
       "aggType": "",
       "arguments": {},
       "columnCustomDisplayInfos": {},
       "data": [],
       "datasetInfos": [],
       "dbfsResultPath": null,
       "isJsonSchema": true,
       "metadata": {},
       "overflow": false,
       "plotOptions": {
        "customPlotOptions": {},
        "displayType": "table",
        "pivotAggregation": null,
        "pivotColumns": null,
        "xColumns": null,
        "yColumns": null
       },
       "removedWidgets": [],
       "schema": [],
       "type": "table"
      }
     },
     "output_type": "display_data"
    }
   ],
   "source": [
    "%sql\n",
    "DROP DATABASE IF EXISTS sakila_dlh CASCADE;"
   ]
  },
  {
   "cell_type": "code",
   "execution_count": 0,
   "metadata": {
    "application/vnd.databricks.v1+cell": {
     "cellMetadata": {
      "byteLimit": 2048000,
      "implicitDf": true,
      "rowLimit": 10000
     },
     "inputWidgets": {},
     "nuid": "8753d7a5-d652-4163-b69f-71355180c93a",
     "showTitle": false,
     "title": ""
    }
   },
   "outputs": [
    {
     "output_type": "display_data",
     "data": {
      "text/html": [
       "<style scoped>\n",
       "  .table-result-container {\n",
       "    max-height: 300px;\n",
       "    overflow: auto;\n",
       "  }\n",
       "  table, th, td {\n",
       "    border: 1px solid black;\n",
       "    border-collapse: collapse;\n",
       "  }\n",
       "  th, td {\n",
       "    padding: 5px;\n",
       "  }\n",
       "  th {\n",
       "    text-align: left;\n",
       "  }\n",
       "</style><div class='table-result-container'><table class='table-result'><thead style='background-color: white'><tr></tr></thead><tbody></tbody></table></div>"
      ]
     },
     "metadata": {
      "application/vnd.databricks.v1+output": {
       "addedWidgets": {},
       "aggData": [],
       "aggError": "",
       "aggOverflow": false,
       "aggSchema": [],
       "aggSeriesLimitReached": false,
       "aggType": "",
       "arguments": {},
       "columnCustomDisplayInfos": {},
       "data": [],
       "datasetInfos": [],
       "dbfsResultPath": null,
       "isJsonSchema": true,
       "metadata": {},
       "overflow": false,
       "plotOptions": {
        "customPlotOptions": {},
        "displayType": "table",
        "pivotAggregation": null,
        "pivotColumns": null,
        "xColumns": null,
        "yColumns": null
       },
       "removedWidgets": [],
       "schema": [],
       "type": "table"
      }
     },
     "output_type": "display_data"
    }
   ],
   "source": [
    "%sql\n",
    "CREATE DATABASE IF NOT EXISTS sakila_dlh\n",
    "COMMENT \"DS-2002 Final Project Database\"\n",
    "LOCATION \"dbfs:/FileStore/ds2002-final-project/sakila_dlh\"\n",
    "WITH DBPROPERTIES (contains_pii = true, purpose = \"DS-2002 Final Project\");"
   ]
  },
  {
   "cell_type": "markdown",
   "metadata": {
    "application/vnd.databricks.v1+cell": {
     "cellMetadata": {},
     "inputWidgets": {},
     "nuid": "8b8250c5-9f2b-4b9b-9e3a-6e5fcd2b3aff",
     "showTitle": false,
     "title": ""
    }
   },
   "source": [
    "##### A new table that sources dim_date from a table in Azure MySQL"
   ]
  },
  {
   "cell_type": "code",
   "execution_count": 0,
   "metadata": {
    "application/vnd.databricks.v1+cell": {
     "cellMetadata": {
      "byteLimit": 2048000,
      "implicitDf": true,
      "rowLimit": 10000
     },
     "inputWidgets": {},
     "nuid": "7fc64a21-eb30-4d1d-9ed9-9258593d5281",
     "showTitle": false,
     "title": ""
    }
   },
   "outputs": [
    {
     "output_type": "display_data",
     "data": {
      "text/html": [
       "<style scoped>\n",
       "  .table-result-container {\n",
       "    max-height: 300px;\n",
       "    overflow: auto;\n",
       "  }\n",
       "  table, th, td {\n",
       "    border: 1px solid black;\n",
       "    border-collapse: collapse;\n",
       "  }\n",
       "  th, td {\n",
       "    padding: 5px;\n",
       "  }\n",
       "  th {\n",
       "    text-align: left;\n",
       "  }\n",
       "</style><div class='table-result-container'><table class='table-result'><thead style='background-color: white'><tr></tr></thead><tbody></tbody></table></div>"
      ]
     },
     "metadata": {
      "application/vnd.databricks.v1+output": {
       "addedWidgets": {},
       "aggData": [],
       "aggError": "",
       "aggOverflow": false,
       "aggSchema": [],
       "aggSeriesLimitReached": false,
       "aggType": "",
       "arguments": {},
       "columnCustomDisplayInfos": {},
       "data": [],
       "datasetInfos": [],
       "dbfsResultPath": null,
       "isJsonSchema": true,
       "metadata": {},
       "overflow": false,
       "plotOptions": {
        "customPlotOptions": {},
        "displayType": "table",
        "pivotAggregation": null,
        "pivotColumns": null,
        "xColumns": null,
        "yColumns": null
       },
       "removedWidgets": [],
       "schema": [],
       "type": "table"
      }
     },
     "output_type": "display_data"
    }
   ],
   "source": [
    "%sql\n",
    "CREATE OR REPLACE TEMPORARY VIEW view_date\n",
    "USING org.apache.spark.sql.jdbc\n",
    "OPTIONS (\n",
    "  url \"jdbc:mysql://aps6cuq-mysql.mysql.database.azure.com:3306/sakila\",\n",
    "  dbtable \"dim_date\",\n",
    "  user \"asmith\",\n",
    "  password \"W0rking123\"\n",
    ")"
   ]
  },
  {
   "cell_type": "code",
   "execution_count": 0,
   "metadata": {
    "application/vnd.databricks.v1+cell": {
     "cellMetadata": {
      "byteLimit": 2048000,
      "implicitDf": true,
      "rowLimit": 10000
     },
     "inputWidgets": {},
     "nuid": "015675a3-1b74-4f42-b00b-df8b9f2cfa0c",
     "showTitle": false,
     "title": ""
    }
   },
   "outputs": [
    {
     "output_type": "display_data",
     "data": {
      "text/html": [
       "<style scoped>\n",
       "  .table-result-container {\n",
       "    max-height: 300px;\n",
       "    overflow: auto;\n",
       "  }\n",
       "  table, th, td {\n",
       "    border: 1px solid black;\n",
       "    border-collapse: collapse;\n",
       "  }\n",
       "  th, td {\n",
       "    padding: 5px;\n",
       "  }\n",
       "  th {\n",
       "    text-align: left;\n",
       "  }\n",
       "</style><div class='table-result-container'><table class='table-result'><thead style='background-color: white'><tr><th>num_affected_rows</th><th>num_inserted_rows</th></tr></thead><tbody></tbody></table></div>"
      ]
     },
     "metadata": {
      "application/vnd.databricks.v1+output": {
       "addedWidgets": {},
       "aggData": [],
       "aggError": "",
       "aggOverflow": false,
       "aggSchema": [],
       "aggSeriesLimitReached": false,
       "aggType": "",
       "arguments": {},
       "columnCustomDisplayInfos": {},
       "data": [],
       "datasetInfos": [],
       "dbfsResultPath": null,
       "isJsonSchema": true,
       "metadata": {},
       "overflow": false,
       "plotOptions": {
        "customPlotOptions": {},
        "displayType": "table",
        "pivotAggregation": null,
        "pivotColumns": null,
        "xColumns": null,
        "yColumns": null
       },
       "removedWidgets": [],
       "schema": [
        {
         "metadata": "{}",
         "name": "num_affected_rows",
         "type": "\"long\""
        },
        {
         "metadata": "{}",
         "name": "num_inserted_rows",
         "type": "\"long\""
        }
       ],
       "type": "table"
      }
     },
     "output_type": "display_data"
    }
   ],
   "source": [
    "%sql\n",
    "USE DATABASE sakila_dlh;\n",
    "\n",
    "CREATE OR REPLACE TABLE sakila_dlh.dim_date\n",
    "COMMENT \"Date Dimension Table\"\n",
    "LOCATION \"dbfs:/FileStore/ds2002-final-project/sakila_dlh/dim_date\"\n",
    "AS SELECT * FROM view_date"
   ]
  },
  {
   "cell_type": "code",
   "execution_count": 0,
   "metadata": {
    "application/vnd.databricks.v1+cell": {
     "cellMetadata": {
      "byteLimit": 2048000,
      "implicitDf": true,
      "rowLimit": 10000
     },
     "inputWidgets": {},
     "nuid": "368e6706-b13d-4be4-98dd-16956e85d40b",
     "showTitle": false,
     "title": ""
    }
   },
   "outputs": [
    {
     "output_type": "display_data",
     "data": {
      "text/html": [
       "<style scoped>\n",
       "  .table-result-container {\n",
       "    max-height: 300px;\n",
       "    overflow: auto;\n",
       "  }\n",
       "  table, th, td {\n",
       "    border: 1px solid black;\n",
       "    border-collapse: collapse;\n",
       "  }\n",
       "  th, td {\n",
       "    padding: 5px;\n",
       "  }\n",
       "  th {\n",
       "    text-align: left;\n",
       "  }\n",
       "</style><div class='table-result-container'><table class='table-result'><thead style='background-color: white'><tr><th>col_name</th><th>data_type</th><th>comment</th></tr></thead><tbody><tr><td>date_key</td><td>int</td><td>null</td></tr><tr><td>full_date</td><td>date</td><td>null</td></tr><tr><td>date_name</td><td>string</td><td>null</td></tr><tr><td>date_name_us</td><td>string</td><td>null</td></tr><tr><td>date_name_eu</td><td>string</td><td>null</td></tr><tr><td>day_of_week</td><td>int</td><td>null</td></tr><tr><td>day_name_of_week</td><td>string</td><td>null</td></tr><tr><td>day_of_month</td><td>int</td><td>null</td></tr><tr><td>day_of_year</td><td>int</td><td>null</td></tr><tr><td>weekday_weekend</td><td>string</td><td>null</td></tr><tr><td>week_of_year</td><td>int</td><td>null</td></tr><tr><td>month_name</td><td>string</td><td>null</td></tr><tr><td>month_of_year</td><td>int</td><td>null</td></tr><tr><td>is_last_day_of_month</td><td>string</td><td>null</td></tr><tr><td>calendar_quarter</td><td>int</td><td>null</td></tr><tr><td>calendar_year</td><td>int</td><td>null</td></tr><tr><td>calendar_year_month</td><td>string</td><td>null</td></tr><tr><td>calendar_year_qtr</td><td>string</td><td>null</td></tr><tr><td>fiscal_month_of_year</td><td>int</td><td>null</td></tr><tr><td>fiscal_quarter</td><td>int</td><td>null</td></tr><tr><td>fiscal_year</td><td>int</td><td>null</td></tr><tr><td>fiscal_year_month</td><td>string</td><td>null</td></tr><tr><td>fiscal_year_qtr</td><td>string</td><td>null</td></tr><tr><td></td><td></td><td></td></tr><tr><td># Detailed Table Information</td><td></td><td></td></tr><tr><td>Catalog</td><td>spark_catalog</td><td></td></tr><tr><td>Database</td><td>sakila_dlh</td><td></td></tr><tr><td>Table</td><td>dim_date</td><td></td></tr><tr><td>Type</td><td>EXTERNAL</td><td></td></tr><tr><td>Comment</td><td>Date Dimension Table</td><td></td></tr><tr><td>Location</td><td>dbfs:/FileStore/ds2002-final-project/sakila_dlh/dim_date</td><td></td></tr><tr><td>Provider</td><td>delta</td><td></td></tr><tr><td>Owner</td><td>root</td><td></td></tr><tr><td>Table Properties</td><td>[delta.minReaderVersion=1,delta.minWriterVersion=2]</td><td></td></tr></tbody></table></div>"
      ]
     },
     "metadata": {
      "application/vnd.databricks.v1+output": {
       "addedWidgets": {},
       "aggData": [],
       "aggError": "",
       "aggOverflow": false,
       "aggSchema": [],
       "aggSeriesLimitReached": false,
       "aggType": "",
       "arguments": {},
       "columnCustomDisplayInfos": {},
       "data": [
        [
         "date_key",
         "int",
         null
        ],
        [
         "full_date",
         "date",
         null
        ],
        [
         "date_name",
         "string",
         null
        ],
        [
         "date_name_us",
         "string",
         null
        ],
        [
         "date_name_eu",
         "string",
         null
        ],
        [
         "day_of_week",
         "int",
         null
        ],
        [
         "day_name_of_week",
         "string",
         null
        ],
        [
         "day_of_month",
         "int",
         null
        ],
        [
         "day_of_year",
         "int",
         null
        ],
        [
         "weekday_weekend",
         "string",
         null
        ],
        [
         "week_of_year",
         "int",
         null
        ],
        [
         "month_name",
         "string",
         null
        ],
        [
         "month_of_year",
         "int",
         null
        ],
        [
         "is_last_day_of_month",
         "string",
         null
        ],
        [
         "calendar_quarter",
         "int",
         null
        ],
        [
         "calendar_year",
         "int",
         null
        ],
        [
         "calendar_year_month",
         "string",
         null
        ],
        [
         "calendar_year_qtr",
         "string",
         null
        ],
        [
         "fiscal_month_of_year",
         "int",
         null
        ],
        [
         "fiscal_quarter",
         "int",
         null
        ],
        [
         "fiscal_year",
         "int",
         null
        ],
        [
         "fiscal_year_month",
         "string",
         null
        ],
        [
         "fiscal_year_qtr",
         "string",
         null
        ],
        [
         "",
         "",
         ""
        ],
        [
         "# Detailed Table Information",
         "",
         ""
        ],
        [
         "Catalog",
         "spark_catalog",
         ""
        ],
        [
         "Database",
         "sakila_dlh",
         ""
        ],
        [
         "Table",
         "dim_date",
         ""
        ],
        [
         "Type",
         "EXTERNAL",
         ""
        ],
        [
         "Comment",
         "Date Dimension Table",
         ""
        ],
        [
         "Location",
         "dbfs:/FileStore/ds2002-final-project/sakila_dlh/dim_date",
         ""
        ],
        [
         "Provider",
         "delta",
         ""
        ],
        [
         "Owner",
         "root",
         ""
        ],
        [
         "Table Properties",
         "[delta.minReaderVersion=1,delta.minWriterVersion=2]",
         ""
        ]
       ],
       "datasetInfos": [],
       "dbfsResultPath": null,
       "isJsonSchema": true,
       "metadata": {},
       "overflow": false,
       "plotOptions": {
        "customPlotOptions": {},
        "displayType": "table",
        "pivotAggregation": null,
        "pivotColumns": null,
        "xColumns": null,
        "yColumns": null
       },
       "removedWidgets": [],
       "schema": [
        {
         "metadata": "{\"comment\":\"name of the column\"}",
         "name": "col_name",
         "type": "\"string\""
        },
        {
         "metadata": "{\"comment\":\"data type of the column\"}",
         "name": "data_type",
         "type": "\"string\""
        },
        {
         "metadata": "{\"comment\":\"comment of the column\"}",
         "name": "comment",
         "type": "\"string\""
        }
       ],
       "type": "table"
      }
     },
     "output_type": "display_data"
    }
   ],
   "source": [
    "%sql\n",
    "DESCRIBE EXTENDED sakila_dlh.dim_date;"
   ]
  },
  {
   "cell_type": "code",
   "execution_count": 0,
   "metadata": {
    "application/vnd.databricks.v1+cell": {
     "cellMetadata": {
      "byteLimit": 2048000,
      "implicitDf": true,
      "rowLimit": 10000
     },
     "inputWidgets": {},
     "nuid": "7f395402-1acd-49e7-85e7-a47ff0439522",
     "showTitle": false,
     "title": ""
    }
   },
   "outputs": [
    {
     "output_type": "display_data",
     "data": {
      "text/html": [
       "<style scoped>\n",
       "  .table-result-container {\n",
       "    max-height: 300px;\n",
       "    overflow: auto;\n",
       "  }\n",
       "  table, th, td {\n",
       "    border: 1px solid black;\n",
       "    border-collapse: collapse;\n",
       "  }\n",
       "  th, td {\n",
       "    padding: 5px;\n",
       "  }\n",
       "  th {\n",
       "    text-align: left;\n",
       "  }\n",
       "</style><div class='table-result-container'><table class='table-result'><thead style='background-color: white'><tr><th>date_key</th><th>full_date</th><th>date_name</th><th>date_name_us</th><th>date_name_eu</th><th>day_of_week</th><th>day_name_of_week</th><th>day_of_month</th><th>day_of_year</th><th>weekday_weekend</th><th>week_of_year</th><th>month_name</th><th>month_of_year</th><th>is_last_day_of_month</th><th>calendar_quarter</th><th>calendar_year</th><th>calendar_year_month</th><th>calendar_year_qtr</th><th>fiscal_month_of_year</th><th>fiscal_quarter</th><th>fiscal_year</th><th>fiscal_year_month</th><th>fiscal_year_qtr</th></tr></thead><tbody><tr><td>20050101</td><td>2005-01-01</td><td>2005/01/01</td><td>01/01/2005</td><td>01/01/2005</td><td>7</td><td>Saturday</td><td>1</td><td>1</td><td>Weekend</td><td>53</td><td>January</td><td>1</td><td>N</td><td>1</td><td>2005</td><td>2005-01</td><td>2005Q1</td><td>7</td><td>3</td><td>2005</td><td>2005-07</td><td>2005Q3</td></tr><tr><td>20050102</td><td>2005-01-02</td><td>2005/01/02</td><td>01/02/2005</td><td>02/01/2005</td><td>1</td><td>Sunday</td><td>2</td><td>2</td><td>Weekend</td><td>53</td><td>January</td><td>1</td><td>N</td><td>1</td><td>2005</td><td>2005-01</td><td>2005Q1</td><td>7</td><td>3</td><td>2005</td><td>2005-07</td><td>2005Q3</td></tr><tr><td>20050103</td><td>2005-01-03</td><td>2005/01/03</td><td>01/03/2005</td><td>03/01/2005</td><td>2</td><td>Monday</td><td>3</td><td>3</td><td>Weekday</td><td>1</td><td>January</td><td>1</td><td>N</td><td>1</td><td>2005</td><td>2005-01</td><td>2005Q1</td><td>7</td><td>3</td><td>2005</td><td>2005-07</td><td>2005Q3</td></tr><tr><td>20050104</td><td>2005-01-04</td><td>2005/01/04</td><td>01/04/2005</td><td>04/01/2005</td><td>3</td><td>Tuesday</td><td>4</td><td>4</td><td>Weekday</td><td>1</td><td>January</td><td>1</td><td>N</td><td>1</td><td>2005</td><td>2005-01</td><td>2005Q1</td><td>7</td><td>3</td><td>2005</td><td>2005-07</td><td>2005Q3</td></tr><tr><td>20050105</td><td>2005-01-05</td><td>2005/01/05</td><td>01/05/2005</td><td>05/01/2005</td><td>4</td><td>Wednesday</td><td>5</td><td>5</td><td>Weekday</td><td>1</td><td>January</td><td>1</td><td>N</td><td>1</td><td>2005</td><td>2005-01</td><td>2005Q1</td><td>7</td><td>3</td><td>2005</td><td>2005-07</td><td>2005Q3</td></tr></tbody></table></div>"
      ]
     },
     "metadata": {
      "application/vnd.databricks.v1+output": {
       "addedWidgets": {},
       "aggData": [],
       "aggError": "",
       "aggOverflow": false,
       "aggSchema": [],
       "aggSeriesLimitReached": false,
       "aggType": "",
       "arguments": {},
       "columnCustomDisplayInfos": {},
       "data": [
        [
         20050101,
         "2005-01-01",
         "2005/01/01",
         "01/01/2005",
         "01/01/2005",
         7,
         "Saturday",
         1,
         1,
         "Weekend",
         53,
         "January",
         1,
         "N",
         1,
         2005,
         "2005-01",
         "2005Q1",
         7,
         3,
         2005,
         "2005-07",
         "2005Q3"
        ],
        [
         20050102,
         "2005-01-02",
         "2005/01/02",
         "01/02/2005",
         "02/01/2005",
         1,
         "Sunday",
         2,
         2,
         "Weekend",
         53,
         "January",
         1,
         "N",
         1,
         2005,
         "2005-01",
         "2005Q1",
         7,
         3,
         2005,
         "2005-07",
         "2005Q3"
        ],
        [
         20050103,
         "2005-01-03",
         "2005/01/03",
         "01/03/2005",
         "03/01/2005",
         2,
         "Monday",
         3,
         3,
         "Weekday",
         1,
         "January",
         1,
         "N",
         1,
         2005,
         "2005-01",
         "2005Q1",
         7,
         3,
         2005,
         "2005-07",
         "2005Q3"
        ],
        [
         20050104,
         "2005-01-04",
         "2005/01/04",
         "01/04/2005",
         "04/01/2005",
         3,
         "Tuesday",
         4,
         4,
         "Weekday",
         1,
         "January",
         1,
         "N",
         1,
         2005,
         "2005-01",
         "2005Q1",
         7,
         3,
         2005,
         "2005-07",
         "2005Q3"
        ],
        [
         20050105,
         "2005-01-05",
         "2005/01/05",
         "01/05/2005",
         "05/01/2005",
         4,
         "Wednesday",
         5,
         5,
         "Weekday",
         1,
         "January",
         1,
         "N",
         1,
         2005,
         "2005-01",
         "2005Q1",
         7,
         3,
         2005,
         "2005-07",
         "2005Q3"
        ]
       ],
       "datasetInfos": [],
       "dbfsResultPath": null,
       "isJsonSchema": true,
       "metadata": {},
       "overflow": false,
       "plotOptions": {
        "customPlotOptions": {},
        "displayType": "table",
        "pivotAggregation": null,
        "pivotColumns": null,
        "xColumns": null,
        "yColumns": null
       },
       "removedWidgets": [],
       "schema": [
        {
         "metadata": "{\"scale\":0}",
         "name": "date_key",
         "type": "\"integer\""
        },
        {
         "metadata": "{\"scale\":0}",
         "name": "full_date",
         "type": "\"date\""
        },
        {
         "metadata": "{\"scale\":0}",
         "name": "date_name",
         "type": "\"string\""
        },
        {
         "metadata": "{\"scale\":0}",
         "name": "date_name_us",
         "type": "\"string\""
        },
        {
         "metadata": "{\"scale\":0}",
         "name": "date_name_eu",
         "type": "\"string\""
        },
        {
         "metadata": "{\"scale\":0}",
         "name": "day_of_week",
         "type": "\"integer\""
        },
        {
         "metadata": "{\"scale\":0}",
         "name": "day_name_of_week",
         "type": "\"string\""
        },
        {
         "metadata": "{\"scale\":0}",
         "name": "day_of_month",
         "type": "\"integer\""
        },
        {
         "metadata": "{\"scale\":0}",
         "name": "day_of_year",
         "type": "\"integer\""
        },
        {
         "metadata": "{\"scale\":0}",
         "name": "weekday_weekend",
         "type": "\"string\""
        },
        {
         "metadata": "{\"scale\":0}",
         "name": "week_of_year",
         "type": "\"integer\""
        },
        {
         "metadata": "{\"scale\":0}",
         "name": "month_name",
         "type": "\"string\""
        },
        {
         "metadata": "{\"scale\":0}",
         "name": "month_of_year",
         "type": "\"integer\""
        },
        {
         "metadata": "{\"scale\":0}",
         "name": "is_last_day_of_month",
         "type": "\"string\""
        },
        {
         "metadata": "{\"scale\":0}",
         "name": "calendar_quarter",
         "type": "\"integer\""
        },
        {
         "metadata": "{\"scale\":0}",
         "name": "calendar_year",
         "type": "\"integer\""
        },
        {
         "metadata": "{\"scale\":0}",
         "name": "calendar_year_month",
         "type": "\"string\""
        },
        {
         "metadata": "{\"scale\":0}",
         "name": "calendar_year_qtr",
         "type": "\"string\""
        },
        {
         "metadata": "{\"scale\":0}",
         "name": "fiscal_month_of_year",
         "type": "\"integer\""
        },
        {
         "metadata": "{\"scale\":0}",
         "name": "fiscal_quarter",
         "type": "\"integer\""
        },
        {
         "metadata": "{\"scale\":0}",
         "name": "fiscal_year",
         "type": "\"integer\""
        },
        {
         "metadata": "{\"scale\":0}",
         "name": "fiscal_year_month",
         "type": "\"string\""
        },
        {
         "metadata": "{\"scale\":0}",
         "name": "fiscal_year_qtr",
         "type": "\"string\""
        }
       ],
       "type": "table"
      }
     },
     "output_type": "display_data"
    }
   ],
   "source": [
    "%sql\n",
    "SELECT * FROM sakila_dlh.dim_date LIMIT 5"
   ]
  },
  {
   "cell_type": "markdown",
   "metadata": {
    "application/vnd.databricks.v1+cell": {
     "cellMetadata": {},
     "inputWidgets": {},
     "nuid": "c15f580a-989b-4a6a-bf5c-e50d3a8d3885",
     "showTitle": false,
     "title": ""
    }
   },
   "source": [
    "##### A new table that sources inventory table from Azure MySql"
   ]
  },
  {
   "cell_type": "code",
   "execution_count": 0,
   "metadata": {
    "application/vnd.databricks.v1+cell": {
     "cellMetadata": {
      "byteLimit": 2048000,
      "implicitDf": true,
      "rowLimit": 10000
     },
     "inputWidgets": {},
     "nuid": "7bb46df0-4476-4cda-86a1-f4cf614113fa",
     "showTitle": false,
     "title": ""
    }
   },
   "outputs": [
    {
     "output_type": "display_data",
     "data": {
      "text/html": [
       "<style scoped>\n",
       "  .table-result-container {\n",
       "    max-height: 300px;\n",
       "    overflow: auto;\n",
       "  }\n",
       "  table, th, td {\n",
       "    border: 1px solid black;\n",
       "    border-collapse: collapse;\n",
       "  }\n",
       "  th, td {\n",
       "    padding: 5px;\n",
       "  }\n",
       "  th {\n",
       "    text-align: left;\n",
       "  }\n",
       "</style><div class='table-result-container'><table class='table-result'><thead style='background-color: white'><tr></tr></thead><tbody></tbody></table></div>"
      ]
     },
     "metadata": {
      "application/vnd.databricks.v1+output": {
       "addedWidgets": {},
       "aggData": [],
       "aggError": "",
       "aggOverflow": false,
       "aggSchema": [],
       "aggSeriesLimitReached": false,
       "aggType": "",
       "arguments": {},
       "columnCustomDisplayInfos": {},
       "data": [],
       "datasetInfos": [],
       "dbfsResultPath": null,
       "isJsonSchema": true,
       "metadata": {},
       "overflow": false,
       "plotOptions": {
        "customPlotOptions": {},
        "displayType": "table",
        "pivotAggregation": null,
        "pivotColumns": null,
        "xColumns": null,
        "yColumns": null
       },
       "removedWidgets": [],
       "schema": [],
       "type": "table"
      }
     },
     "output_type": "display_data"
    }
   ],
   "source": [
    "%sql\n",
    "-- Create a Temporary View named \"view_inventory\" that extracts data from your MySQL Northwind database.\n",
    "CREATE OR REPLACE TEMPORARY VIEW view_inventory\n",
    "USING org.apache.spark.sql.jdbc\n",
    "OPTIONS (\n",
    "  url \"jdbc:mysql://aps6cuq-mysql.mysql.database.azure.com:3306/sakila\", dbtable \"dim_inventory\",  \n",
    "  user \"asmith\",\n",
    "  password \"W0rking123\"\n",
    ")"
   ]
  },
  {
   "cell_type": "code",
   "execution_count": 0,
   "metadata": {
    "application/vnd.databricks.v1+cell": {
     "cellMetadata": {
      "byteLimit": 2048000,
      "implicitDf": true,
      "rowLimit": 10000
     },
     "inputWidgets": {},
     "nuid": "23d0585b-87f4-4f85-affa-3637c5e073f5",
     "showTitle": false,
     "title": ""
    }
   },
   "outputs": [
    {
     "output_type": "display_data",
     "data": {
      "text/html": [
       "<style scoped>\n",
       "  .table-result-container {\n",
       "    max-height: 300px;\n",
       "    overflow: auto;\n",
       "  }\n",
       "  table, th, td {\n",
       "    border: 1px solid black;\n",
       "    border-collapse: collapse;\n",
       "  }\n",
       "  th, td {\n",
       "    padding: 5px;\n",
       "  }\n",
       "  th {\n",
       "    text-align: left;\n",
       "  }\n",
       "</style><div class='table-result-container'><table class='table-result'><thead style='background-color: white'><tr><th>num_affected_rows</th><th>num_inserted_rows</th></tr></thead><tbody></tbody></table></div>"
      ]
     },
     "metadata": {
      "application/vnd.databricks.v1+output": {
       "addedWidgets": {},
       "aggData": [],
       "aggError": "",
       "aggOverflow": false,
       "aggSchema": [],
       "aggSeriesLimitReached": false,
       "aggType": "",
       "arguments": {},
       "columnCustomDisplayInfos": {},
       "data": [],
       "datasetInfos": [],
       "dbfsResultPath": null,
       "isJsonSchema": true,
       "metadata": {},
       "overflow": false,
       "plotOptions": {
        "customPlotOptions": {},
        "displayType": "table",
        "pivotAggregation": null,
        "pivotColumns": null,
        "xColumns": null,
        "yColumns": null
       },
       "removedWidgets": [],
       "schema": [
        {
         "metadata": "{}",
         "name": "num_affected_rows",
         "type": "\"long\""
        },
        {
         "metadata": "{}",
         "name": "num_inserted_rows",
         "type": "\"long\""
        }
       ],
       "type": "table"
      }
     },
     "output_type": "display_data"
    }
   ],
   "source": [
    "%sql\n",
    "USE DATABASE sakila_dlh;\n",
    "\n",
    "-- Create a new table named \"sakila_dlh.dim_inventory\" using data from the view named \"view_inventory\"\n",
    "CREATE OR REPLACE TABLE sakila_dlh.dim_inventory\n",
    "COMMENT \"Inventory Dimension Table\"\n",
    "LOCATION \"dbfs:/FileStore/ds2002-final-project/sakila_dlh/dim_inventory\"\n",
    "AS SELECT * FROM view_inventory"
   ]
  },
  {
   "cell_type": "code",
   "execution_count": 0,
   "metadata": {
    "application/vnd.databricks.v1+cell": {
     "cellMetadata": {
      "byteLimit": 2048000,
      "implicitDf": true,
      "rowLimit": 10000
     },
     "inputWidgets": {},
     "nuid": "f6acafaa-98f3-4b1d-9e14-3466c82c1e6a",
     "showTitle": false,
     "title": ""
    }
   },
   "outputs": [
    {
     "output_type": "display_data",
     "data": {
      "text/html": [
       "<style scoped>\n",
       "  .table-result-container {\n",
       "    max-height: 300px;\n",
       "    overflow: auto;\n",
       "  }\n",
       "  table, th, td {\n",
       "    border: 1px solid black;\n",
       "    border-collapse: collapse;\n",
       "  }\n",
       "  th, td {\n",
       "    padding: 5px;\n",
       "  }\n",
       "  th {\n",
       "    text-align: left;\n",
       "  }\n",
       "</style><div class='table-result-container'><table class='table-result'><thead style='background-color: white'><tr><th>col_name</th><th>data_type</th><th>comment</th></tr></thead><tbody><tr><td>inventory_id</td><td>int</td><td>null</td></tr><tr><td>film_id</td><td>int</td><td>null</td></tr><tr><td>store_id</td><td>int</td><td>null</td></tr><tr><td>last_update</td><td>string</td><td>null</td></tr><tr><td></td><td></td><td></td></tr><tr><td># Detailed Table Information</td><td></td><td></td></tr><tr><td>Catalog</td><td>spark_catalog</td><td></td></tr><tr><td>Database</td><td>sakila_dlh</td><td></td></tr><tr><td>Table</td><td>dim_inventory</td><td></td></tr><tr><td>Type</td><td>EXTERNAL</td><td></td></tr><tr><td>Comment</td><td>Inventory Dimension Table</td><td></td></tr><tr><td>Location</td><td>dbfs:/FileStore/ds2002-final-project/sakila_dlh/dim_inventory</td><td></td></tr><tr><td>Provider</td><td>delta</td><td></td></tr><tr><td>Owner</td><td>root</td><td></td></tr><tr><td>Table Properties</td><td>[delta.minReaderVersion=1,delta.minWriterVersion=2]</td><td></td></tr></tbody></table></div>"
      ]
     },
     "metadata": {
      "application/vnd.databricks.v1+output": {
       "addedWidgets": {},
       "aggData": [],
       "aggError": "",
       "aggOverflow": false,
       "aggSchema": [],
       "aggSeriesLimitReached": false,
       "aggType": "",
       "arguments": {},
       "columnCustomDisplayInfos": {},
       "data": [
        [
         "inventory_id",
         "int",
         null
        ],
        [
         "film_id",
         "int",
         null
        ],
        [
         "store_id",
         "int",
         null
        ],
        [
         "last_update",
         "string",
         null
        ],
        [
         "",
         "",
         ""
        ],
        [
         "# Detailed Table Information",
         "",
         ""
        ],
        [
         "Catalog",
         "spark_catalog",
         ""
        ],
        [
         "Database",
         "sakila_dlh",
         ""
        ],
        [
         "Table",
         "dim_inventory",
         ""
        ],
        [
         "Type",
         "EXTERNAL",
         ""
        ],
        [
         "Comment",
         "Inventory Dimension Table",
         ""
        ],
        [
         "Location",
         "dbfs:/FileStore/ds2002-final-project/sakila_dlh/dim_inventory",
         ""
        ],
        [
         "Provider",
         "delta",
         ""
        ],
        [
         "Owner",
         "root",
         ""
        ],
        [
         "Table Properties",
         "[delta.minReaderVersion=1,delta.minWriterVersion=2]",
         ""
        ]
       ],
       "datasetInfos": [],
       "dbfsResultPath": null,
       "isJsonSchema": true,
       "metadata": {},
       "overflow": false,
       "plotOptions": {
        "customPlotOptions": {},
        "displayType": "table",
        "pivotAggregation": null,
        "pivotColumns": null,
        "xColumns": null,
        "yColumns": null
       },
       "removedWidgets": [],
       "schema": [
        {
         "metadata": "{\"comment\":\"name of the column\"}",
         "name": "col_name",
         "type": "\"string\""
        },
        {
         "metadata": "{\"comment\":\"data type of the column\"}",
         "name": "data_type",
         "type": "\"string\""
        },
        {
         "metadata": "{\"comment\":\"comment of the column\"}",
         "name": "comment",
         "type": "\"string\""
        }
       ],
       "type": "table"
      }
     },
     "output_type": "display_data"
    }
   ],
   "source": [
    "%sql\n",
    "DESCRIBE EXTENDED sakila_dlh.dim_inventory;"
   ]
  },
  {
   "cell_type": "code",
   "execution_count": 0,
   "metadata": {
    "application/vnd.databricks.v1+cell": {
     "cellMetadata": {
      "byteLimit": 2048000,
      "implicitDf": true,
      "rowLimit": 10000
     },
     "inputWidgets": {},
     "nuid": "fc516608-0ca2-4c2f-b390-e56aca76b87d",
     "showTitle": false,
     "title": ""
    }
   },
   "outputs": [
    {
     "output_type": "display_data",
     "data": {
      "text/html": [
       "<style scoped>\n",
       "  .table-result-container {\n",
       "    max-height: 300px;\n",
       "    overflow: auto;\n",
       "  }\n",
       "  table, th, td {\n",
       "    border: 1px solid black;\n",
       "    border-collapse: collapse;\n",
       "  }\n",
       "  th, td {\n",
       "    padding: 5px;\n",
       "  }\n",
       "  th {\n",
       "    text-align: left;\n",
       "  }\n",
       "</style><div class='table-result-container'><table class='table-result'><thead style='background-color: white'><tr><th>inventory_id</th><th>film_id</th><th>store_id</th><th>last_update</th></tr></thead><tbody><tr><td>1</td><td>1</td><td>1</td><td>2006-02-15 05:09:17</td></tr><tr><td>2</td><td>1</td><td>1</td><td>2006-02-15 05:09:17</td></tr><tr><td>3</td><td>1</td><td>1</td><td>2006-02-15 05:09:17</td></tr><tr><td>4</td><td>1</td><td>1</td><td>2006-02-15 05:09:17</td></tr><tr><td>5</td><td>1</td><td>2</td><td>2006-02-15 05:09:17</td></tr></tbody></table></div>"
      ]
     },
     "metadata": {
      "application/vnd.databricks.v1+output": {
       "addedWidgets": {},
       "aggData": [],
       "aggError": "",
       "aggOverflow": false,
       "aggSchema": [],
       "aggSeriesLimitReached": false,
       "aggType": "",
       "arguments": {},
       "columnCustomDisplayInfos": {},
       "data": [
        [
         1,
         1,
         1,
         "2006-02-15 05:09:17"
        ],
        [
         2,
         1,
         1,
         "2006-02-15 05:09:17"
        ],
        [
         3,
         1,
         1,
         "2006-02-15 05:09:17"
        ],
        [
         4,
         1,
         1,
         "2006-02-15 05:09:17"
        ],
        [
         5,
         1,
         2,
         "2006-02-15 05:09:17"
        ]
       ],
       "datasetInfos": [],
       "dbfsResultPath": null,
       "isJsonSchema": true,
       "metadata": {},
       "overflow": false,
       "plotOptions": {
        "customPlotOptions": {},
        "displayType": "table",
        "pivotAggregation": null,
        "pivotColumns": null,
        "xColumns": null,
        "yColumns": null
       },
       "removedWidgets": [],
       "schema": [
        {
         "metadata": "{\"scale\":0}",
         "name": "inventory_id",
         "type": "\"integer\""
        },
        {
         "metadata": "{\"scale\":0}",
         "name": "film_id",
         "type": "\"integer\""
        },
        {
         "metadata": "{\"scale\":0}",
         "name": "store_id",
         "type": "\"integer\""
        },
        {
         "metadata": "{\"scale\":0}",
         "name": "last_update",
         "type": "\"string\""
        }
       ],
       "type": "table"
      }
     },
     "output_type": "display_data"
    }
   ],
   "source": [
    "%sql\n",
    "SELECT * FROM sakila_dlh.dim_inventory LIMIT 5"
   ]
  },
  {
   "cell_type": "markdown",
   "metadata": {
    "application/vnd.databricks.v1+cell": {
     "cellMetadata": {},
     "inputWidgets": {},
     "nuid": "5763da8c-b2df-4cfa-83e6-0e05503ddce0",
     "showTitle": false,
     "title": ""
    }
   },
   "source": [
    "#### Fetching Reference Data from a MongoDB Atlas Database\n",
    "##### Viewing the data files on Databricks"
   ]
  },
  {
   "cell_type": "code",
   "execution_count": 0,
   "metadata": {
    "application/vnd.databricks.v1+cell": {
     "cellMetadata": {
      "byteLimit": 2048000,
      "rowLimit": 10000
     },
     "inputWidgets": {},
     "nuid": "fcd0ce73-5fc9-48b1-9ee8-0ffaf402407f",
     "showTitle": false,
     "title": ""
    }
   },
   "outputs": [
    {
     "output_type": "display_data",
     "data": {
      "text/html": [
       "<style scoped>\n",
       "  .table-result-container {\n",
       "    max-height: 300px;\n",
       "    overflow: auto;\n",
       "  }\n",
       "  table, th, td {\n",
       "    border: 1px solid black;\n",
       "    border-collapse: collapse;\n",
       "  }\n",
       "  th, td {\n",
       "    padding: 5px;\n",
       "  }\n",
       "  th {\n",
       "    text-align: left;\n",
       "  }\n",
       "</style><div class='table-result-container'><table class='table-result'><thead style='background-color: white'><tr><th>path</th><th>name</th><th>size</th><th>modificationTime</th></tr></thead><tbody><tr><td>dbfs:/FileStore/ds2002-final-project/source_data/batch/dim_customer.csv</td><td>dim_customer.csv</td><td>65638</td><td>1683930422000</td></tr><tr><td>dbfs:/FileStore/ds2002-final-project/source_data/batch/dim_customer.json</td><td>dim_customer.json</td><td>136808</td><td>1683930757000</td></tr><tr><td>dbfs:/FileStore/ds2002-final-project/source_data/batch/dim_payment.json</td><td>dim_payment.json</td><td>2622206</td><td>1683930423000</td></tr><tr><td>dbfs:/FileStore/ds2002-final-project/source_data/batch/dim_rental.csv</td><td>dim_rental.csv</td><td>1326452</td><td>1683930423000</td></tr><tr><td>dbfs:/FileStore/ds2002-final-project/source_data/batch/dim_staff.csv</td><td>dim_staff.csv</td><td>331</td><td>1683931595000</td></tr><tr><td>dbfs:/FileStore/ds2002-final-project/source_data/batch/dim_staff.json</td><td>dim_staff.json</td><td>466</td><td>1683930423000</td></tr></tbody></table></div>"
      ]
     },
     "metadata": {
      "application/vnd.databricks.v1+output": {
       "addedWidgets": {},
       "aggData": [],
       "aggError": "",
       "aggOverflow": false,
       "aggSchema": [],
       "aggSeriesLimitReached": false,
       "aggType": "",
       "arguments": {},
       "columnCustomDisplayInfos": {},
       "data": [
        [
         "dbfs:/FileStore/ds2002-final-project/source_data/batch/dim_customer.csv",
         "dim_customer.csv",
         65638,
         1683930422000
        ],
        [
         "dbfs:/FileStore/ds2002-final-project/source_data/batch/dim_customer.json",
         "dim_customer.json",
         136808,
         1683930757000
        ],
        [
         "dbfs:/FileStore/ds2002-final-project/source_data/batch/dim_payment.json",
         "dim_payment.json",
         2622206,
         1683930423000
        ],
        [
         "dbfs:/FileStore/ds2002-final-project/source_data/batch/dim_rental.csv",
         "dim_rental.csv",
         1326452,
         1683930423000
        ],
        [
         "dbfs:/FileStore/ds2002-final-project/source_data/batch/dim_staff.csv",
         "dim_staff.csv",
         331,
         1683931595000
        ],
        [
         "dbfs:/FileStore/ds2002-final-project/source_data/batch/dim_staff.json",
         "dim_staff.json",
         466,
         1683930423000
        ]
       ],
       "datasetInfos": [],
       "dbfsResultPath": null,
       "isJsonSchema": true,
       "metadata": {},
       "overflow": false,
       "plotOptions": {
        "customPlotOptions": {},
        "displayType": "table",
        "pivotAggregation": null,
        "pivotColumns": null,
        "xColumns": null,
        "yColumns": null
       },
       "removedWidgets": [],
       "schema": [
        {
         "metadata": "{}",
         "name": "path",
         "type": "\"string\""
        },
        {
         "metadata": "{}",
         "name": "name",
         "type": "\"string\""
        },
        {
         "metadata": "{}",
         "name": "size",
         "type": "\"long\""
        },
        {
         "metadata": "{}",
         "name": "modificationTime",
         "type": "\"long\""
        }
       ],
       "type": "table"
      }
     },
     "output_type": "display_data"
    }
   ],
   "source": [
    "display(dbutils.fs.ls(batch_dir))"
   ]
  },
  {
   "cell_type": "markdown",
   "metadata": {
    "application/vnd.databricks.v1+cell": {
     "cellMetadata": {},
     "inputWidgets": {},
     "nuid": "0e943953-1c04-43a3-b117-01980bfefbf9",
     "showTitle": false,
     "title": ""
    }
   },
   "source": [
    "##### Loading customer JSON table into a MongoDB collection"
   ]
  },
  {
   "cell_type": "code",
   "execution_count": 0,
   "metadata": {
    "application/vnd.databricks.v1+cell": {
     "cellMetadata": {
      "byteLimit": 2048000,
      "rowLimit": 10000
     },
     "inputWidgets": {},
     "nuid": "12764988-6562-4070-af68-697ca403bfe3",
     "showTitle": false,
     "title": ""
    }
   },
   "outputs": [
    {
     "output_type": "stream",
     "name": "stdout",
     "output_type": "stream",
     "text": [
      "Out[267]: <pymongo.results.InsertManyResult at 0x7f011f9dd440>"
     ]
    }
   ],
   "source": [
    "source_dir = '/dbfs/FileStore/ds2002-final-project/source_data/batch'\n",
    "csv_files = {\"dim_customer\" : 'dim_customer.json'}\n",
    "\n",
    "set_mongo_collection(atlas_user_name, atlas_password, atlas_cluster_name, atlas_database_name, source_dir, json_files) "
   ]
  },
  {
   "cell_type": "markdown",
   "metadata": {
    "application/vnd.databricks.v1+cell": {
     "cellMetadata": {},
     "inputWidgets": {},
     "nuid": "675d2e83-b51d-48ef-937d-f8beacb86fb6",
     "showTitle": false,
     "title": ""
    }
   },
   "source": [
    "##### Fetching customer table from that same collection"
   ]
  },
  {
   "cell_type": "code",
   "execution_count": 0,
   "metadata": {
    "application/vnd.databricks.v1+cell": {
     "cellMetadata": {
      "byteLimit": 2048000,
      "rowLimit": 10000
     },
     "inputWidgets": {},
     "nuid": "c5029015-be65-49ed-b2e7-eb60d22013ca",
     "showTitle": false,
     "title": ""
    }
   },
   "outputs": [
    {
     "output_type": "display_data",
     "data": {
      "text/html": [
       "<style scoped>\n",
       "  .table-result-container {\n",
       "    max-height: 300px;\n",
       "    overflow: auto;\n",
       "  }\n",
       "  table, th, td {\n",
       "    border: 1px solid black;\n",
       "    border-collapse: collapse;\n",
       "  }\n",
       "  th, td {\n",
       "    padding: 5px;\n",
       "  }\n",
       "  th {\n",
       "    text-align: left;\n",
       "  }\n",
       "</style><div class='table-result-container'><table class='table-result'><thead style='background-color: white'><tr><th>_id</th><th>active</th><th>address_id</th><th>create_date</th><th>customer_id</th><th>email</th><th>first_name</th><th>last_name</th><th>last_update</th><th>store_id</th></tr></thead><tbody><tr><td>List(645f0597137e8ac5f772a406)</td><td>1</td><td>5</td><td>2006-02-14 22:04:36</td><td>1</td><td>MARY.SMITH@sakilacustomer.org</td><td>MARY</td><td>SMITH</td><td>2006-02-15 04:57:20</td><td>1</td></tr><tr><td>List(645f0597137e8ac5f772a407)</td><td>1</td><td>6</td><td>2006-02-14 22:04:36</td><td>2</td><td>PATRICIA.JOHNSON@sakilacustomer.org</td><td>PATRICIA</td><td>JOHNSON</td><td>2006-02-15 04:57:20</td><td>1</td></tr><tr><td>List(645f0597137e8ac5f772a408)</td><td>1</td><td>7</td><td>2006-02-14 22:04:36</td><td>3</td><td>LINDA.WILLIAMS@sakilacustomer.org</td><td>LINDA</td><td>WILLIAMS</td><td>2006-02-15 04:57:20</td><td>1</td></tr><tr><td>List(645f0597137e8ac5f772a409)</td><td>1</td><td>8</td><td>2006-02-14 22:04:36</td><td>4</td><td>BARBARA.JONES@sakilacustomer.org</td><td>BARBARA</td><td>JONES</td><td>2006-02-15 04:57:20</td><td>2</td></tr><tr><td>List(645f0597137e8ac5f772a40a)</td><td>1</td><td>9</td><td>2006-02-14 22:04:36</td><td>5</td><td>ELIZABETH.BROWN@sakilacustomer.org</td><td>ELIZABETH</td><td>BROWN</td><td>2006-02-15 04:57:20</td><td>1</td></tr></tbody></table></div>"
      ]
     },
     "metadata": {
      "application/vnd.databricks.v1+output": {
       "addedWidgets": {},
       "aggData": [],
       "aggError": "",
       "aggOverflow": false,
       "aggSchema": [],
       "aggSeriesLimitReached": false,
       "aggType": "",
       "arguments": {},
       "columnCustomDisplayInfos": {},
       "data": [
        [
         [
          "645f0597137e8ac5f772a406"
         ],
         1,
         5,
         "2006-02-14 22:04:36",
         1,
         "MARY.SMITH@sakilacustomer.org",
         "MARY",
         "SMITH",
         "2006-02-15 04:57:20",
         1
        ],
        [
         [
          "645f0597137e8ac5f772a407"
         ],
         1,
         6,
         "2006-02-14 22:04:36",
         2,
         "PATRICIA.JOHNSON@sakilacustomer.org",
         "PATRICIA",
         "JOHNSON",
         "2006-02-15 04:57:20",
         1
        ],
        [
         [
          "645f0597137e8ac5f772a408"
         ],
         1,
         7,
         "2006-02-14 22:04:36",
         3,
         "LINDA.WILLIAMS@sakilacustomer.org",
         "LINDA",
         "WILLIAMS",
         "2006-02-15 04:57:20",
         1
        ],
        [
         [
          "645f0597137e8ac5f772a409"
         ],
         1,
         8,
         "2006-02-14 22:04:36",
         4,
         "BARBARA.JONES@sakilacustomer.org",
         "BARBARA",
         "JONES",
         "2006-02-15 04:57:20",
         2
        ],
        [
         [
          "645f0597137e8ac5f772a40a"
         ],
         1,
         9,
         "2006-02-14 22:04:36",
         5,
         "ELIZABETH.BROWN@sakilacustomer.org",
         "ELIZABETH",
         "BROWN",
         "2006-02-15 04:57:20",
         1
        ]
       ],
       "datasetInfos": [
        {
         "name": "df_customer",
         "schema": {
          "fields": [
           {
            "metadata": {},
            "name": "_id",
            "nullable": true,
            "type": {
             "fields": [
              {
               "metadata": {},
               "name": "oid",
               "nullable": true,
               "type": "string"
              }
             ],
             "type": "struct"
            }
           },
           {
            "metadata": {},
            "name": "active",
            "nullable": true,
            "type": "integer"
           },
           {
            "metadata": {},
            "name": "address_id",
            "nullable": true,
            "type": "integer"
           },
           {
            "metadata": {},
            "name": "create_date",
            "nullable": true,
            "type": "string"
           },
           {
            "metadata": {},
            "name": "customer_id",
            "nullable": true,
            "type": "integer"
           },
           {
            "metadata": {},
            "name": "email",
            "nullable": true,
            "type": "string"
           },
           {
            "metadata": {},
            "name": "first_name",
            "nullable": true,
            "type": "string"
           },
           {
            "metadata": {},
            "name": "last_name",
            "nullable": true,
            "type": "string"
           },
           {
            "metadata": {},
            "name": "last_update",
            "nullable": true,
            "type": "string"
           },
           {
            "metadata": {},
            "name": "store_id",
            "nullable": true,
            "type": "integer"
           }
          ],
          "type": "struct"
         },
         "tableIdentifier": null,
         "typeStr": "org.apache.spark.sql.DataFrame"
        }
       ],
       "dbfsResultPath": null,
       "isJsonSchema": true,
       "metadata": {
        "isDbfsCommandResult": false
       },
       "overflow": false,
       "plotOptions": {
        "customPlotOptions": {},
        "displayType": "table",
        "pivotAggregation": null,
        "pivotColumns": null,
        "xColumns": null,
        "yColumns": null
       },
       "removedWidgets": [],
       "schema": [
        {
         "metadata": "{}",
         "name": "_id",
         "type": "{\"type\":\"struct\",\"fields\":[{\"name\":\"oid\",\"type\":\"string\",\"nullable\":true,\"metadata\":{}}]}"
        },
        {
         "metadata": "{}",
         "name": "active",
         "type": "\"integer\""
        },
        {
         "metadata": "{}",
         "name": "address_id",
         "type": "\"integer\""
        },
        {
         "metadata": "{}",
         "name": "create_date",
         "type": "\"string\""
        },
        {
         "metadata": "{}",
         "name": "customer_id",
         "type": "\"integer\""
        },
        {
         "metadata": "{}",
         "name": "email",
         "type": "\"string\""
        },
        {
         "metadata": "{}",
         "name": "first_name",
         "type": "\"string\""
        },
        {
         "metadata": "{}",
         "name": "last_name",
         "type": "\"string\""
        },
        {
         "metadata": "{}",
         "name": "last_update",
         "type": "\"string\""
        },
        {
         "metadata": "{}",
         "name": "store_id",
         "type": "\"integer\""
        }
       ],
       "type": "table"
      }
     },
     "output_type": "display_data"
    }
   ],
   "source": [
    "%scala\n",
    "import com.mongodb.spark._\n",
    "\n",
    "val df_customer = spark.read.format(\"com.mongodb.spark.sql.DefaultSource\")\n",
    ".option(\"database\", \"sakila\").option(\"collection\", \"dim_customer\").load()\n",
    "\n",
    "display(df_customer.head(5))"
   ]
  },
  {
   "cell_type": "code",
   "execution_count": 0,
   "metadata": {
    "application/vnd.databricks.v1+cell": {
     "cellMetadata": {
      "byteLimit": 2048000,
      "rowLimit": 10000
     },
     "inputWidgets": {},
     "nuid": "4d62a4b0-3071-400f-8bbb-5a89f3c91d5c",
     "showTitle": false,
     "title": ""
    }
   },
   "outputs": [
    {
     "output_type": "display_data",
     "data": {
      "text/html": [
       "<style scoped>\n",
       "  .ansiout {\n",
       "    display: block;\n",
       "    unicode-bidi: embed;\n",
       "    white-space: pre-wrap;\n",
       "    word-wrap: break-word;\n",
       "    word-break: break-all;\n",
       "    font-family: \"Source Code Pro\", \"Menlo\", monospace;;\n",
       "    font-size: 13px;\n",
       "    color: #555;\n",
       "    margin-left: 4px;\n",
       "    line-height: 19px;\n",
       "  }\n",
       "</style>\n",
       "<div class=\"ansiout\">root\n",
       "-- _id: struct (nullable = true)\n",
       "    |-- oid: string (nullable = true)\n",
       "-- active: integer (nullable = true)\n",
       "-- address_id: integer (nullable = true)\n",
       "-- create_date: string (nullable = true)\n",
       "-- customer_id: integer (nullable = true)\n",
       "-- email: string (nullable = true)\n",
       "-- first_name: string (nullable = true)\n",
       "-- last_name: string (nullable = true)\n",
       "-- last_update: string (nullable = true)\n",
       "-- store_id: integer (nullable = true)\n",
       "\n",
       "</div>"
      ]
     },
     "metadata": {
      "application/vnd.databricks.v1+output": {
       "addedWidgets": {},
       "arguments": {},
       "data": "<div class=\"ansiout\">root\n |-- _id: struct (nullable = true)\n |    |-- oid: string (nullable = true)\n |-- active: integer (nullable = true)\n |-- address_id: integer (nullable = true)\n |-- create_date: string (nullable = true)\n |-- customer_id: integer (nullable = true)\n |-- email: string (nullable = true)\n |-- first_name: string (nullable = true)\n |-- last_name: string (nullable = true)\n |-- last_update: string (nullable = true)\n |-- store_id: integer (nullable = true)\n\n</div>",
       "datasetInfos": [],
       "metadata": {
        "isDbfsCommandResult": false
       },
       "removedWidgets": [],
       "type": "html"
      }
     },
     "output_type": "display_data"
    }
   ],
   "source": [
    "%scala\n",
    "df_customer.printSchema()"
   ]
  },
  {
   "cell_type": "markdown",
   "metadata": {
    "application/vnd.databricks.v1+cell": {
     "cellMetadata": {},
     "inputWidgets": {},
     "nuid": "179f0875-98bd-4988-bfa5-af82d0181eb6",
     "showTitle": false,
     "title": ""
    }
   },
   "source": [
    "##### Creating a new dim_customer table in Databricks using the Spark DataFrame"
   ]
  },
  {
   "cell_type": "code",
   "execution_count": 0,
   "metadata": {
    "application/vnd.databricks.v1+cell": {
     "cellMetadata": {
      "byteLimit": 2048000,
      "rowLimit": 10000
     },
     "inputWidgets": {},
     "nuid": "2de15218-dfa0-4ec1-ab3f-243d650b86b4",
     "showTitle": false,
     "title": ""
    }
   },
   "outputs": [
    {
     "output_type": "display_data",
     "data": {
      "text/html": [
       "<style scoped>\n",
       "  .ansiout {\n",
       "    display: block;\n",
       "    unicode-bidi: embed;\n",
       "    white-space: pre-wrap;\n",
       "    word-wrap: break-word;\n",
       "    word-break: break-all;\n",
       "    font-family: \"Source Code Pro\", \"Menlo\", monospace;;\n",
       "    font-size: 13px;\n",
       "    color: #555;\n",
       "    margin-left: 4px;\n",
       "    line-height: 19px;\n",
       "  }\n",
       "</style>\n",
       "<div class=\"ansiout\"></div>"
      ]
     },
     "metadata": {
      "application/vnd.databricks.v1+output": {
       "addedWidgets": {},
       "arguments": {},
       "data": "<div class=\"ansiout\"></div>",
       "datasetInfos": [],
       "metadata": {
        "isDbfsCommandResult": false
       },
       "removedWidgets": [],
       "type": "html"
      }
     },
     "output_type": "display_data"
    }
   ],
   "source": [
    "%scala\n",
    "df_customer.write.format(\"delta\").mode(\"overwrite\").saveAsTable(\"sakila_dlh.dim_customer\")"
   ]
  },
  {
   "cell_type": "code",
   "execution_count": 0,
   "metadata": {
    "application/vnd.databricks.v1+cell": {
     "cellMetadata": {
      "byteLimit": 2048000,
      "implicitDf": true,
      "rowLimit": 10000
     },
     "inputWidgets": {},
     "nuid": "62999814-4e3e-4bb1-aac1-7ef79266c22d",
     "showTitle": false,
     "title": ""
    }
   },
   "outputs": [
    {
     "output_type": "display_data",
     "data": {
      "text/html": [
       "<style scoped>\n",
       "  .table-result-container {\n",
       "    max-height: 300px;\n",
       "    overflow: auto;\n",
       "  }\n",
       "  table, th, td {\n",
       "    border: 1px solid black;\n",
       "    border-collapse: collapse;\n",
       "  }\n",
       "  th, td {\n",
       "    padding: 5px;\n",
       "  }\n",
       "  th {\n",
       "    text-align: left;\n",
       "  }\n",
       "</style><div class='table-result-container'><table class='table-result'><thead style='background-color: white'><tr><th>col_name</th><th>data_type</th><th>comment</th></tr></thead><tbody><tr><td>_id</td><td>struct<oid:string></td><td>null</td></tr><tr><td>active</td><td>int</td><td>null</td></tr><tr><td>address_id</td><td>int</td><td>null</td></tr><tr><td>create_date</td><td>string</td><td>null</td></tr><tr><td>customer_id</td><td>int</td><td>null</td></tr><tr><td>email</td><td>string</td><td>null</td></tr><tr><td>first_name</td><td>string</td><td>null</td></tr><tr><td>last_name</td><td>string</td><td>null</td></tr><tr><td>last_update</td><td>string</td><td>null</td></tr><tr><td>store_id</td><td>int</td><td>null</td></tr><tr><td></td><td></td><td></td></tr><tr><td># Detailed Table Information</td><td></td><td></td></tr><tr><td>Catalog</td><td>spark_catalog</td><td></td></tr><tr><td>Database</td><td>sakila_dlh</td><td></td></tr><tr><td>Table</td><td>dim_customer</td><td></td></tr><tr><td>Type</td><td>MANAGED</td><td></td></tr><tr><td>Location</td><td>dbfs:/FileStore/ds2002-final-project/sakila_dlh/dim_customer</td><td></td></tr><tr><td>Provider</td><td>delta</td><td></td></tr><tr><td>Owner</td><td>root</td><td></td></tr><tr><td>Is_managed_location</td><td>true</td><td></td></tr><tr><td>Table Properties</td><td>[delta.minReaderVersion=1,delta.minWriterVersion=2]</td><td></td></tr></tbody></table></div>"
      ]
     },
     "metadata": {
      "application/vnd.databricks.v1+output": {
       "addedWidgets": {},
       "aggData": [],
       "aggError": "",
       "aggOverflow": false,
       "aggSchema": [],
       "aggSeriesLimitReached": false,
       "aggType": "",
       "arguments": {},
       "columnCustomDisplayInfos": {},
       "data": [
        [
         "_id",
         "struct<oid:string>",
         null
        ],
        [
         "active",
         "int",
         null
        ],
        [
         "address_id",
         "int",
         null
        ],
        [
         "create_date",
         "string",
         null
        ],
        [
         "customer_id",
         "int",
         null
        ],
        [
         "email",
         "string",
         null
        ],
        [
         "first_name",
         "string",
         null
        ],
        [
         "last_name",
         "string",
         null
        ],
        [
         "last_update",
         "string",
         null
        ],
        [
         "store_id",
         "int",
         null
        ],
        [
         "",
         "",
         ""
        ],
        [
         "# Detailed Table Information",
         "",
         ""
        ],
        [
         "Catalog",
         "spark_catalog",
         ""
        ],
        [
         "Database",
         "sakila_dlh",
         ""
        ],
        [
         "Table",
         "dim_customer",
         ""
        ],
        [
         "Type",
         "MANAGED",
         ""
        ],
        [
         "Location",
         "dbfs:/FileStore/ds2002-final-project/sakila_dlh/dim_customer",
         ""
        ],
        [
         "Provider",
         "delta",
         ""
        ],
        [
         "Owner",
         "root",
         ""
        ],
        [
         "Is_managed_location",
         "true",
         ""
        ],
        [
         "Table Properties",
         "[delta.minReaderVersion=1,delta.minWriterVersion=2]",
         ""
        ]
       ],
       "datasetInfos": [],
       "dbfsResultPath": null,
       "isJsonSchema": true,
       "metadata": {},
       "overflow": false,
       "plotOptions": {
        "customPlotOptions": {},
        "displayType": "table",
        "pivotAggregation": null,
        "pivotColumns": null,
        "xColumns": null,
        "yColumns": null
       },
       "removedWidgets": [],
       "schema": [
        {
         "metadata": "{\"comment\":\"name of the column\"}",
         "name": "col_name",
         "type": "\"string\""
        },
        {
         "metadata": "{\"comment\":\"data type of the column\"}",
         "name": "data_type",
         "type": "\"string\""
        },
        {
         "metadata": "{\"comment\":\"comment of the column\"}",
         "name": "comment",
         "type": "\"string\""
        }
       ],
       "type": "table"
      }
     },
     "output_type": "display_data"
    }
   ],
   "source": [
    "%sql\n",
    "DESCRIBE EXTENDED sakila_dlh.dim_customer"
   ]
  },
  {
   "cell_type": "code",
   "execution_count": 0,
   "metadata": {
    "application/vnd.databricks.v1+cell": {
     "cellMetadata": {
      "byteLimit": 2048000,
      "implicitDf": true,
      "rowLimit": 10000
     },
     "inputWidgets": {},
     "nuid": "d4924a30-ad66-424c-b511-19cbfaefe93e",
     "showTitle": false,
     "title": ""
    }
   },
   "outputs": [
    {
     "output_type": "display_data",
     "data": {
      "text/html": [
       "<style scoped>\n",
       "  .table-result-container {\n",
       "    max-height: 300px;\n",
       "    overflow: auto;\n",
       "  }\n",
       "  table, th, td {\n",
       "    border: 1px solid black;\n",
       "    border-collapse: collapse;\n",
       "  }\n",
       "  th, td {\n",
       "    padding: 5px;\n",
       "  }\n",
       "  th {\n",
       "    text-align: left;\n",
       "  }\n",
       "</style><div class='table-result-container'><table class='table-result'><thead style='background-color: white'><tr><th>_id</th><th>active</th><th>address_id</th><th>create_date</th><th>customer_id</th><th>email</th><th>first_name</th><th>last_name</th><th>last_update</th><th>store_id</th></tr></thead><tbody><tr><td>List(645f0597137e8ac5f772a406)</td><td>1</td><td>5</td><td>2006-02-14 22:04:36</td><td>1</td><td>MARY.SMITH@sakilacustomer.org</td><td>MARY</td><td>SMITH</td><td>2006-02-15 04:57:20</td><td>1</td></tr><tr><td>List(645f0597137e8ac5f772a407)</td><td>1</td><td>6</td><td>2006-02-14 22:04:36</td><td>2</td><td>PATRICIA.JOHNSON@sakilacustomer.org</td><td>PATRICIA</td><td>JOHNSON</td><td>2006-02-15 04:57:20</td><td>1</td></tr><tr><td>List(645f0597137e8ac5f772a408)</td><td>1</td><td>7</td><td>2006-02-14 22:04:36</td><td>3</td><td>LINDA.WILLIAMS@sakilacustomer.org</td><td>LINDA</td><td>WILLIAMS</td><td>2006-02-15 04:57:20</td><td>1</td></tr><tr><td>List(645f0597137e8ac5f772a409)</td><td>1</td><td>8</td><td>2006-02-14 22:04:36</td><td>4</td><td>BARBARA.JONES@sakilacustomer.org</td><td>BARBARA</td><td>JONES</td><td>2006-02-15 04:57:20</td><td>2</td></tr><tr><td>List(645f0597137e8ac5f772a40a)</td><td>1</td><td>9</td><td>2006-02-14 22:04:36</td><td>5</td><td>ELIZABETH.BROWN@sakilacustomer.org</td><td>ELIZABETH</td><td>BROWN</td><td>2006-02-15 04:57:20</td><td>1</td></tr></tbody></table></div>"
      ]
     },
     "metadata": {
      "application/vnd.databricks.v1+output": {
       "addedWidgets": {},
       "aggData": [],
       "aggError": "",
       "aggOverflow": false,
       "aggSchema": [],
       "aggSeriesLimitReached": false,
       "aggType": "",
       "arguments": {},
       "columnCustomDisplayInfos": {},
       "data": [
        [
         [
          "645f0597137e8ac5f772a406"
         ],
         1,
         5,
         "2006-02-14 22:04:36",
         1,
         "MARY.SMITH@sakilacustomer.org",
         "MARY",
         "SMITH",
         "2006-02-15 04:57:20",
         1
        ],
        [
         [
          "645f0597137e8ac5f772a407"
         ],
         1,
         6,
         "2006-02-14 22:04:36",
         2,
         "PATRICIA.JOHNSON@sakilacustomer.org",
         "PATRICIA",
         "JOHNSON",
         "2006-02-15 04:57:20",
         1
        ],
        [
         [
          "645f0597137e8ac5f772a408"
         ],
         1,
         7,
         "2006-02-14 22:04:36",
         3,
         "LINDA.WILLIAMS@sakilacustomer.org",
         "LINDA",
         "WILLIAMS",
         "2006-02-15 04:57:20",
         1
        ],
        [
         [
          "645f0597137e8ac5f772a409"
         ],
         1,
         8,
         "2006-02-14 22:04:36",
         4,
         "BARBARA.JONES@sakilacustomer.org",
         "BARBARA",
         "JONES",
         "2006-02-15 04:57:20",
         2
        ],
        [
         [
          "645f0597137e8ac5f772a40a"
         ],
         1,
         9,
         "2006-02-14 22:04:36",
         5,
         "ELIZABETH.BROWN@sakilacustomer.org",
         "ELIZABETH",
         "BROWN",
         "2006-02-15 04:57:20",
         1
        ]
       ],
       "datasetInfos": [],
       "dbfsResultPath": null,
       "isJsonSchema": true,
       "metadata": {},
       "overflow": false,
       "plotOptions": {
        "customPlotOptions": {},
        "displayType": "table",
        "pivotAggregation": null,
        "pivotColumns": null,
        "xColumns": null,
        "yColumns": null
       },
       "removedWidgets": [],
       "schema": [
        {
         "metadata": "{}",
         "name": "_id",
         "type": "{\"type\":\"struct\",\"fields\":[{\"name\":\"oid\",\"type\":\"string\",\"nullable\":true,\"metadata\":{}}]}"
        },
        {
         "metadata": "{}",
         "name": "active",
         "type": "\"integer\""
        },
        {
         "metadata": "{}",
         "name": "address_id",
         "type": "\"integer\""
        },
        {
         "metadata": "{}",
         "name": "create_date",
         "type": "\"string\""
        },
        {
         "metadata": "{}",
         "name": "customer_id",
         "type": "\"integer\""
        },
        {
         "metadata": "{}",
         "name": "email",
         "type": "\"string\""
        },
        {
         "metadata": "{}",
         "name": "first_name",
         "type": "\"string\""
        },
        {
         "metadata": "{}",
         "name": "last_name",
         "type": "\"string\""
        },
        {
         "metadata": "{}",
         "name": "last_update",
         "type": "\"string\""
        },
        {
         "metadata": "{}",
         "name": "store_id",
         "type": "\"integer\""
        }
       ],
       "type": "table"
      }
     },
     "output_type": "display_data"
    }
   ],
   "source": [
    "%sql\n",
    "SELECT * FROM sakila_dlh.dim_customer LIMIT 5"
   ]
  },
  {
   "cell_type": "markdown",
   "metadata": {
    "application/vnd.databricks.v1+cell": {
     "cellMetadata": {},
     "inputWidgets": {},
     "nuid": "9936b98e-53e2-4f75-9db5-9bbefad735fe",
     "showTitle": false,
     "title": ""
    }
   },
   "source": [
    "#### Fetching Data from a File System\n",
    "##### Reading from a CSV file using PySpark"
   ]
  },
  {
   "cell_type": "code",
   "execution_count": 0,
   "metadata": {
    "application/vnd.databricks.v1+cell": {
     "cellMetadata": {
      "byteLimit": 2048000,
      "rowLimit": 10000
     },
     "inputWidgets": {},
     "nuid": "b47c7ad8-a57b-46ca-a734-9bbf271cf0bf",
     "showTitle": false,
     "title": ""
    }
   },
   "outputs": [
    {
     "output_type": "display_data",
     "data": {
      "text/html": [
       "<style scoped>\n",
       "  .table-result-container {\n",
       "    max-height: 300px;\n",
       "    overflow: auto;\n",
       "  }\n",
       "  table, th, td {\n",
       "    border: 1px solid black;\n",
       "    border-collapse: collapse;\n",
       "  }\n",
       "  th, td {\n",
       "    padding: 5px;\n",
       "  }\n",
       "  th {\n",
       "    text-align: left;\n",
       "  }\n",
       "</style><div class='table-result-container'><table class='table-result'><thead style='background-color: white'><tr><th>staff_id</th><th>first_name</th><th>last_name</th><th>address_id</th><th>email</th><th>store_id</th><th>active</th><th>username</th><th>password</th><th>last_update</th></tr></thead><tbody><tr><td>1</td><td>Mike</td><td>Hillyer</td><td>3</td><td>Mike.Hillyer@sakilastaff.com</td><td>1</td><td>1</td><td>Mike</td><td>8cb2237d0679ca88db6464eac60da96345513964</td><td>2006-02-15T03:57:16.000+0000</td></tr><tr><td>2</td><td>Jon</td><td>Stephens</td><td>4</td><td>Jon.Stephens@sakilastaff.com</td><td>2</td><td>1</td><td>Jon</td><td>null</td><td>2006-02-15T03:57:16.000+0000</td></tr></tbody></table></div>"
      ]
     },
     "metadata": {
      "application/vnd.databricks.v1+output": {
       "addedWidgets": {},
       "aggData": [],
       "aggError": "",
       "aggOverflow": false,
       "aggSchema": [],
       "aggSeriesLimitReached": false,
       "aggType": "",
       "arguments": {},
       "columnCustomDisplayInfos": {},
       "data": [
        [
         1,
         "Mike",
         "Hillyer",
         3,
         "Mike.Hillyer@sakilastaff.com",
         1,
         1,
         "Mike",
         "8cb2237d0679ca88db6464eac60da96345513964",
         "2006-02-15T03:57:16.000+0000"
        ],
        [
         2,
         "Jon",
         "Stephens",
         4,
         "Jon.Stephens@sakilastaff.com",
         2,
         1,
         "Jon",
         null,
         "2006-02-15T03:57:16.000+0000"
        ]
       ],
       "datasetInfos": [],
       "dbfsResultPath": null,
       "isJsonSchema": true,
       "metadata": {},
       "overflow": false,
       "plotOptions": {
        "customPlotOptions": {},
        "displayType": "table",
        "pivotAggregation": null,
        "pivotColumns": null,
        "xColumns": null,
        "yColumns": null
       },
       "removedWidgets": [],
       "schema": [
        {
         "metadata": "{}",
         "name": "staff_id",
         "type": "\"integer\""
        },
        {
         "metadata": "{}",
         "name": "first_name",
         "type": "\"string\""
        },
        {
         "metadata": "{}",
         "name": "last_name",
         "type": "\"string\""
        },
        {
         "metadata": "{}",
         "name": "address_id",
         "type": "\"integer\""
        },
        {
         "metadata": "{}",
         "name": "email",
         "type": "\"string\""
        },
        {
         "metadata": "{}",
         "name": "store_id",
         "type": "\"integer\""
        },
        {
         "metadata": "{}",
         "name": "active",
         "type": "\"integer\""
        },
        {
         "metadata": "{}",
         "name": "username",
         "type": "\"string\""
        },
        {
         "metadata": "{}",
         "name": "password",
         "type": "\"string\""
        },
        {
         "metadata": "{}",
         "name": "last_update",
         "type": "\"timestamp\""
        }
       ],
       "type": "table"
      }
     },
     "output_type": "display_data"
    }
   ],
   "source": [
    "staff_csv = f\"{batch_dir}/dim_staff.csv\"\n",
    "\n",
    "df_staff = spark.read.format('csv').options(header='true', inferSchema='true').load(staff_csv)\n",
    "display(df_staff)"
   ]
  },
  {
   "cell_type": "code",
   "execution_count": 0,
   "metadata": {
    "application/vnd.databricks.v1+cell": {
     "cellMetadata": {
      "byteLimit": 2048000,
      "rowLimit": 10000
     },
     "inputWidgets": {},
     "nuid": "12852bc5-3ebd-4ef8-a96b-8b25516ccbea",
     "showTitle": false,
     "title": ""
    }
   },
   "outputs": [
    {
     "output_type": "stream",
     "name": "stdout",
     "output_type": "stream",
     "text": [
      "root\n |-- staff_id: integer (nullable = true)\n |-- first_name: string (nullable = true)\n |-- last_name: string (nullable = true)\n |-- address_id: integer (nullable = true)\n |-- email: string (nullable = true)\n |-- store_id: integer (nullable = true)\n |-- active: integer (nullable = true)\n |-- username: string (nullable = true)\n |-- password: string (nullable = true)\n |-- last_update: timestamp (nullable = true)\n\n"
     ]
    }
   ],
   "source": [
    "df_staff.printSchema()"
   ]
  },
  {
   "cell_type": "code",
   "execution_count": 0,
   "metadata": {
    "application/vnd.databricks.v1+cell": {
     "cellMetadata": {
      "byteLimit": 2048000,
      "rowLimit": 10000
     },
     "inputWidgets": {},
     "nuid": "199f4806-101a-41bf-ac54-b8ec2b8c4935",
     "showTitle": false,
     "title": ""
    }
   },
   "outputs": [],
   "source": [
    "df_staff.write.format(\"delta\").mode(\"overwrite\").saveAsTable(\"sakila_dlh.dim_staff\")"
   ]
  },
  {
   "cell_type": "code",
   "execution_count": 0,
   "metadata": {
    "application/vnd.databricks.v1+cell": {
     "cellMetadata": {
      "byteLimit": 2048000,
      "implicitDf": true,
      "rowLimit": 10000
     },
     "inputWidgets": {},
     "nuid": "cb7e6ae7-5c04-4c46-a49f-bbdaa975ccc6",
     "showTitle": false,
     "title": ""
    }
   },
   "outputs": [
    {
     "output_type": "display_data",
     "data": {
      "text/html": [
       "<style scoped>\n",
       "  .table-result-container {\n",
       "    max-height: 300px;\n",
       "    overflow: auto;\n",
       "  }\n",
       "  table, th, td {\n",
       "    border: 1px solid black;\n",
       "    border-collapse: collapse;\n",
       "  }\n",
       "  th, td {\n",
       "    padding: 5px;\n",
       "  }\n",
       "  th {\n",
       "    text-align: left;\n",
       "  }\n",
       "</style><div class='table-result-container'><table class='table-result'><thead style='background-color: white'><tr><th>col_name</th><th>data_type</th><th>comment</th></tr></thead><tbody><tr><td>staff_id</td><td>int</td><td>null</td></tr><tr><td>first_name</td><td>string</td><td>null</td></tr><tr><td>last_name</td><td>string</td><td>null</td></tr><tr><td>address_id</td><td>int</td><td>null</td></tr><tr><td>email</td><td>string</td><td>null</td></tr><tr><td>store_id</td><td>int</td><td>null</td></tr><tr><td>active</td><td>int</td><td>null</td></tr><tr><td>username</td><td>string</td><td>null</td></tr><tr><td>password</td><td>string</td><td>null</td></tr><tr><td>last_update</td><td>timestamp</td><td>null</td></tr><tr><td></td><td></td><td></td></tr><tr><td># Detailed Table Information</td><td></td><td></td></tr><tr><td>Catalog</td><td>spark_catalog</td><td></td></tr><tr><td>Database</td><td>sakila_dlh</td><td></td></tr><tr><td>Table</td><td>dim_staff</td><td></td></tr><tr><td>Type</td><td>MANAGED</td><td></td></tr><tr><td>Location</td><td>dbfs:/FileStore/ds2002-final-project/sakila_dlh/dim_staff</td><td></td></tr><tr><td>Provider</td><td>delta</td><td></td></tr><tr><td>Owner</td><td>root</td><td></td></tr><tr><td>Is_managed_location</td><td>true</td><td></td></tr><tr><td>Table Properties</td><td>[delta.minReaderVersion=1,delta.minWriterVersion=2]</td><td></td></tr></tbody></table></div>"
      ]
     },
     "metadata": {
      "application/vnd.databricks.v1+output": {
       "addedWidgets": {},
       "aggData": [],
       "aggError": "",
       "aggOverflow": false,
       "aggSchema": [],
       "aggSeriesLimitReached": false,
       "aggType": "",
       "arguments": {},
       "columnCustomDisplayInfos": {},
       "data": [
        [
         "staff_id",
         "int",
         null
        ],
        [
         "first_name",
         "string",
         null
        ],
        [
         "last_name",
         "string",
         null
        ],
        [
         "address_id",
         "int",
         null
        ],
        [
         "email",
         "string",
         null
        ],
        [
         "store_id",
         "int",
         null
        ],
        [
         "active",
         "int",
         null
        ],
        [
         "username",
         "string",
         null
        ],
        [
         "password",
         "string",
         null
        ],
        [
         "last_update",
         "timestamp",
         null
        ],
        [
         "",
         "",
         ""
        ],
        [
         "# Detailed Table Information",
         "",
         ""
        ],
        [
         "Catalog",
         "spark_catalog",
         ""
        ],
        [
         "Database",
         "sakila_dlh",
         ""
        ],
        [
         "Table",
         "dim_staff",
         ""
        ],
        [
         "Type",
         "MANAGED",
         ""
        ],
        [
         "Location",
         "dbfs:/FileStore/ds2002-final-project/sakila_dlh/dim_staff",
         ""
        ],
        [
         "Provider",
         "delta",
         ""
        ],
        [
         "Owner",
         "root",
         ""
        ],
        [
         "Is_managed_location",
         "true",
         ""
        ],
        [
         "Table Properties",
         "[delta.minReaderVersion=1,delta.minWriterVersion=2]",
         ""
        ]
       ],
       "datasetInfos": [],
       "dbfsResultPath": null,
       "isJsonSchema": true,
       "metadata": {},
       "overflow": false,
       "plotOptions": {
        "customPlotOptions": {},
        "displayType": "table",
        "pivotAggregation": null,
        "pivotColumns": null,
        "xColumns": null,
        "yColumns": null
       },
       "removedWidgets": [],
       "schema": [
        {
         "metadata": "{\"comment\":\"name of the column\"}",
         "name": "col_name",
         "type": "\"string\""
        },
        {
         "metadata": "{\"comment\":\"data type of the column\"}",
         "name": "data_type",
         "type": "\"string\""
        },
        {
         "metadata": "{\"comment\":\"comment of the column\"}",
         "name": "comment",
         "type": "\"string\""
        }
       ],
       "type": "table"
      }
     },
     "output_type": "display_data"
    }
   ],
   "source": [
    "%sql\n",
    "DESCRIBE EXTENDED sakila_dlh.dim_staff;"
   ]
  },
  {
   "cell_type": "code",
   "execution_count": 0,
   "metadata": {
    "application/vnd.databricks.v1+cell": {
     "cellMetadata": {
      "byteLimit": 2048000,
      "implicitDf": true,
      "rowLimit": 10000
     },
     "inputWidgets": {},
     "nuid": "c0e93baa-868a-4ea0-b168-df44c2527f17",
     "showTitle": false,
     "title": ""
    }
   },
   "outputs": [
    {
     "output_type": "display_data",
     "data": {
      "text/html": [
       "<style scoped>\n",
       "  .table-result-container {\n",
       "    max-height: 300px;\n",
       "    overflow: auto;\n",
       "  }\n",
       "  table, th, td {\n",
       "    border: 1px solid black;\n",
       "    border-collapse: collapse;\n",
       "  }\n",
       "  th, td {\n",
       "    padding: 5px;\n",
       "  }\n",
       "  th {\n",
       "    text-align: left;\n",
       "  }\n",
       "</style><div class='table-result-container'><table class='table-result'><thead style='background-color: white'><tr><th>staff_id</th><th>first_name</th><th>last_name</th><th>address_id</th><th>email</th><th>store_id</th><th>active</th><th>username</th><th>password</th><th>last_update</th></tr></thead><tbody><tr><td>1</td><td>Mike</td><td>Hillyer</td><td>3</td><td>Mike.Hillyer@sakilastaff.com</td><td>1</td><td>1</td><td>Mike</td><td>8cb2237d0679ca88db6464eac60da96345513964</td><td>2006-02-15T03:57:16.000+0000</td></tr><tr><td>2</td><td>Jon</td><td>Stephens</td><td>4</td><td>Jon.Stephens@sakilastaff.com</td><td>2</td><td>1</td><td>Jon</td><td>null</td><td>2006-02-15T03:57:16.000+0000</td></tr></tbody></table></div>"
      ]
     },
     "metadata": {
      "application/vnd.databricks.v1+output": {
       "addedWidgets": {},
       "aggData": [],
       "aggError": "",
       "aggOverflow": false,
       "aggSchema": [],
       "aggSeriesLimitReached": false,
       "aggType": "",
       "arguments": {},
       "columnCustomDisplayInfos": {},
       "data": [
        [
         1,
         "Mike",
         "Hillyer",
         3,
         "Mike.Hillyer@sakilastaff.com",
         1,
         1,
         "Mike",
         "8cb2237d0679ca88db6464eac60da96345513964",
         "2006-02-15T03:57:16.000+0000"
        ],
        [
         2,
         "Jon",
         "Stephens",
         4,
         "Jon.Stephens@sakilastaff.com",
         2,
         1,
         "Jon",
         null,
         "2006-02-15T03:57:16.000+0000"
        ]
       ],
       "datasetInfos": [],
       "dbfsResultPath": null,
       "isJsonSchema": true,
       "metadata": {},
       "overflow": false,
       "plotOptions": {
        "customPlotOptions": {},
        "displayType": "table",
        "pivotAggregation": null,
        "pivotColumns": null,
        "xColumns": null,
        "yColumns": null
       },
       "removedWidgets": [],
       "schema": [
        {
         "metadata": "{}",
         "name": "staff_id",
         "type": "\"integer\""
        },
        {
         "metadata": "{}",
         "name": "first_name",
         "type": "\"string\""
        },
        {
         "metadata": "{}",
         "name": "last_name",
         "type": "\"string\""
        },
        {
         "metadata": "{}",
         "name": "address_id",
         "type": "\"integer\""
        },
        {
         "metadata": "{}",
         "name": "email",
         "type": "\"string\""
        },
        {
         "metadata": "{}",
         "name": "store_id",
         "type": "\"integer\""
        },
        {
         "metadata": "{}",
         "name": "active",
         "type": "\"integer\""
        },
        {
         "metadata": "{}",
         "name": "username",
         "type": "\"string\""
        },
        {
         "metadata": "{}",
         "name": "password",
         "type": "\"string\""
        },
        {
         "metadata": "{}",
         "name": "last_update",
         "type": "\"timestamp\""
        }
       ],
       "type": "table"
      }
     },
     "output_type": "display_data"
    }
   ],
   "source": [
    "%sql\n",
    "SELECT * FROM sakila_dlh.dim_staff LIMIT 2;"
   ]
  },
  {
   "cell_type": "markdown",
   "metadata": {
    "application/vnd.databricks.v1+cell": {
     "cellMetadata": {},
     "inputWidgets": {},
     "nuid": "10b2930e-732d-409a-9853-28738802fac4",
     "showTitle": false,
     "title": ""
    }
   },
   "source": [
    "##### Verifying the Four Dimension Tables!"
   ]
  },
  {
   "cell_type": "code",
   "execution_count": 0,
   "metadata": {
    "application/vnd.databricks.v1+cell": {
     "cellMetadata": {
      "byteLimit": 2048000,
      "implicitDf": true,
      "rowLimit": 10000
     },
     "inputWidgets": {},
     "nuid": "0da830d5-ecdd-4b6f-bc43-7c7559e9d34e",
     "showTitle": false,
     "title": ""
    }
   },
   "outputs": [
    {
     "output_type": "display_data",
     "data": {
      "text/html": [
       "<style scoped>\n",
       "  .table-result-container {\n",
       "    max-height: 300px;\n",
       "    overflow: auto;\n",
       "  }\n",
       "  table, th, td {\n",
       "    border: 1px solid black;\n",
       "    border-collapse: collapse;\n",
       "  }\n",
       "  th, td {\n",
       "    padding: 5px;\n",
       "  }\n",
       "  th {\n",
       "    text-align: left;\n",
       "  }\n",
       "</style><div class='table-result-container'><table class='table-result'><thead style='background-color: white'><tr><th>database</th><th>tableName</th><th>isTemporary</th></tr></thead><tbody><tr><td>sakila_dlh</td><td>dim_customer</td><td>false</td></tr><tr><td>sakila_dlh</td><td>dim_date</td><td>false</td></tr><tr><td>sakila_dlh</td><td>dim_inventory</td><td>false</td></tr><tr><td>sakila_dlh</td><td>dim_staff</td><td>false</td></tr><tr><td></td><td>display_query_1</td><td>true</td></tr><tr><td></td><td>display_query_2</td><td>true</td></tr><tr><td></td><td>display_query_3</td><td>true</td></tr><tr><td></td><td>display_query_4</td><td>true</td></tr><tr><td></td><td>display_query_5</td><td>true</td></tr><tr><td></td><td>display_query_6</td><td>true</td></tr><tr><td></td><td>display_query_7</td><td>true</td></tr><tr><td></td><td>display_query_8</td><td>true</td></tr><tr><td></td><td>display_query_9</td><td>true</td></tr><tr><td></td><td>fact_rental_payment_silver_tempview</td><td>true</td></tr><tr><td></td><td>rental_payment_bronze_tempview</td><td>true</td></tr><tr><td></td><td>rental_payment_raw_tempview</td><td>true</td></tr><tr><td></td><td>rental_payment_silver_tempview</td><td>true</td></tr><tr><td></td><td>view_date</td><td>true</td></tr><tr><td></td><td>view_inventory</td><td>true</td></tr></tbody></table></div>"
      ]
     },
     "metadata": {
      "application/vnd.databricks.v1+output": {
       "addedWidgets": {},
       "aggData": [],
       "aggError": "",
       "aggOverflow": false,
       "aggSchema": [],
       "aggSeriesLimitReached": false,
       "aggType": "",
       "arguments": {},
       "columnCustomDisplayInfos": {},
       "data": [
        [
         "sakila_dlh",
         "dim_customer",
         false
        ],
        [
         "sakila_dlh",
         "dim_date",
         false
        ],
        [
         "sakila_dlh",
         "dim_inventory",
         false
        ],
        [
         "sakila_dlh",
         "dim_staff",
         false
        ],
        [
         "",
         "display_query_1",
         true
        ],
        [
         "",
         "display_query_2",
         true
        ],
        [
         "",
         "display_query_3",
         true
        ],
        [
         "",
         "display_query_4",
         true
        ],
        [
         "",
         "display_query_5",
         true
        ],
        [
         "",
         "display_query_6",
         true
        ],
        [
         "",
         "display_query_7",
         true
        ],
        [
         "",
         "display_query_8",
         true
        ],
        [
         "",
         "display_query_9",
         true
        ],
        [
         "",
         "fact_rental_payment_silver_tempview",
         true
        ],
        [
         "",
         "rental_payment_bronze_tempview",
         true
        ],
        [
         "",
         "rental_payment_raw_tempview",
         true
        ],
        [
         "",
         "rental_payment_silver_tempview",
         true
        ],
        [
         "",
         "view_date",
         true
        ],
        [
         "",
         "view_inventory",
         true
        ]
       ],
       "datasetInfos": [],
       "dbfsResultPath": null,
       "isJsonSchema": true,
       "metadata": {},
       "overflow": false,
       "plotOptions": {
        "customPlotOptions": {},
        "displayType": "table",
        "pivotAggregation": null,
        "pivotColumns": null,
        "xColumns": null,
        "yColumns": null
       },
       "removedWidgets": [],
       "schema": [
        {
         "metadata": "{}",
         "name": "database",
         "type": "\"string\""
        },
        {
         "metadata": "{}",
         "name": "tableName",
         "type": "\"string\""
        },
        {
         "metadata": "{}",
         "name": "isTemporary",
         "type": "\"boolean\""
        }
       ],
       "type": "table"
      }
     },
     "output_type": "display_data"
    }
   ],
   "source": [
    "%sql\n",
    "USE sakila_dlh;\n",
    "SHOW TABLES"
   ]
  },
  {
   "cell_type": "markdown",
   "metadata": {
    "application/vnd.databricks.v1+cell": {
     "cellMetadata": {},
     "inputWidgets": {},
     "nuid": "7cd1e0df-ee40-4631-95f2-fecd438276d8",
     "showTitle": false,
     "title": ""
    }
   },
   "source": [
    "### Integrating Reference Data with Real-Time Data\n",
    "#### Processing streaming orders fact data using AutoLoader\n",
    "##### Bronze Table: Processing Raw Rental_Payment JSON Data"
   ]
  },
  {
   "cell_type": "code",
   "execution_count": 0,
   "metadata": {
    "application/vnd.databricks.v1+cell": {
     "cellMetadata": {
      "byteLimit": 2048000,
      "rowLimit": 10000
     },
     "inputWidgets": {},
     "nuid": "34000bc1-7f1b-4d21-bfd2-10e2bf9ee979",
     "showTitle": false,
     "title": ""
    }
   },
   "outputs": [],
   "source": [
    "(spark.readStream\n",
    " .format(\"cloudFiles\")\n",
    " .option(\"cloudFiles.format\", \"json\")\n",
    " .option(\"cloudFiles.schemaLocation\", rental_payment_output_bronze)\n",
    " .option(\"cloudFiles.inferColumnTypes\", \"true\")\n",
    " .option(\"multiLine\", \"true\")\n",
    " .load(rental_payment_stream_dir)\n",
    " .createOrReplaceTempView(\"rental_payment_raw_tempview\"))"
   ]
  },
  {
   "cell_type": "code",
   "execution_count": 0,
   "metadata": {
    "application/vnd.databricks.v1+cell": {
     "cellMetadata": {
      "byteLimit": 2048000,
      "implicitDf": true,
      "rowLimit": 10000
     },
     "inputWidgets": {},
     "nuid": "acf1fa4c-6860-4a4b-9046-bd79a738891b",
     "showTitle": false,
     "title": ""
    }
   },
   "outputs": [
    {
     "output_type": "display_data",
     "data": {
      "text/html": [
       "<style scoped>\n",
       "  .table-result-container {\n",
       "    max-height: 300px;\n",
       "    overflow: auto;\n",
       "  }\n",
       "  table, th, td {\n",
       "    border: 1px solid black;\n",
       "    border-collapse: collapse;\n",
       "  }\n",
       "  th, td {\n",
       "    padding: 5px;\n",
       "  }\n",
       "  th {\n",
       "    text-align: left;\n",
       "  }\n",
       "</style><div class='table-result-container'><table class='table-result'><thead style='background-color: white'><tr></tr></thead><tbody></tbody></table></div>"
      ]
     },
     "metadata": {
      "application/vnd.databricks.v1+output": {
       "addedWidgets": {},
       "aggData": [],
       "aggError": "",
       "aggOverflow": false,
       "aggSchema": [],
       "aggSeriesLimitReached": false,
       "aggType": "",
       "arguments": {},
       "columnCustomDisplayInfos": {},
       "data": [],
       "datasetInfos": [],
       "dbfsResultPath": null,
       "isJsonSchema": true,
       "metadata": {},
       "overflow": false,
       "plotOptions": {
        "customPlotOptions": {},
        "displayType": "table",
        "pivotAggregation": null,
        "pivotColumns": null,
        "xColumns": null,
        "yColumns": null
       },
       "removedWidgets": [],
       "schema": [],
       "type": "table"
      }
     },
     "output_type": "display_data"
    }
   ],
   "source": [
    "%sql\n",
    "/* Add Metadata for Traceability */\n",
    "CREATE OR REPLACE TEMPORARY VIEW rental_payment_bronze_tempview AS (\n",
    "  SELECT *, current_timestamp() receipt_time, input_file_name() source_file\n",
    "  FROM rental_payment_raw_tempview\n",
    ")"
   ]
  },
  {
   "cell_type": "code",
   "execution_count": 0,
   "metadata": {
    "application/vnd.databricks.v1+cell": {
     "cellMetadata": {
      "byteLimit": 2048000,
      "implicitDf": true,
      "rowLimit": 10000
     },
     "inputWidgets": {},
     "nuid": "93ecede6-693c-4949-8aba-b2344680af03",
     "showTitle": false,
     "title": ""
    }
   },
   "outputs": [
    {
     "output_type": "display_data",
     "data": {
      "text/html": [
       "<style scoped>\n",
       "  .table-result-container {\n",
       "    max-height: 300px;\n",
       "    overflow: auto;\n",
       "  }\n",
       "  table, th, td {\n",
       "    border: 1px solid black;\n",
       "    border-collapse: collapse;\n",
       "  }\n",
       "  th, td {\n",
       "    padding: 5px;\n",
       "  }\n",
       "  th {\n",
       "    text-align: left;\n",
       "  }\n",
       "</style><div class='table-result-container'><table class='table-result'><thead style='background-color: white'><tr><th>amount</th><th>customer_key</th><th>inventory_id</th><th>payment_customer_id</th><th>payment_date</th><th>payment_key</th><th>payment_last_update</th><th>payment_staff_id</th><th>rental_customer_id</th><th>rental_date</th><th>rental_id</th><th>rental_key</th><th>rental_last_update</th><th>rental_payment_key</th><th>rental_staff_id</th><th>return_date</th><th>staff_key</th><th>_rescued_data</th><th>receipt_time</th><th>source_file</th></tr></thead><tbody><tr><td>0.99</td><td>506</td><td>4502</td><td>506</td><td>2005-08-19 07:26:10</td><td>13652</td><td>2006-02-15 22:20:32</td><td>1</td><td>506</td><td>2005-05-25 19:12:42</td><td>12994</td><td>114</td><td>2006-02-15 21:30:53</td><td>16865</td><td>1</td><td>2005-06-01 23:10:42</td><td>1</td><td>null</td><td>2023-05-13T04:09:15.005+0000</td><td>dbfs:/FileStore/ds2002-final-project/source_data/stream/rental_payment/rental_payment3.json</td></tr><tr><td>1.99</td><td>506</td><td>4502</td><td>506</td><td>2005-08-20 23:16:07</td><td>13655</td><td>2006-02-15 22:20:32</td><td>1</td><td>506</td><td>2005-05-25 19:12:42</td><td>14074</td><td>114</td><td>2006-02-15 21:30:53</td><td>16866</td><td>1</td><td>2005-06-01 23:10:42</td><td>1</td><td>null</td><td>2023-05-13T04:09:15.005+0000</td><td>dbfs:/FileStore/ds2002-final-project/source_data/stream/rental_payment/rental_payment3.json</td></tr><tr><td>2.99</td><td>506</td><td>4502</td><td>506</td><td>2005-08-21 08:34:26</td><td>13656</td><td>2006-02-15 22:20:32</td><td>1</td><td>506</td><td>2005-05-25 19:12:42</td><td>14337</td><td>114</td><td>2006-02-15 21:30:53</td><td>16867</td><td>1</td><td>2005-06-01 23:10:42</td><td>1</td><td>null</td><td>2023-05-13T04:09:15.005+0000</td><td>dbfs:/FileStore/ds2002-final-project/source_data/stream/rental_payment/rental_payment3.json</td></tr><tr><td>9.99</td><td>506</td><td>4502</td><td>506</td><td>2005-08-23 10:02:46</td><td>13660</td><td>2006-02-15 22:20:33</td><td>1</td><td>506</td><td>2005-05-25 19:12:42</td><td>15694</td><td>114</td><td>2006-02-15 21:30:53</td><td>16868</td><td>1</td><td>2005-06-01 23:10:42</td><td>1</td><td>null</td><td>2023-05-13T04:09:15.005+0000</td><td>dbfs:/FileStore/ds2002-final-project/source_data/stream/rental_payment/rental_payment3.json</td></tr><tr><td>1.99</td><td>455</td><td>749</td><td>455</td><td>2005-06-16 20:23:30</td><td>12284</td><td>2006-02-15 22:19:11</td><td>1</td><td>455</td><td>2005-05-25 19:13:25</td><td>1802</td><td>115</td><td>2006-02-15 21:30:53</td><td>16869</td><td>1</td><td>2005-05-29 20:17:25</td><td>1</td><td>null</td><td>2023-05-13T04:09:15.005+0000</td><td>dbfs:/FileStore/ds2002-final-project/source_data/stream/rental_payment/rental_payment3.json</td></tr><tr><td>2.99</td><td>455</td><td>749</td><td>455</td><td>2005-06-17 04:53:35</td><td>12285</td><td>2006-02-15 22:19:11</td><td>1</td><td>455</td><td>2005-05-25 19:13:25</td><td>1906</td><td>115</td><td>2006-02-15 21:30:53</td><td>16870</td><td>1</td><td>2005-05-29 20:17:25</td><td>1</td><td>null</td><td>2023-05-13T04:09:15.005+0000</td><td>dbfs:/FileStore/ds2002-final-project/source_data/stream/rental_payment/rental_payment3.json</td></tr><tr><td>8.99</td><td>455</td><td>749</td><td>455</td><td>2005-07-08 18:57:30</td><td>12288</td><td>2006-02-15 22:19:11</td><td>1</td><td>455</td><td>2005-05-25 19:13:25</td><td>4861</td><td>115</td><td>2006-02-15 21:30:53</td><td>16871</td><td>1</td><td>2005-05-29 20:17:25</td><td>1</td><td>null</td><td>2023-05-13T04:09:15.005+0000</td><td>dbfs:/FileStore/ds2002-final-project/source_data/stream/rental_payment/rental_payment3.json</td></tr><tr><td>2.99</td><td>455</td><td>749</td><td>455</td><td>2005-07-08 23:46:38</td><td>12289</td><td>2006-02-15 22:19:11</td><td>1</td><td>455</td><td>2005-05-25 19:13:25</td><td>4964</td><td>115</td><td>2006-02-15 21:30:53</td><td>16872</td><td>1</td><td>2005-05-29 20:17:25</td><td>1</td><td>null</td><td>2023-05-13T04:09:15.005+0000</td><td>dbfs:/FileStore/ds2002-final-project/source_data/stream/rental_payment/rental_payment3.json</td></tr><tr><td>6.99</td><td>455</td><td>749</td><td>455</td><td>2005-07-10 00:36:38</td><td>12290</td><td>2006-02-15 22:19:11</td><td>1</td><td>455</td><td>2005-05-25 19:13:25</td><td>5504</td><td>115</td><td>2006-02-15 21:30:53</td><td>16873</td><td>1</td><td>2005-05-29 20:17:25</td><td>1</td><td>null</td><td>2023-05-13T04:09:15.005+0000</td><td>dbfs:/FileStore/ds2002-final-project/source_data/stream/rental_payment/rental_payment3.json</td></tr><tr><td>4.99</td><td>455</td><td>749</td><td>455</td><td>2005-07-27 15:54:19</td><td>12292</td><td>2006-02-15 22:19:11</td><td>1</td><td>455</td><td>2005-05-25 19:13:25</td><td>7388</td><td>115</td><td>2006-02-15 21:30:53</td><td>16874</td><td>1</td><td>2005-05-29 20:17:25</td><td>1</td><td>null</td><td>2023-05-13T04:09:15.005+0000</td><td>dbfs:/FileStore/ds2002-final-project/source_data/stream/rental_payment/rental_payment3.json</td></tr></tbody></table></div>"
      ]
     },
     "metadata": {
      "application/vnd.databricks.v1+output": {
       "addedWidgets": {},
       "aggData": [],
       "aggError": "",
       "aggOverflow": false,
       "aggSchema": [],
       "aggSeriesLimitReached": false,
       "aggType": "",
       "arguments": {},
       "columnCustomDisplayInfos": {},
       "data": [
        [
         0.99,
         506,
         4502,
         506,
         "2005-08-19 07:26:10",
         13652,
         "2006-02-15 22:20:32",
         1,
         506,
         "2005-05-25 19:12:42",
         12994,
         114,
         "2006-02-15 21:30:53",
         16865,
         1,
         "2005-06-01 23:10:42",
         1,
         null,
         "2023-05-13T04:09:15.005+0000",
         "dbfs:/FileStore/ds2002-final-project/source_data/stream/rental_payment/rental_payment3.json"
        ],
        [
         1.99,
         506,
         4502,
         506,
         "2005-08-20 23:16:07",
         13655,
         "2006-02-15 22:20:32",
         1,
         506,
         "2005-05-25 19:12:42",
         14074,
         114,
         "2006-02-15 21:30:53",
         16866,
         1,
         "2005-06-01 23:10:42",
         1,
         null,
         "2023-05-13T04:09:15.005+0000",
         "dbfs:/FileStore/ds2002-final-project/source_data/stream/rental_payment/rental_payment3.json"
        ],
        [
         2.99,
         506,
         4502,
         506,
         "2005-08-21 08:34:26",
         13656,
         "2006-02-15 22:20:32",
         1,
         506,
         "2005-05-25 19:12:42",
         14337,
         114,
         "2006-02-15 21:30:53",
         16867,
         1,
         "2005-06-01 23:10:42",
         1,
         null,
         "2023-05-13T04:09:15.005+0000",
         "dbfs:/FileStore/ds2002-final-project/source_data/stream/rental_payment/rental_payment3.json"
        ],
        [
         9.99,
         506,
         4502,
         506,
         "2005-08-23 10:02:46",
         13660,
         "2006-02-15 22:20:33",
         1,
         506,
         "2005-05-25 19:12:42",
         15694,
         114,
         "2006-02-15 21:30:53",
         16868,
         1,
         "2005-06-01 23:10:42",
         1,
         null,
         "2023-05-13T04:09:15.005+0000",
         "dbfs:/FileStore/ds2002-final-project/source_data/stream/rental_payment/rental_payment3.json"
        ],
        [
         1.99,
         455,
         749,
         455,
         "2005-06-16 20:23:30",
         12284,
         "2006-02-15 22:19:11",
         1,
         455,
         "2005-05-25 19:13:25",
         1802,
         115,
         "2006-02-15 21:30:53",
         16869,
         1,
         "2005-05-29 20:17:25",
         1,
         null,
         "2023-05-13T04:09:15.005+0000",
         "dbfs:/FileStore/ds2002-final-project/source_data/stream/rental_payment/rental_payment3.json"
        ],
        [
         2.99,
         455,
         749,
         455,
         "2005-06-17 04:53:35",
         12285,
         "2006-02-15 22:19:11",
         1,
         455,
         "2005-05-25 19:13:25",
         1906,
         115,
         "2006-02-15 21:30:53",
         16870,
         1,
         "2005-05-29 20:17:25",
         1,
         null,
         "2023-05-13T04:09:15.005+0000",
         "dbfs:/FileStore/ds2002-final-project/source_data/stream/rental_payment/rental_payment3.json"
        ],
        [
         8.99,
         455,
         749,
         455,
         "2005-07-08 18:57:30",
         12288,
         "2006-02-15 22:19:11",
         1,
         455,
         "2005-05-25 19:13:25",
         4861,
         115,
         "2006-02-15 21:30:53",
         16871,
         1,
         "2005-05-29 20:17:25",
         1,
         null,
         "2023-05-13T04:09:15.005+0000",
         "dbfs:/FileStore/ds2002-final-project/source_data/stream/rental_payment/rental_payment3.json"
        ],
        [
         2.99,
         455,
         749,
         455,
         "2005-07-08 23:46:38",
         12289,
         "2006-02-15 22:19:11",
         1,
         455,
         "2005-05-25 19:13:25",
         4964,
         115,
         "2006-02-15 21:30:53",
         16872,
         1,
         "2005-05-29 20:17:25",
         1,
         null,
         "2023-05-13T04:09:15.005+0000",
         "dbfs:/FileStore/ds2002-final-project/source_data/stream/rental_payment/rental_payment3.json"
        ],
        [
         6.99,
         455,
         749,
         455,
         "2005-07-10 00:36:38",
         12290,
         "2006-02-15 22:19:11",
         1,
         455,
         "2005-05-25 19:13:25",
         5504,
         115,
         "2006-02-15 21:30:53",
         16873,
         1,
         "2005-05-29 20:17:25",
         1,
         null,
         "2023-05-13T04:09:15.005+0000",
         "dbfs:/FileStore/ds2002-final-project/source_data/stream/rental_payment/rental_payment3.json"
        ],
        [
         4.99,
         455,
         749,
         455,
         "2005-07-27 15:54:19",
         12292,
         "2006-02-15 22:19:11",
         1,
         455,
         "2005-05-25 19:13:25",
         7388,
         115,
         "2006-02-15 21:30:53",
         16874,
         1,
         "2005-05-29 20:17:25",
         1,
         null,
         "2023-05-13T04:09:15.005+0000",
         "dbfs:/FileStore/ds2002-final-project/source_data/stream/rental_payment/rental_payment3.json"
        ]
       ],
       "datasetInfos": [],
       "dbfsResultPath": null,
       "isJsonSchema": true,
       "metadata": {
        "isDbfsCommandResult": false
       },
       "overflow": false,
       "plotOptions": {
        "customPlotOptions": {},
        "displayType": "table",
        "pivotAggregation": null,
        "pivotColumns": null,
        "xColumns": null,
        "yColumns": null
       },
       "removedWidgets": [],
       "schema": [
        {
         "metadata": "{}",
         "name": "amount",
         "type": "\"double\""
        },
        {
         "metadata": "{}",
         "name": "customer_key",
         "type": "\"long\""
        },
        {
         "metadata": "{}",
         "name": "inventory_id",
         "type": "\"long\""
        },
        {
         "metadata": "{}",
         "name": "payment_customer_id",
         "type": "\"long\""
        },
        {
         "metadata": "{}",
         "name": "payment_date",
         "type": "\"string\""
        },
        {
         "metadata": "{}",
         "name": "payment_key",
         "type": "\"long\""
        },
        {
         "metadata": "{}",
         "name": "payment_last_update",
         "type": "\"string\""
        },
        {
         "metadata": "{}",
         "name": "payment_staff_id",
         "type": "\"long\""
        },
        {
         "metadata": "{}",
         "name": "rental_customer_id",
         "type": "\"long\""
        },
        {
         "metadata": "{}",
         "name": "rental_date",
         "type": "\"string\""
        },
        {
         "metadata": "{}",
         "name": "rental_id",
         "type": "\"long\""
        },
        {
         "metadata": "{}",
         "name": "rental_key",
         "type": "\"long\""
        },
        {
         "metadata": "{}",
         "name": "rental_last_update",
         "type": "\"string\""
        },
        {
         "metadata": "{}",
         "name": "rental_payment_key",
         "type": "\"long\""
        },
        {
         "metadata": "{}",
         "name": "rental_staff_id",
         "type": "\"long\""
        },
        {
         "metadata": "{}",
         "name": "return_date",
         "type": "\"string\""
        },
        {
         "metadata": "{}",
         "name": "staff_key",
         "type": "\"long\""
        },
        {
         "metadata": "{}",
         "name": "_rescued_data",
         "type": "\"string\""
        },
        {
         "metadata": "{}",
         "name": "receipt_time",
         "type": "\"timestamp\""
        },
        {
         "metadata": "{}",
         "name": "source_file",
         "type": "\"string\""
        }
       ],
       "type": "table"
      }
     },
     "output_type": "display_data"
    }
   ],
   "source": [
    "%sql\n",
    "SELECT * FROM rental_payment_bronze_tempview\n",
    "LIMIT 10"
   ]
  },
  {
   "cell_type": "code",
   "execution_count": 0,
   "metadata": {
    "application/vnd.databricks.v1+cell": {
     "cellMetadata": {
      "byteLimit": 2048000,
      "rowLimit": 10000
     },
     "inputWidgets": {},
     "nuid": "e89a9e0c-69da-452a-92d5-724fb81529ed",
     "showTitle": false,
     "title": ""
    }
   },
   "outputs": [
    {
     "output_type": "stream",
     "name": "stdout",
     "output_type": "stream",
     "text": [
      "Out[280]: <pyspark.sql.streaming.query.StreamingQuery at 0x7f011f9aa9a0>"
     ]
    }
   ],
   "source": [
    "(spark.table(\"rental_payment_bronze_tempview\")\n",
    "      .writeStream\n",
    "      .format(\"delta\")\n",
    "      .option(\"checkpointLocation\", f\"{rental_payment_output_bronze}/_checkpoint\")\n",
    "      .outputMode(\"append\")\n",
    "      .table(\"fact_rental_payment_bronze\"))"
   ]
  },
  {
   "cell_type": "markdown",
   "metadata": {
    "application/vnd.databricks.v1+cell": {
     "cellMetadata": {},
     "inputWidgets": {},
     "nuid": "030a8ad8-1937-4708-91e2-2975eb731862",
     "showTitle": false,
     "title": ""
    }
   },
   "source": [
    "##### Silver Table: Including Reference Data"
   ]
  },
  {
   "cell_type": "code",
   "execution_count": 0,
   "metadata": {
    "application/vnd.databricks.v1+cell": {
     "cellMetadata": {
      "byteLimit": 2048000,
      "rowLimit": 10000
     },
     "inputWidgets": {},
     "nuid": "4998a27c-4486-4d7c-bb79-f29d7cdeae01",
     "showTitle": false,
     "title": ""
    }
   },
   "outputs": [],
   "source": [
    "(spark.readStream\n",
    "  .table(\"fact_rental_payment_bronze\")\n",
    "  .createOrReplaceTempView(\"rental_payment_silver_tempview\"))"
   ]
  },
  {
   "cell_type": "code",
   "execution_count": 0,
   "metadata": {
    "application/vnd.databricks.v1+cell": {
     "cellMetadata": {
      "byteLimit": 2048000,
      "implicitDf": true,
      "rowLimit": 10000
     },
     "inputWidgets": {},
     "nuid": "b160aaaf-2edc-46eb-8514-765d55695ad5",
     "showTitle": false,
     "title": ""
    }
   },
   "outputs": [
    {
     "output_type": "display_data",
     "data": {
      "text/html": [
       "<style scoped>\n",
       "  .table-result-container {\n",
       "    max-height: 300px;\n",
       "    overflow: auto;\n",
       "  }\n",
       "  table, th, td {\n",
       "    border: 1px solid black;\n",
       "    border-collapse: collapse;\n",
       "  }\n",
       "  th, td {\n",
       "    padding: 5px;\n",
       "  }\n",
       "  th {\n",
       "    text-align: left;\n",
       "  }\n",
       "</style><div class='table-result-container'><table class='table-result'><thead style='background-color: white'><tr><th>amount</th><th>customer_key</th><th>inventory_id</th><th>payment_customer_id</th><th>payment_date</th><th>payment_key</th><th>payment_last_update</th><th>payment_staff_id</th><th>rental_customer_id</th><th>rental_date</th><th>rental_id</th><th>rental_key</th><th>rental_last_update</th><th>rental_payment_key</th><th>rental_staff_id</th><th>return_date</th><th>staff_key</th><th>_rescued_data</th><th>receipt_time</th><th>source_file</th></tr></thead><tbody><tr><td>0.99</td><td>506</td><td>4502</td><td>506</td><td>2005-08-19 07:26:10</td><td>13652</td><td>2006-02-15 22:20:32</td><td>1</td><td>506</td><td>2005-05-25 19:12:42</td><td>12994</td><td>114</td><td>2006-02-15 21:30:53</td><td>16865</td><td>1</td><td>2005-06-01 23:10:42</td><td>1</td><td>null</td><td>2023-05-13T03:39:54.741+0000</td><td>dbfs:/FileStore/ds2002-final-project/source_data/stream/rental_payment/rental_payment3.json</td></tr><tr><td>1.99</td><td>506</td><td>4502</td><td>506</td><td>2005-08-20 23:16:07</td><td>13655</td><td>2006-02-15 22:20:32</td><td>1</td><td>506</td><td>2005-05-25 19:12:42</td><td>14074</td><td>114</td><td>2006-02-15 21:30:53</td><td>16866</td><td>1</td><td>2005-06-01 23:10:42</td><td>1</td><td>null</td><td>2023-05-13T03:39:54.741+0000</td><td>dbfs:/FileStore/ds2002-final-project/source_data/stream/rental_payment/rental_payment3.json</td></tr><tr><td>2.99</td><td>506</td><td>4502</td><td>506</td><td>2005-08-21 08:34:26</td><td>13656</td><td>2006-02-15 22:20:32</td><td>1</td><td>506</td><td>2005-05-25 19:12:42</td><td>14337</td><td>114</td><td>2006-02-15 21:30:53</td><td>16867</td><td>1</td><td>2005-06-01 23:10:42</td><td>1</td><td>null</td><td>2023-05-13T03:39:54.741+0000</td><td>dbfs:/FileStore/ds2002-final-project/source_data/stream/rental_payment/rental_payment3.json</td></tr><tr><td>9.99</td><td>506</td><td>4502</td><td>506</td><td>2005-08-23 10:02:46</td><td>13660</td><td>2006-02-15 22:20:33</td><td>1</td><td>506</td><td>2005-05-25 19:12:42</td><td>15694</td><td>114</td><td>2006-02-15 21:30:53</td><td>16868</td><td>1</td><td>2005-06-01 23:10:42</td><td>1</td><td>null</td><td>2023-05-13T03:39:54.741+0000</td><td>dbfs:/FileStore/ds2002-final-project/source_data/stream/rental_payment/rental_payment3.json</td></tr><tr><td>1.99</td><td>455</td><td>749</td><td>455</td><td>2005-06-16 20:23:30</td><td>12284</td><td>2006-02-15 22:19:11</td><td>1</td><td>455</td><td>2005-05-25 19:13:25</td><td>1802</td><td>115</td><td>2006-02-15 21:30:53</td><td>16869</td><td>1</td><td>2005-05-29 20:17:25</td><td>1</td><td>null</td><td>2023-05-13T03:39:54.741+0000</td><td>dbfs:/FileStore/ds2002-final-project/source_data/stream/rental_payment/rental_payment3.json</td></tr><tr><td>2.99</td><td>455</td><td>749</td><td>455</td><td>2005-06-17 04:53:35</td><td>12285</td><td>2006-02-15 22:19:11</td><td>1</td><td>455</td><td>2005-05-25 19:13:25</td><td>1906</td><td>115</td><td>2006-02-15 21:30:53</td><td>16870</td><td>1</td><td>2005-05-29 20:17:25</td><td>1</td><td>null</td><td>2023-05-13T03:39:54.741+0000</td><td>dbfs:/FileStore/ds2002-final-project/source_data/stream/rental_payment/rental_payment3.json</td></tr><tr><td>8.99</td><td>455</td><td>749</td><td>455</td><td>2005-07-08 18:57:30</td><td>12288</td><td>2006-02-15 22:19:11</td><td>1</td><td>455</td><td>2005-05-25 19:13:25</td><td>4861</td><td>115</td><td>2006-02-15 21:30:53</td><td>16871</td><td>1</td><td>2005-05-29 20:17:25</td><td>1</td><td>null</td><td>2023-05-13T03:39:54.741+0000</td><td>dbfs:/FileStore/ds2002-final-project/source_data/stream/rental_payment/rental_payment3.json</td></tr><tr><td>2.99</td><td>455</td><td>749</td><td>455</td><td>2005-07-08 23:46:38</td><td>12289</td><td>2006-02-15 22:19:11</td><td>1</td><td>455</td><td>2005-05-25 19:13:25</td><td>4964</td><td>115</td><td>2006-02-15 21:30:53</td><td>16872</td><td>1</td><td>2005-05-29 20:17:25</td><td>1</td><td>null</td><td>2023-05-13T03:39:54.741+0000</td><td>dbfs:/FileStore/ds2002-final-project/source_data/stream/rental_payment/rental_payment3.json</td></tr><tr><td>6.99</td><td>455</td><td>749</td><td>455</td><td>2005-07-10 00:36:38</td><td>12290</td><td>2006-02-15 22:19:11</td><td>1</td><td>455</td><td>2005-05-25 19:13:25</td><td>5504</td><td>115</td><td>2006-02-15 21:30:53</td><td>16873</td><td>1</td><td>2005-05-29 20:17:25</td><td>1</td><td>null</td><td>2023-05-13T03:39:54.741+0000</td><td>dbfs:/FileStore/ds2002-final-project/source_data/stream/rental_payment/rental_payment3.json</td></tr><tr><td>4.99</td><td>455</td><td>749</td><td>455</td><td>2005-07-27 15:54:19</td><td>12292</td><td>2006-02-15 22:19:11</td><td>1</td><td>455</td><td>2005-05-25 19:13:25</td><td>7388</td><td>115</td><td>2006-02-15 21:30:53</td><td>16874</td><td>1</td><td>2005-05-29 20:17:25</td><td>1</td><td>null</td><td>2023-05-13T03:39:54.741+0000</td><td>dbfs:/FileStore/ds2002-final-project/source_data/stream/rental_payment/rental_payment3.json</td></tr></tbody></table></div>"
      ]
     },
     "metadata": {
      "application/vnd.databricks.v1+output": {
       "addedWidgets": {},
       "aggData": [],
       "aggError": "",
       "aggOverflow": false,
       "aggSchema": [],
       "aggSeriesLimitReached": false,
       "aggType": "",
       "arguments": {},
       "columnCustomDisplayInfos": {},
       "data": [
        [
         0.99,
         506,
         4502,
         506,
         "2005-08-19 07:26:10",
         13652,
         "2006-02-15 22:20:32",
         1,
         506,
         "2005-05-25 19:12:42",
         12994,
         114,
         "2006-02-15 21:30:53",
         16865,
         1,
         "2005-06-01 23:10:42",
         1,
         null,
         "2023-05-13T03:39:54.741+0000",
         "dbfs:/FileStore/ds2002-final-project/source_data/stream/rental_payment/rental_payment3.json"
        ],
        [
         1.99,
         506,
         4502,
         506,
         "2005-08-20 23:16:07",
         13655,
         "2006-02-15 22:20:32",
         1,
         506,
         "2005-05-25 19:12:42",
         14074,
         114,
         "2006-02-15 21:30:53",
         16866,
         1,
         "2005-06-01 23:10:42",
         1,
         null,
         "2023-05-13T03:39:54.741+0000",
         "dbfs:/FileStore/ds2002-final-project/source_data/stream/rental_payment/rental_payment3.json"
        ],
        [
         2.99,
         506,
         4502,
         506,
         "2005-08-21 08:34:26",
         13656,
         "2006-02-15 22:20:32",
         1,
         506,
         "2005-05-25 19:12:42",
         14337,
         114,
         "2006-02-15 21:30:53",
         16867,
         1,
         "2005-06-01 23:10:42",
         1,
         null,
         "2023-05-13T03:39:54.741+0000",
         "dbfs:/FileStore/ds2002-final-project/source_data/stream/rental_payment/rental_payment3.json"
        ],
        [
         9.99,
         506,
         4502,
         506,
         "2005-08-23 10:02:46",
         13660,
         "2006-02-15 22:20:33",
         1,
         506,
         "2005-05-25 19:12:42",
         15694,
         114,
         "2006-02-15 21:30:53",
         16868,
         1,
         "2005-06-01 23:10:42",
         1,
         null,
         "2023-05-13T03:39:54.741+0000",
         "dbfs:/FileStore/ds2002-final-project/source_data/stream/rental_payment/rental_payment3.json"
        ],
        [
         1.99,
         455,
         749,
         455,
         "2005-06-16 20:23:30",
         12284,
         "2006-02-15 22:19:11",
         1,
         455,
         "2005-05-25 19:13:25",
         1802,
         115,
         "2006-02-15 21:30:53",
         16869,
         1,
         "2005-05-29 20:17:25",
         1,
         null,
         "2023-05-13T03:39:54.741+0000",
         "dbfs:/FileStore/ds2002-final-project/source_data/stream/rental_payment/rental_payment3.json"
        ],
        [
         2.99,
         455,
         749,
         455,
         "2005-06-17 04:53:35",
         12285,
         "2006-02-15 22:19:11",
         1,
         455,
         "2005-05-25 19:13:25",
         1906,
         115,
         "2006-02-15 21:30:53",
         16870,
         1,
         "2005-05-29 20:17:25",
         1,
         null,
         "2023-05-13T03:39:54.741+0000",
         "dbfs:/FileStore/ds2002-final-project/source_data/stream/rental_payment/rental_payment3.json"
        ],
        [
         8.99,
         455,
         749,
         455,
         "2005-07-08 18:57:30",
         12288,
         "2006-02-15 22:19:11",
         1,
         455,
         "2005-05-25 19:13:25",
         4861,
         115,
         "2006-02-15 21:30:53",
         16871,
         1,
         "2005-05-29 20:17:25",
         1,
         null,
         "2023-05-13T03:39:54.741+0000",
         "dbfs:/FileStore/ds2002-final-project/source_data/stream/rental_payment/rental_payment3.json"
        ],
        [
         2.99,
         455,
         749,
         455,
         "2005-07-08 23:46:38",
         12289,
         "2006-02-15 22:19:11",
         1,
         455,
         "2005-05-25 19:13:25",
         4964,
         115,
         "2006-02-15 21:30:53",
         16872,
         1,
         "2005-05-29 20:17:25",
         1,
         null,
         "2023-05-13T03:39:54.741+0000",
         "dbfs:/FileStore/ds2002-final-project/source_data/stream/rental_payment/rental_payment3.json"
        ],
        [
         6.99,
         455,
         749,
         455,
         "2005-07-10 00:36:38",
         12290,
         "2006-02-15 22:19:11",
         1,
         455,
         "2005-05-25 19:13:25",
         5504,
         115,
         "2006-02-15 21:30:53",
         16873,
         1,
         "2005-05-29 20:17:25",
         1,
         null,
         "2023-05-13T03:39:54.741+0000",
         "dbfs:/FileStore/ds2002-final-project/source_data/stream/rental_payment/rental_payment3.json"
        ],
        [
         4.99,
         455,
         749,
         455,
         "2005-07-27 15:54:19",
         12292,
         "2006-02-15 22:19:11",
         1,
         455,
         "2005-05-25 19:13:25",
         7388,
         115,
         "2006-02-15 21:30:53",
         16874,
         1,
         "2005-05-29 20:17:25",
         1,
         null,
         "2023-05-13T03:39:54.741+0000",
         "dbfs:/FileStore/ds2002-final-project/source_data/stream/rental_payment/rental_payment3.json"
        ]
       ],
       "datasetInfos": [],
       "dbfsResultPath": null,
       "isJsonSchema": true,
       "metadata": {
        "isDbfsCommandResult": false
       },
       "overflow": false,
       "plotOptions": {
        "customPlotOptions": {},
        "displayType": "table",
        "pivotAggregation": null,
        "pivotColumns": null,
        "xColumns": null,
        "yColumns": null
       },
       "removedWidgets": [],
       "schema": [
        {
         "metadata": "{}",
         "name": "amount",
         "type": "\"double\""
        },
        {
         "metadata": "{}",
         "name": "customer_key",
         "type": "\"long\""
        },
        {
         "metadata": "{}",
         "name": "inventory_id",
         "type": "\"long\""
        },
        {
         "metadata": "{}",
         "name": "payment_customer_id",
         "type": "\"long\""
        },
        {
         "metadata": "{}",
         "name": "payment_date",
         "type": "\"string\""
        },
        {
         "metadata": "{}",
         "name": "payment_key",
         "type": "\"long\""
        },
        {
         "metadata": "{}",
         "name": "payment_last_update",
         "type": "\"string\""
        },
        {
         "metadata": "{}",
         "name": "payment_staff_id",
         "type": "\"long\""
        },
        {
         "metadata": "{}",
         "name": "rental_customer_id",
         "type": "\"long\""
        },
        {
         "metadata": "{}",
         "name": "rental_date",
         "type": "\"string\""
        },
        {
         "metadata": "{}",
         "name": "rental_id",
         "type": "\"long\""
        },
        {
         "metadata": "{}",
         "name": "rental_key",
         "type": "\"long\""
        },
        {
         "metadata": "{}",
         "name": "rental_last_update",
         "type": "\"string\""
        },
        {
         "metadata": "{}",
         "name": "rental_payment_key",
         "type": "\"long\""
        },
        {
         "metadata": "{}",
         "name": "rental_staff_id",
         "type": "\"long\""
        },
        {
         "metadata": "{}",
         "name": "return_date",
         "type": "\"string\""
        },
        {
         "metadata": "{}",
         "name": "staff_key",
         "type": "\"long\""
        },
        {
         "metadata": "{}",
         "name": "_rescued_data",
         "type": "\"string\""
        },
        {
         "metadata": "{}",
         "name": "receipt_time",
         "type": "\"timestamp\""
        },
        {
         "metadata": "{}",
         "name": "source_file",
         "type": "\"string\""
        }
       ],
       "type": "table"
      }
     },
     "output_type": "display_data"
    }
   ],
   "source": [
    "%sql\n",
    "SELECT * FROM rental_payment_silver_tempview\n",
    "LIMIT 10"
   ]
  },
  {
   "cell_type": "code",
   "execution_count": 0,
   "metadata": {
    "application/vnd.databricks.v1+cell": {
     "cellMetadata": {
      "byteLimit": 2048000,
      "implicitDf": true,
      "rowLimit": 10000
     },
     "inputWidgets": {},
     "nuid": "27e95e9e-62c2-4c85-a66b-7d6e145a4193",
     "showTitle": false,
     "title": ""
    }
   },
   "outputs": [
    {
     "output_type": "display_data",
     "data": {
      "text/html": [
       "<style scoped>\n",
       "  .table-result-container {\n",
       "    max-height: 300px;\n",
       "    overflow: auto;\n",
       "  }\n",
       "  table, th, td {\n",
       "    border: 1px solid black;\n",
       "    border-collapse: collapse;\n",
       "  }\n",
       "  th, td {\n",
       "    padding: 5px;\n",
       "  }\n",
       "  th {\n",
       "    text-align: left;\n",
       "  }\n",
       "</style><div class='table-result-container'><table class='table-result'><thead style='background-color: white'><tr><th>col_name</th><th>data_type</th><th>comment</th></tr></thead><tbody><tr><td>amount</td><td>double</td><td>null</td></tr><tr><td>customer_key</td><td>bigint</td><td>null</td></tr><tr><td>inventory_id</td><td>bigint</td><td>null</td></tr><tr><td>payment_customer_id</td><td>bigint</td><td>null</td></tr><tr><td>payment_date</td><td>string</td><td>null</td></tr><tr><td>payment_key</td><td>bigint</td><td>null</td></tr><tr><td>payment_last_update</td><td>string</td><td>null</td></tr><tr><td>payment_staff_id</td><td>bigint</td><td>null</td></tr><tr><td>rental_customer_id</td><td>bigint</td><td>null</td></tr><tr><td>rental_date</td><td>string</td><td>null</td></tr><tr><td>rental_id</td><td>bigint</td><td>null</td></tr><tr><td>rental_key</td><td>bigint</td><td>null</td></tr><tr><td>rental_last_update</td><td>string</td><td>null</td></tr><tr><td>rental_payment_key</td><td>bigint</td><td>null</td></tr><tr><td>rental_staff_id</td><td>bigint</td><td>null</td></tr><tr><td>return_date</td><td>string</td><td>null</td></tr><tr><td>staff_key</td><td>bigint</td><td>null</td></tr><tr><td>_rescued_data</td><td>string</td><td>null</td></tr><tr><td>receipt_time</td><td>timestamp</td><td>null</td></tr><tr><td>source_file</td><td>string</td><td>null</td></tr></tbody></table></div>"
      ]
     },
     "metadata": {
      "application/vnd.databricks.v1+output": {
       "addedWidgets": {},
       "aggData": [],
       "aggError": "",
       "aggOverflow": false,
       "aggSchema": [],
       "aggSeriesLimitReached": false,
       "aggType": "",
       "arguments": {},
       "columnCustomDisplayInfos": {},
       "data": [
        [
         "amount",
         "double",
         null
        ],
        [
         "customer_key",
         "bigint",
         null
        ],
        [
         "inventory_id",
         "bigint",
         null
        ],
        [
         "payment_customer_id",
         "bigint",
         null
        ],
        [
         "payment_date",
         "string",
         null
        ],
        [
         "payment_key",
         "bigint",
         null
        ],
        [
         "payment_last_update",
         "string",
         null
        ],
        [
         "payment_staff_id",
         "bigint",
         null
        ],
        [
         "rental_customer_id",
         "bigint",
         null
        ],
        [
         "rental_date",
         "string",
         null
        ],
        [
         "rental_id",
         "bigint",
         null
        ],
        [
         "rental_key",
         "bigint",
         null
        ],
        [
         "rental_last_update",
         "string",
         null
        ],
        [
         "rental_payment_key",
         "bigint",
         null
        ],
        [
         "rental_staff_id",
         "bigint",
         null
        ],
        [
         "return_date",
         "string",
         null
        ],
        [
         "staff_key",
         "bigint",
         null
        ],
        [
         "_rescued_data",
         "string",
         null
        ],
        [
         "receipt_time",
         "timestamp",
         null
        ],
        [
         "source_file",
         "string",
         null
        ]
       ],
       "datasetInfos": [],
       "dbfsResultPath": null,
       "isJsonSchema": true,
       "metadata": {},
       "overflow": false,
       "plotOptions": {
        "customPlotOptions": {},
        "displayType": "table",
        "pivotAggregation": null,
        "pivotColumns": null,
        "xColumns": null,
        "yColumns": null
       },
       "removedWidgets": [],
       "schema": [
        {
         "metadata": "{\"comment\":\"name of the column\"}",
         "name": "col_name",
         "type": "\"string\""
        },
        {
         "metadata": "{\"comment\":\"data type of the column\"}",
         "name": "data_type",
         "type": "\"string\""
        },
        {
         "metadata": "{\"comment\":\"comment of the column\"}",
         "name": "comment",
         "type": "\"string\""
        }
       ],
       "type": "table"
      }
     },
     "output_type": "display_data"
    }
   ],
   "source": [
    "%sql\n",
    "DESCRIBE EXTENDED rental_payment_silver_tempview"
   ]
  },
  {
   "cell_type": "code",
   "execution_count": 0,
   "metadata": {
    "application/vnd.databricks.v1+cell": {
     "cellMetadata": {
      "byteLimit": 2048000,
      "implicitDf": true,
      "rowLimit": 10000
     },
     "inputWidgets": {},
     "nuid": "710c49bc-c34a-4db5-9cea-ab801ffe9688",
     "showTitle": false,
     "title": ""
    }
   },
   "outputs": [
    {
     "output_type": "display_data",
     "data": {
      "text/html": [
       "<style scoped>\n",
       "  .table-result-container {\n",
       "    max-height: 300px;\n",
       "    overflow: auto;\n",
       "  }\n",
       "  table, th, td {\n",
       "    border: 1px solid black;\n",
       "    border-collapse: collapse;\n",
       "  }\n",
       "  th, td {\n",
       "    padding: 5px;\n",
       "  }\n",
       "  th {\n",
       "    text-align: left;\n",
       "  }\n",
       "</style><div class='table-result-container'><table class='table-result'><thead style='background-color: white'><tr></tr></thead><tbody></tbody></table></div>"
      ]
     },
     "metadata": {
      "application/vnd.databricks.v1+output": {
       "addedWidgets": {},
       "aggData": [],
       "aggError": "",
       "aggOverflow": false,
       "aggSchema": [],
       "aggSeriesLimitReached": false,
       "aggType": "",
       "arguments": {},
       "columnCustomDisplayInfos": {},
       "data": [],
       "datasetInfos": [],
       "dbfsResultPath": null,
       "isJsonSchema": true,
       "metadata": {},
       "overflow": false,
       "plotOptions": {
        "customPlotOptions": {},
        "displayType": "table",
        "pivotAggregation": null,
        "pivotColumns": null,
        "xColumns": null,
        "yColumns": null
       },
       "removedWidgets": [],
       "schema": [],
       "type": "table"
      }
     },
     "output_type": "display_data"
    }
   ],
   "source": [
    "%sql\n",
    "CREATE OR REPLACE TEMPORARY VIEW fact_rental_payment_silver_tempview AS (\n",
    "  SELECT\n",
    "    `rp`.`payment_key`,\n",
    "    `rp`.`customer_key`,\n",
    "    `rp`.`staff_key`,\n",
    "    `rp`.`rental_date`,\n",
    "    `rp`.`inventory_id`,\n",
    "    `rp`.`rental_customer_id`,\n",
    "    `rp`.`return_date`,\n",
    "    `rp`.`rental_staff_id`,\n",
    "    `rp`.`payment_customer_id`,\n",
    "    `rp`.`payment_staff_id`,\n",
    "    `rp`.`rental_id`,\n",
    "    `rp`.`amount`,\n",
    "    `rp`.`payment_date`,\n",
    "    `rp`.`payment_last_update`,\n",
    "    `i`.`inventory_id` AS i_inventory_id,\n",
    "    `i`.`film_id`,\n",
    "    `i`.`store_id` AS i_store_id,\n",
    "    `i`.`last_update` AS i_last_update,\n",
    "    `s`.`staff_id`,\n",
    "    `s`.`first_name`,\n",
    "    `s`.`last_name`,\n",
    "    `s`.`address_id` AS s_address_id,\n",
    "    `s`.`email` AS s_email,\n",
    "    `s`.`store_id` AS s_store_id,\n",
    "    `s`.`active` AS s_active,\n",
    "    `s`.`username`,\n",
    "    `s`.`password`,\n",
    "    `s`.`last_update` AS s_last_update,\n",
    "    `c`.`customer_id`,\n",
    "    `c`.`store_id`,\n",
    "    `c`.`first_name` AS c_first_name,\n",
    "    `c`.`last_name` AS c_last_name,\n",
    "    `c`.`email` AS c_email,\n",
    "    `c`.`address_id` AS c_address_id,\n",
    "    `c`.`active` AS c_active,\n",
    "    `c`.`create_date`,\n",
    "    `c`.`last_update` AS c_last_update,\n",
    "    `d`.`date_key`,\n",
    "    `d`.`full_date`,\n",
    "    `d`.`date_name`,\n",
    "    `d`.`date_name_us`,\n",
    "    `d`.`date_name_eu`,\n",
    "    `d`.`day_of_week`,\n",
    "    `d`.`day_name_of_week`,\n",
    "    `d`.`day_of_month`,\n",
    "    `d`.`day_of_year`,\n",
    "    `d`.`weekday_weekend`,\n",
    "    `d`.`week_of_year`,\n",
    "    `d`.`month_name`,\n",
    "    `d`.`month_of_year`,\n",
    "    `d`.`is_last_day_of_month`,\n",
    "    `d`.`calendar_quarter`,\n",
    "    `d`.`calendar_year`,\n",
    "    `d`.`calendar_year_month`,\n",
    "    `d`.`calendar_year_qtr`,\n",
    "    `d`.`fiscal_month_of_year`,\n",
    "    `d`.`fiscal_quarter`,\n",
    "    `d`.`fiscal_year`,\n",
    "    `d`.`fiscal_year_month`,\n",
    "    `d`.`fiscal_year_qtr`\n",
    "  FROM rental_payment_silver_tempview as rp\n",
    "  INNER JOIN sakila_dlh.dim_staff AS s\n",
    "  ON s.staff_id = rp.staff_key\n",
    "  INNER JOIN sakila_dlh.dim_customer AS c\n",
    "  ON c.customer_id = rp.customer_key\n",
    "  INNER JOIN sakila_dlh.dim_inventory AS i\n",
    "  ON i.inventory_id = rp.inventory_id\n",
    "  INNER JOIN sakila_dlh.dim_date AS d\n",
    "  ON d.full_date = SUBSTRING(rp.payment_date, 1, 10) --Parsing the first 10 letters of payment_date to have the same format as full_date\n",
    ")"
   ]
  },
  {
   "cell_type": "code",
   "execution_count": 0,
   "metadata": {
    "application/vnd.databricks.v1+cell": {
     "cellMetadata": {
      "byteLimit": 2048000,
      "rowLimit": 10000
     },
     "inputWidgets": {},
     "nuid": "240d8a94-0801-4e89-966d-a08f843efb6b",
     "showTitle": false,
     "title": ""
    }
   },
   "outputs": [
    {
     "output_type": "stream",
     "name": "stdout",
     "output_type": "stream",
     "text": [
      "Out[285]: <pyspark.sql.streaming.query.StreamingQuery at 0x7f011f9bc760>"
     ]
    }
   ],
   "source": [
    "(spark.table(\"fact_rental_payment_silver_tempview\")\n",
    "      .writeStream\n",
    "      .format(\"delta\")\n",
    "      .option(\"checkpointLocation\", f\"{rental_payment_output_silver}/_checkpoint\")\n",
    "      .outputMode(\"append\")\n",
    "      .table(\"fact_rental_payment_silver\"))"
   ]
  },
  {
   "cell_type": "code",
   "execution_count": 0,
   "metadata": {
    "application/vnd.databricks.v1+cell": {
     "cellMetadata": {
      "byteLimit": 2048000,
      "implicitDf": true,
      "rowLimit": 10000
     },
     "inputWidgets": {},
     "nuid": "e0405389-1528-48ba-96cc-90a9c67f1c34",
     "showTitle": false,
     "title": ""
    }
   },
   "outputs": [
    {
     "output_type": "display_data",
     "data": {
      "text/html": [
       "<style scoped>\n",
       "  .table-result-container {\n",
       "    max-height: 300px;\n",
       "    overflow: auto;\n",
       "  }\n",
       "  table, th, td {\n",
       "    border: 1px solid black;\n",
       "    border-collapse: collapse;\n",
       "  }\n",
       "  th, td {\n",
       "    padding: 5px;\n",
       "  }\n",
       "  th {\n",
       "    text-align: left;\n",
       "  }\n",
       "</style><div class='table-result-container'><table class='table-result'><thead style='background-color: white'><tr><th>payment_key</th><th>customer_key</th><th>staff_key</th><th>rental_date</th><th>inventory_id</th><th>rental_customer_id</th><th>return_date</th><th>rental_staff_id</th><th>payment_customer_id</th><th>payment_staff_id</th><th>rental_id</th><th>amount</th><th>payment_date</th><th>payment_last_update</th><th>i_inventory_id</th><th>film_id</th><th>i_store_id</th><th>i_last_update</th><th>staff_id</th><th>first_name</th><th>last_name</th><th>s_address_id</th><th>s_email</th><th>s_store_id</th><th>s_active</th><th>username</th><th>password</th><th>s_last_update</th><th>customer_id</th><th>store_id</th><th>c_first_name</th><th>c_last_name</th><th>c_email</th><th>c_address_id</th><th>c_active</th><th>create_date</th><th>c_last_update</th><th>date_key</th><th>full_date</th><th>date_name</th><th>date_name_us</th><th>date_name_eu</th><th>day_of_week</th><th>day_name_of_week</th><th>day_of_month</th><th>day_of_year</th><th>weekday_weekend</th><th>week_of_year</th><th>month_name</th><th>month_of_year</th><th>is_last_day_of_month</th><th>calendar_quarter</th><th>calendar_year</th><th>calendar_year_month</th><th>calendar_year_qtr</th><th>fiscal_month_of_year</th><th>fiscal_quarter</th><th>fiscal_year</th><th>fiscal_year_month</th><th>fiscal_year_qtr</th></tr></thead><tbody><tr><td>13652</td><td>506</td><td>1</td><td>2005-05-25 19:12:42</td><td>4502</td><td>506</td><td>2005-06-01 23:10:42</td><td>1</td><td>506</td><td>1</td><td>12994</td><td>0.99</td><td>2005-08-19 07:26:10</td><td>2006-02-15 22:20:32</td><td>4502</td><td>982</td><td>2</td><td>2006-02-15 05:09:17</td><td>1</td><td>Mike</td><td>Hillyer</td><td>3</td><td>Mike.Hillyer@sakilastaff.com</td><td>1</td><td>1</td><td>Mike</td><td>8cb2237d0679ca88db6464eac60da96345513964</td><td>2006-02-15T03:57:16.000+0000</td><td>506</td><td>2</td><td>LESLIE</td><td>SEWARD</td><td>LESLIE.SEWARD@sakilacustomer.org</td><td>511</td><td>1</td><td>2006-02-14 22:04:37</td><td>2006-02-15 04:57:20</td><td>20050819</td><td>2005-08-19</td><td>2005/08/19</td><td>08/19/2005</td><td>19/08/2005</td><td>6</td><td>Friday</td><td>19</td><td>231</td><td>Weekday</td><td>33</td><td>August</td><td>8</td><td>N</td><td>3</td><td>2005</td><td>2005-08</td><td>2005Q3</td><td>2</td><td>1</td><td>2006</td><td>2006-02</td><td>2006Q1</td></tr><tr><td>13655</td><td>506</td><td>1</td><td>2005-05-25 19:12:42</td><td>4502</td><td>506</td><td>2005-06-01 23:10:42</td><td>1</td><td>506</td><td>1</td><td>14074</td><td>1.99</td><td>2005-08-20 23:16:07</td><td>2006-02-15 22:20:32</td><td>4502</td><td>982</td><td>2</td><td>2006-02-15 05:09:17</td><td>1</td><td>Mike</td><td>Hillyer</td><td>3</td><td>Mike.Hillyer@sakilastaff.com</td><td>1</td><td>1</td><td>Mike</td><td>8cb2237d0679ca88db6464eac60da96345513964</td><td>2006-02-15T03:57:16.000+0000</td><td>506</td><td>2</td><td>LESLIE</td><td>SEWARD</td><td>LESLIE.SEWARD@sakilacustomer.org</td><td>511</td><td>1</td><td>2006-02-14 22:04:37</td><td>2006-02-15 04:57:20</td><td>20050820</td><td>2005-08-20</td><td>2005/08/20</td><td>08/20/2005</td><td>20/08/2005</td><td>7</td><td>Saturday</td><td>20</td><td>232</td><td>Weekend</td><td>33</td><td>August</td><td>8</td><td>N</td><td>3</td><td>2005</td><td>2005-08</td><td>2005Q3</td><td>2</td><td>1</td><td>2006</td><td>2006-02</td><td>2006Q1</td></tr><tr><td>13656</td><td>506</td><td>1</td><td>2005-05-25 19:12:42</td><td>4502</td><td>506</td><td>2005-06-01 23:10:42</td><td>1</td><td>506</td><td>1</td><td>14337</td><td>2.99</td><td>2005-08-21 08:34:26</td><td>2006-02-15 22:20:32</td><td>4502</td><td>982</td><td>2</td><td>2006-02-15 05:09:17</td><td>1</td><td>Mike</td><td>Hillyer</td><td>3</td><td>Mike.Hillyer@sakilastaff.com</td><td>1</td><td>1</td><td>Mike</td><td>8cb2237d0679ca88db6464eac60da96345513964</td><td>2006-02-15T03:57:16.000+0000</td><td>506</td><td>2</td><td>LESLIE</td><td>SEWARD</td><td>LESLIE.SEWARD@sakilacustomer.org</td><td>511</td><td>1</td><td>2006-02-14 22:04:37</td><td>2006-02-15 04:57:20</td><td>20050821</td><td>2005-08-21</td><td>2005/08/21</td><td>08/21/2005</td><td>21/08/2005</td><td>1</td><td>Sunday</td><td>21</td><td>233</td><td>Weekend</td><td>33</td><td>August</td><td>8</td><td>N</td><td>3</td><td>2005</td><td>2005-08</td><td>2005Q3</td><td>2</td><td>1</td><td>2006</td><td>2006-02</td><td>2006Q1</td></tr><tr><td>13660</td><td>506</td><td>1</td><td>2005-05-25 19:12:42</td><td>4502</td><td>506</td><td>2005-06-01 23:10:42</td><td>1</td><td>506</td><td>1</td><td>15694</td><td>9.99</td><td>2005-08-23 10:02:46</td><td>2006-02-15 22:20:33</td><td>4502</td><td>982</td><td>2</td><td>2006-02-15 05:09:17</td><td>1</td><td>Mike</td><td>Hillyer</td><td>3</td><td>Mike.Hillyer@sakilastaff.com</td><td>1</td><td>1</td><td>Mike</td><td>8cb2237d0679ca88db6464eac60da96345513964</td><td>2006-02-15T03:57:16.000+0000</td><td>506</td><td>2</td><td>LESLIE</td><td>SEWARD</td><td>LESLIE.SEWARD@sakilacustomer.org</td><td>511</td><td>1</td><td>2006-02-14 22:04:37</td><td>2006-02-15 04:57:20</td><td>20050823</td><td>2005-08-23</td><td>2005/08/23</td><td>08/23/2005</td><td>23/08/2005</td><td>3</td><td>Tuesday</td><td>23</td><td>235</td><td>Weekday</td><td>34</td><td>August</td><td>8</td><td>N</td><td>3</td><td>2005</td><td>2005-08</td><td>2005Q3</td><td>2</td><td>1</td><td>2006</td><td>2006-02</td><td>2006Q1</td></tr><tr><td>12284</td><td>455</td><td>1</td><td>2005-05-25 19:13:25</td><td>749</td><td>455</td><td>2005-05-29 20:17:25</td><td>1</td><td>455</td><td>1</td><td>1802</td><td>1.99</td><td>2005-06-16 20:23:30</td><td>2006-02-15 22:19:11</td><td>749</td><td>164</td><td>1</td><td>2006-02-15 05:09:17</td><td>1</td><td>Mike</td><td>Hillyer</td><td>3</td><td>Mike.Hillyer@sakilastaff.com</td><td>1</td><td>1</td><td>Mike</td><td>8cb2237d0679ca88db6464eac60da96345513964</td><td>2006-02-15T03:57:16.000+0000</td><td>455</td><td>2</td><td>JON</td><td>WILES</td><td>JON.WILES@sakilacustomer.org</td><td>460</td><td>1</td><td>2006-02-14 22:04:37</td><td>2006-02-15 04:57:20</td><td>20050616</td><td>2005-06-16</td><td>2005/06/16</td><td>06/16/2005</td><td>16/06/2005</td><td>5</td><td>Thursday</td><td>16</td><td>167</td><td>Weekday</td><td>24</td><td>June</td><td>6</td><td>N</td><td>2</td><td>2005</td><td>2005-06</td><td>2005Q2</td><td>12</td><td>4</td><td>2005</td><td>2005-12</td><td>2005Q4</td></tr><tr><td>12285</td><td>455</td><td>1</td><td>2005-05-25 19:13:25</td><td>749</td><td>455</td><td>2005-05-29 20:17:25</td><td>1</td><td>455</td><td>1</td><td>1906</td><td>2.99</td><td>2005-06-17 04:53:35</td><td>2006-02-15 22:19:11</td><td>749</td><td>164</td><td>1</td><td>2006-02-15 05:09:17</td><td>1</td><td>Mike</td><td>Hillyer</td><td>3</td><td>Mike.Hillyer@sakilastaff.com</td><td>1</td><td>1</td><td>Mike</td><td>8cb2237d0679ca88db6464eac60da96345513964</td><td>2006-02-15T03:57:16.000+0000</td><td>455</td><td>2</td><td>JON</td><td>WILES</td><td>JON.WILES@sakilacustomer.org</td><td>460</td><td>1</td><td>2006-02-14 22:04:37</td><td>2006-02-15 04:57:20</td><td>20050617</td><td>2005-06-17</td><td>2005/06/17</td><td>06/17/2005</td><td>17/06/2005</td><td>6</td><td>Friday</td><td>17</td><td>168</td><td>Weekday</td><td>24</td><td>June</td><td>6</td><td>N</td><td>2</td><td>2005</td><td>2005-06</td><td>2005Q2</td><td>12</td><td>4</td><td>2005</td><td>2005-12</td><td>2005Q4</td></tr><tr><td>12288</td><td>455</td><td>1</td><td>2005-05-25 19:13:25</td><td>749</td><td>455</td><td>2005-05-29 20:17:25</td><td>1</td><td>455</td><td>1</td><td>4861</td><td>8.99</td><td>2005-07-08 18:57:30</td><td>2006-02-15 22:19:11</td><td>749</td><td>164</td><td>1</td><td>2006-02-15 05:09:17</td><td>1</td><td>Mike</td><td>Hillyer</td><td>3</td><td>Mike.Hillyer@sakilastaff.com</td><td>1</td><td>1</td><td>Mike</td><td>8cb2237d0679ca88db6464eac60da96345513964</td><td>2006-02-15T03:57:16.000+0000</td><td>455</td><td>2</td><td>JON</td><td>WILES</td><td>JON.WILES@sakilacustomer.org</td><td>460</td><td>1</td><td>2006-02-14 22:04:37</td><td>2006-02-15 04:57:20</td><td>20050708</td><td>2005-07-08</td><td>2005/07/08</td><td>07/08/2005</td><td>08/07/2005</td><td>6</td><td>Friday</td><td>8</td><td>189</td><td>Weekday</td><td>27</td><td>July</td><td>7</td><td>N</td><td>3</td><td>2005</td><td>2005-07</td><td>2005Q3</td><td>1</td><td>1</td><td>2006</td><td>2006-01</td><td>2006Q1</td></tr><tr><td>12289</td><td>455</td><td>1</td><td>2005-05-25 19:13:25</td><td>749</td><td>455</td><td>2005-05-29 20:17:25</td><td>1</td><td>455</td><td>1</td><td>4964</td><td>2.99</td><td>2005-07-08 23:46:38</td><td>2006-02-15 22:19:11</td><td>749</td><td>164</td><td>1</td><td>2006-02-15 05:09:17</td><td>1</td><td>Mike</td><td>Hillyer</td><td>3</td><td>Mike.Hillyer@sakilastaff.com</td><td>1</td><td>1</td><td>Mike</td><td>8cb2237d0679ca88db6464eac60da96345513964</td><td>2006-02-15T03:57:16.000+0000</td><td>455</td><td>2</td><td>JON</td><td>WILES</td><td>JON.WILES@sakilacustomer.org</td><td>460</td><td>1</td><td>2006-02-14 22:04:37</td><td>2006-02-15 04:57:20</td><td>20050708</td><td>2005-07-08</td><td>2005/07/08</td><td>07/08/2005</td><td>08/07/2005</td><td>6</td><td>Friday</td><td>8</td><td>189</td><td>Weekday</td><td>27</td><td>July</td><td>7</td><td>N</td><td>3</td><td>2005</td><td>2005-07</td><td>2005Q3</td><td>1</td><td>1</td><td>2006</td><td>2006-01</td><td>2006Q1</td></tr><tr><td>12290</td><td>455</td><td>1</td><td>2005-05-25 19:13:25</td><td>749</td><td>455</td><td>2005-05-29 20:17:25</td><td>1</td><td>455</td><td>1</td><td>5504</td><td>6.99</td><td>2005-07-10 00:36:38</td><td>2006-02-15 22:19:11</td><td>749</td><td>164</td><td>1</td><td>2006-02-15 05:09:17</td><td>1</td><td>Mike</td><td>Hillyer</td><td>3</td><td>Mike.Hillyer@sakilastaff.com</td><td>1</td><td>1</td><td>Mike</td><td>8cb2237d0679ca88db6464eac60da96345513964</td><td>2006-02-15T03:57:16.000+0000</td><td>455</td><td>2</td><td>JON</td><td>WILES</td><td>JON.WILES@sakilacustomer.org</td><td>460</td><td>1</td><td>2006-02-14 22:04:37</td><td>2006-02-15 04:57:20</td><td>20050710</td><td>2005-07-10</td><td>2005/07/10</td><td>07/10/2005</td><td>10/07/2005</td><td>1</td><td>Sunday</td><td>10</td><td>191</td><td>Weekend</td><td>27</td><td>July</td><td>7</td><td>N</td><td>3</td><td>2005</td><td>2005-07</td><td>2005Q3</td><td>1</td><td>1</td><td>2006</td><td>2006-01</td><td>2006Q1</td></tr><tr><td>12292</td><td>455</td><td>1</td><td>2005-05-25 19:13:25</td><td>749</td><td>455</td><td>2005-05-29 20:17:25</td><td>1</td><td>455</td><td>1</td><td>7388</td><td>4.99</td><td>2005-07-27 15:54:19</td><td>2006-02-15 22:19:11</td><td>749</td><td>164</td><td>1</td><td>2006-02-15 05:09:17</td><td>1</td><td>Mike</td><td>Hillyer</td><td>3</td><td>Mike.Hillyer@sakilastaff.com</td><td>1</td><td>1</td><td>Mike</td><td>8cb2237d0679ca88db6464eac60da96345513964</td><td>2006-02-15T03:57:16.000+0000</td><td>455</td><td>2</td><td>JON</td><td>WILES</td><td>JON.WILES@sakilacustomer.org</td><td>460</td><td>1</td><td>2006-02-14 22:04:37</td><td>2006-02-15 04:57:20</td><td>20050727</td><td>2005-07-27</td><td>2005/07/27</td><td>07/27/2005</td><td>27/07/2005</td><td>4</td><td>Wednesday</td><td>27</td><td>208</td><td>Weekday</td><td>30</td><td>July</td><td>7</td><td>N</td><td>3</td><td>2005</td><td>2005-07</td><td>2005Q3</td><td>1</td><td>1</td><td>2006</td><td>2006-01</td><td>2006Q1</td></tr></tbody></table></div>"
      ]
     },
     "metadata": {
      "application/vnd.databricks.v1+output": {
       "addedWidgets": {},
       "aggData": [],
       "aggError": "",
       "aggOverflow": false,
       "aggSchema": [],
       "aggSeriesLimitReached": false,
       "aggType": "",
       "arguments": {},
       "columnCustomDisplayInfos": {},
       "data": [
        [
         13652,
         506,
         1,
         "2005-05-25 19:12:42",
         4502,
         506,
         "2005-06-01 23:10:42",
         1,
         506,
         1,
         12994,
         0.99,
         "2005-08-19 07:26:10",
         "2006-02-15 22:20:32",
         4502,
         982,
         2,
         "2006-02-15 05:09:17",
         1,
         "Mike",
         "Hillyer",
         3,
         "Mike.Hillyer@sakilastaff.com",
         1,
         1,
         "Mike",
         "8cb2237d0679ca88db6464eac60da96345513964",
         "2006-02-15T03:57:16.000+0000",
         506,
         2,
         "LESLIE",
         "SEWARD",
         "LESLIE.SEWARD@sakilacustomer.org",
         511,
         1,
         "2006-02-14 22:04:37",
         "2006-02-15 04:57:20",
         20050819,
         "2005-08-19",
         "2005/08/19",
         "08/19/2005",
         "19/08/2005",
         6,
         "Friday",
         19,
         231,
         "Weekday",
         33,
         "August",
         8,
         "N",
         3,
         2005,
         "2005-08",
         "2005Q3",
         2,
         1,
         2006,
         "2006-02",
         "2006Q1"
        ],
        [
         13655,
         506,
         1,
         "2005-05-25 19:12:42",
         4502,
         506,
         "2005-06-01 23:10:42",
         1,
         506,
         1,
         14074,
         1.99,
         "2005-08-20 23:16:07",
         "2006-02-15 22:20:32",
         4502,
         982,
         2,
         "2006-02-15 05:09:17",
         1,
         "Mike",
         "Hillyer",
         3,
         "Mike.Hillyer@sakilastaff.com",
         1,
         1,
         "Mike",
         "8cb2237d0679ca88db6464eac60da96345513964",
         "2006-02-15T03:57:16.000+0000",
         506,
         2,
         "LESLIE",
         "SEWARD",
         "LESLIE.SEWARD@sakilacustomer.org",
         511,
         1,
         "2006-02-14 22:04:37",
         "2006-02-15 04:57:20",
         20050820,
         "2005-08-20",
         "2005/08/20",
         "08/20/2005",
         "20/08/2005",
         7,
         "Saturday",
         20,
         232,
         "Weekend",
         33,
         "August",
         8,
         "N",
         3,
         2005,
         "2005-08",
         "2005Q3",
         2,
         1,
         2006,
         "2006-02",
         "2006Q1"
        ],
        [
         13656,
         506,
         1,
         "2005-05-25 19:12:42",
         4502,
         506,
         "2005-06-01 23:10:42",
         1,
         506,
         1,
         14337,
         2.99,
         "2005-08-21 08:34:26",
         "2006-02-15 22:20:32",
         4502,
         982,
         2,
         "2006-02-15 05:09:17",
         1,
         "Mike",
         "Hillyer",
         3,
         "Mike.Hillyer@sakilastaff.com",
         1,
         1,
         "Mike",
         "8cb2237d0679ca88db6464eac60da96345513964",
         "2006-02-15T03:57:16.000+0000",
         506,
         2,
         "LESLIE",
         "SEWARD",
         "LESLIE.SEWARD@sakilacustomer.org",
         511,
         1,
         "2006-02-14 22:04:37",
         "2006-02-15 04:57:20",
         20050821,
         "2005-08-21",
         "2005/08/21",
         "08/21/2005",
         "21/08/2005",
         1,
         "Sunday",
         21,
         233,
         "Weekend",
         33,
         "August",
         8,
         "N",
         3,
         2005,
         "2005-08",
         "2005Q3",
         2,
         1,
         2006,
         "2006-02",
         "2006Q1"
        ],
        [
         13660,
         506,
         1,
         "2005-05-25 19:12:42",
         4502,
         506,
         "2005-06-01 23:10:42",
         1,
         506,
         1,
         15694,
         9.99,
         "2005-08-23 10:02:46",
         "2006-02-15 22:20:33",
         4502,
         982,
         2,
         "2006-02-15 05:09:17",
         1,
         "Mike",
         "Hillyer",
         3,
         "Mike.Hillyer@sakilastaff.com",
         1,
         1,
         "Mike",
         "8cb2237d0679ca88db6464eac60da96345513964",
         "2006-02-15T03:57:16.000+0000",
         506,
         2,
         "LESLIE",
         "SEWARD",
         "LESLIE.SEWARD@sakilacustomer.org",
         511,
         1,
         "2006-02-14 22:04:37",
         "2006-02-15 04:57:20",
         20050823,
         "2005-08-23",
         "2005/08/23",
         "08/23/2005",
         "23/08/2005",
         3,
         "Tuesday",
         23,
         235,
         "Weekday",
         34,
         "August",
         8,
         "N",
         3,
         2005,
         "2005-08",
         "2005Q3",
         2,
         1,
         2006,
         "2006-02",
         "2006Q1"
        ],
        [
         12284,
         455,
         1,
         "2005-05-25 19:13:25",
         749,
         455,
         "2005-05-29 20:17:25",
         1,
         455,
         1,
         1802,
         1.99,
         "2005-06-16 20:23:30",
         "2006-02-15 22:19:11",
         749,
         164,
         1,
         "2006-02-15 05:09:17",
         1,
         "Mike",
         "Hillyer",
         3,
         "Mike.Hillyer@sakilastaff.com",
         1,
         1,
         "Mike",
         "8cb2237d0679ca88db6464eac60da96345513964",
         "2006-02-15T03:57:16.000+0000",
         455,
         2,
         "JON",
         "WILES",
         "JON.WILES@sakilacustomer.org",
         460,
         1,
         "2006-02-14 22:04:37",
         "2006-02-15 04:57:20",
         20050616,
         "2005-06-16",
         "2005/06/16",
         "06/16/2005",
         "16/06/2005",
         5,
         "Thursday",
         16,
         167,
         "Weekday",
         24,
         "June",
         6,
         "N",
         2,
         2005,
         "2005-06",
         "2005Q2",
         12,
         4,
         2005,
         "2005-12",
         "2005Q4"
        ],
        [
         12285,
         455,
         1,
         "2005-05-25 19:13:25",
         749,
         455,
         "2005-05-29 20:17:25",
         1,
         455,
         1,
         1906,
         2.99,
         "2005-06-17 04:53:35",
         "2006-02-15 22:19:11",
         749,
         164,
         1,
         "2006-02-15 05:09:17",
         1,
         "Mike",
         "Hillyer",
         3,
         "Mike.Hillyer@sakilastaff.com",
         1,
         1,
         "Mike",
         "8cb2237d0679ca88db6464eac60da96345513964",
         "2006-02-15T03:57:16.000+0000",
         455,
         2,
         "JON",
         "WILES",
         "JON.WILES@sakilacustomer.org",
         460,
         1,
         "2006-02-14 22:04:37",
         "2006-02-15 04:57:20",
         20050617,
         "2005-06-17",
         "2005/06/17",
         "06/17/2005",
         "17/06/2005",
         6,
         "Friday",
         17,
         168,
         "Weekday",
         24,
         "June",
         6,
         "N",
         2,
         2005,
         "2005-06",
         "2005Q2",
         12,
         4,
         2005,
         "2005-12",
         "2005Q4"
        ],
        [
         12288,
         455,
         1,
         "2005-05-25 19:13:25",
         749,
         455,
         "2005-05-29 20:17:25",
         1,
         455,
         1,
         4861,
         8.99,
         "2005-07-08 18:57:30",
         "2006-02-15 22:19:11",
         749,
         164,
         1,
         "2006-02-15 05:09:17",
         1,
         "Mike",
         "Hillyer",
         3,
         "Mike.Hillyer@sakilastaff.com",
         1,
         1,
         "Mike",
         "8cb2237d0679ca88db6464eac60da96345513964",
         "2006-02-15T03:57:16.000+0000",
         455,
         2,
         "JON",
         "WILES",
         "JON.WILES@sakilacustomer.org",
         460,
         1,
         "2006-02-14 22:04:37",
         "2006-02-15 04:57:20",
         20050708,
         "2005-07-08",
         "2005/07/08",
         "07/08/2005",
         "08/07/2005",
         6,
         "Friday",
         8,
         189,
         "Weekday",
         27,
         "July",
         7,
         "N",
         3,
         2005,
         "2005-07",
         "2005Q3",
         1,
         1,
         2006,
         "2006-01",
         "2006Q1"
        ],
        [
         12289,
         455,
         1,
         "2005-05-25 19:13:25",
         749,
         455,
         "2005-05-29 20:17:25",
         1,
         455,
         1,
         4964,
         2.99,
         "2005-07-08 23:46:38",
         "2006-02-15 22:19:11",
         749,
         164,
         1,
         "2006-02-15 05:09:17",
         1,
         "Mike",
         "Hillyer",
         3,
         "Mike.Hillyer@sakilastaff.com",
         1,
         1,
         "Mike",
         "8cb2237d0679ca88db6464eac60da96345513964",
         "2006-02-15T03:57:16.000+0000",
         455,
         2,
         "JON",
         "WILES",
         "JON.WILES@sakilacustomer.org",
         460,
         1,
         "2006-02-14 22:04:37",
         "2006-02-15 04:57:20",
         20050708,
         "2005-07-08",
         "2005/07/08",
         "07/08/2005",
         "08/07/2005",
         6,
         "Friday",
         8,
         189,
         "Weekday",
         27,
         "July",
         7,
         "N",
         3,
         2005,
         "2005-07",
         "2005Q3",
         1,
         1,
         2006,
         "2006-01",
         "2006Q1"
        ],
        [
         12290,
         455,
         1,
         "2005-05-25 19:13:25",
         749,
         455,
         "2005-05-29 20:17:25",
         1,
         455,
         1,
         5504,
         6.99,
         "2005-07-10 00:36:38",
         "2006-02-15 22:19:11",
         749,
         164,
         1,
         "2006-02-15 05:09:17",
         1,
         "Mike",
         "Hillyer",
         3,
         "Mike.Hillyer@sakilastaff.com",
         1,
         1,
         "Mike",
         "8cb2237d0679ca88db6464eac60da96345513964",
         "2006-02-15T03:57:16.000+0000",
         455,
         2,
         "JON",
         "WILES",
         "JON.WILES@sakilacustomer.org",
         460,
         1,
         "2006-02-14 22:04:37",
         "2006-02-15 04:57:20",
         20050710,
         "2005-07-10",
         "2005/07/10",
         "07/10/2005",
         "10/07/2005",
         1,
         "Sunday",
         10,
         191,
         "Weekend",
         27,
         "July",
         7,
         "N",
         3,
         2005,
         "2005-07",
         "2005Q3",
         1,
         1,
         2006,
         "2006-01",
         "2006Q1"
        ],
        [
         12292,
         455,
         1,
         "2005-05-25 19:13:25",
         749,
         455,
         "2005-05-29 20:17:25",
         1,
         455,
         1,
         7388,
         4.99,
         "2005-07-27 15:54:19",
         "2006-02-15 22:19:11",
         749,
         164,
         1,
         "2006-02-15 05:09:17",
         1,
         "Mike",
         "Hillyer",
         3,
         "Mike.Hillyer@sakilastaff.com",
         1,
         1,
         "Mike",
         "8cb2237d0679ca88db6464eac60da96345513964",
         "2006-02-15T03:57:16.000+0000",
         455,
         2,
         "JON",
         "WILES",
         "JON.WILES@sakilacustomer.org",
         460,
         1,
         "2006-02-14 22:04:37",
         "2006-02-15 04:57:20",
         20050727,
         "2005-07-27",
         "2005/07/27",
         "07/27/2005",
         "27/07/2005",
         4,
         "Wednesday",
         27,
         208,
         "Weekday",
         30,
         "July",
         7,
         "N",
         3,
         2005,
         "2005-07",
         "2005Q3",
         1,
         1,
         2006,
         "2006-01",
         "2006Q1"
        ]
       ],
       "datasetInfos": [],
       "dbfsResultPath": null,
       "isJsonSchema": true,
       "metadata": {},
       "overflow": false,
       "plotOptions": {
        "customPlotOptions": {},
        "displayType": "table",
        "pivotAggregation": null,
        "pivotColumns": null,
        "xColumns": null,
        "yColumns": null
       },
       "removedWidgets": [],
       "schema": [
        {
         "metadata": "{}",
         "name": "payment_key",
         "type": "\"long\""
        },
        {
         "metadata": "{}",
         "name": "customer_key",
         "type": "\"long\""
        },
        {
         "metadata": "{}",
         "name": "staff_key",
         "type": "\"long\""
        },
        {
         "metadata": "{}",
         "name": "rental_date",
         "type": "\"string\""
        },
        {
         "metadata": "{}",
         "name": "inventory_id",
         "type": "\"long\""
        },
        {
         "metadata": "{}",
         "name": "rental_customer_id",
         "type": "\"long\""
        },
        {
         "metadata": "{}",
         "name": "return_date",
         "type": "\"string\""
        },
        {
         "metadata": "{}",
         "name": "rental_staff_id",
         "type": "\"long\""
        },
        {
         "metadata": "{}",
         "name": "payment_customer_id",
         "type": "\"long\""
        },
        {
         "metadata": "{}",
         "name": "payment_staff_id",
         "type": "\"long\""
        },
        {
         "metadata": "{}",
         "name": "rental_id",
         "type": "\"long\""
        },
        {
         "metadata": "{}",
         "name": "amount",
         "type": "\"double\""
        },
        {
         "metadata": "{}",
         "name": "payment_date",
         "type": "\"string\""
        },
        {
         "metadata": "{}",
         "name": "payment_last_update",
         "type": "\"string\""
        },
        {
         "metadata": "{\"scale\":0}",
         "name": "i_inventory_id",
         "type": "\"integer\""
        },
        {
         "metadata": "{\"scale\":0}",
         "name": "film_id",
         "type": "\"integer\""
        },
        {
         "metadata": "{\"scale\":0}",
         "name": "i_store_id",
         "type": "\"integer\""
        },
        {
         "metadata": "{\"scale\":0}",
         "name": "i_last_update",
         "type": "\"string\""
        },
        {
         "metadata": "{}",
         "name": "staff_id",
         "type": "\"integer\""
        },
        {
         "metadata": "{}",
         "name": "first_name",
         "type": "\"string\""
        },
        {
         "metadata": "{}",
         "name": "last_name",
         "type": "\"string\""
        },
        {
         "metadata": "{}",
         "name": "s_address_id",
         "type": "\"integer\""
        },
        {
         "metadata": "{}",
         "name": "s_email",
         "type": "\"string\""
        },
        {
         "metadata": "{}",
         "name": "s_store_id",
         "type": "\"integer\""
        },
        {
         "metadata": "{}",
         "name": "s_active",
         "type": "\"integer\""
        },
        {
         "metadata": "{}",
         "name": "username",
         "type": "\"string\""
        },
        {
         "metadata": "{}",
         "name": "password",
         "type": "\"string\""
        },
        {
         "metadata": "{}",
         "name": "s_last_update",
         "type": "\"timestamp\""
        },
        {
         "metadata": "{}",
         "name": "customer_id",
         "type": "\"integer\""
        },
        {
         "metadata": "{}",
         "name": "store_id",
         "type": "\"integer\""
        },
        {
         "metadata": "{}",
         "name": "c_first_name",
         "type": "\"string\""
        },
        {
         "metadata": "{}",
         "name": "c_last_name",
         "type": "\"string\""
        },
        {
         "metadata": "{}",
         "name": "c_email",
         "type": "\"string\""
        },
        {
         "metadata": "{}",
         "name": "c_address_id",
         "type": "\"integer\""
        },
        {
         "metadata": "{}",
         "name": "c_active",
         "type": "\"integer\""
        },
        {
         "metadata": "{}",
         "name": "create_date",
         "type": "\"string\""
        },
        {
         "metadata": "{}",
         "name": "c_last_update",
         "type": "\"string\""
        },
        {
         "metadata": "{\"scale\":0}",
         "name": "date_key",
         "type": "\"integer\""
        },
        {
         "metadata": "{\"scale\":0}",
         "name": "full_date",
         "type": "\"date\""
        },
        {
         "metadata": "{\"scale\":0}",
         "name": "date_name",
         "type": "\"string\""
        },
        {
         "metadata": "{\"scale\":0}",
         "name": "date_name_us",
         "type": "\"string\""
        },
        {
         "metadata": "{\"scale\":0}",
         "name": "date_name_eu",
         "type": "\"string\""
        },
        {
         "metadata": "{\"scale\":0}",
         "name": "day_of_week",
         "type": "\"integer\""
        },
        {
         "metadata": "{\"scale\":0}",
         "name": "day_name_of_week",
         "type": "\"string\""
        },
        {
         "metadata": "{\"scale\":0}",
         "name": "day_of_month",
         "type": "\"integer\""
        },
        {
         "metadata": "{\"scale\":0}",
         "name": "day_of_year",
         "type": "\"integer\""
        },
        {
         "metadata": "{\"scale\":0}",
         "name": "weekday_weekend",
         "type": "\"string\""
        },
        {
         "metadata": "{\"scale\":0}",
         "name": "week_of_year",
         "type": "\"integer\""
        },
        {
         "metadata": "{\"scale\":0}",
         "name": "month_name",
         "type": "\"string\""
        },
        {
         "metadata": "{\"scale\":0}",
         "name": "month_of_year",
         "type": "\"integer\""
        },
        {
         "metadata": "{\"scale\":0}",
         "name": "is_last_day_of_month",
         "type": "\"string\""
        },
        {
         "metadata": "{\"scale\":0}",
         "name": "calendar_quarter",
         "type": "\"integer\""
        },
        {
         "metadata": "{\"scale\":0}",
         "name": "calendar_year",
         "type": "\"integer\""
        },
        {
         "metadata": "{\"scale\":0}",
         "name": "calendar_year_month",
         "type": "\"string\""
        },
        {
         "metadata": "{\"scale\":0}",
         "name": "calendar_year_qtr",
         "type": "\"string\""
        },
        {
         "metadata": "{\"scale\":0}",
         "name": "fiscal_month_of_year",
         "type": "\"integer\""
        },
        {
         "metadata": "{\"scale\":0}",
         "name": "fiscal_quarter",
         "type": "\"integer\""
        },
        {
         "metadata": "{\"scale\":0}",
         "name": "fiscal_year",
         "type": "\"integer\""
        },
        {
         "metadata": "{\"scale\":0}",
         "name": "fiscal_year_month",
         "type": "\"string\""
        },
        {
         "metadata": "{\"scale\":0}",
         "name": "fiscal_year_qtr",
         "type": "\"string\""
        }
       ],
       "type": "table"
      }
     },
     "output_type": "display_data"
    }
   ],
   "source": [
    "%sql\n",
    "SELECT * FROM fact_rental_payment_silver\n",
    "LIMIT 10"
   ]
  },
  {
   "cell_type": "code",
   "execution_count": 0,
   "metadata": {
    "application/vnd.databricks.v1+cell": {
     "cellMetadata": {
      "byteLimit": 2048000,
      "implicitDf": true,
      "rowLimit": 10000
     },
     "inputWidgets": {},
     "nuid": "f89680de-3ae9-4a27-9c0c-a8e4eef7667a",
     "showTitle": false,
     "title": ""
    }
   },
   "outputs": [
    {
     "output_type": "display_data",
     "data": {
      "text/html": [
       "<style scoped>\n",
       "  .table-result-container {\n",
       "    max-height: 300px;\n",
       "    overflow: auto;\n",
       "  }\n",
       "  table, th, td {\n",
       "    border: 1px solid black;\n",
       "    border-collapse: collapse;\n",
       "  }\n",
       "  th, td {\n",
       "    padding: 5px;\n",
       "  }\n",
       "  th {\n",
       "    text-align: left;\n",
       "  }\n",
       "</style><div class='table-result-container'><table class='table-result'><thead style='background-color: white'><tr><th>col_name</th><th>data_type</th><th>comment</th></tr></thead><tbody><tr><td>payment_key</td><td>bigint</td><td>null</td></tr><tr><td>customer_key</td><td>bigint</td><td>null</td></tr><tr><td>staff_key</td><td>bigint</td><td>null</td></tr><tr><td>rental_date</td><td>string</td><td>null</td></tr><tr><td>inventory_id</td><td>bigint</td><td>null</td></tr><tr><td>rental_customer_id</td><td>bigint</td><td>null</td></tr><tr><td>return_date</td><td>string</td><td>null</td></tr><tr><td>rental_staff_id</td><td>bigint</td><td>null</td></tr><tr><td>payment_customer_id</td><td>bigint</td><td>null</td></tr><tr><td>payment_staff_id</td><td>bigint</td><td>null</td></tr><tr><td>rental_id</td><td>bigint</td><td>null</td></tr><tr><td>amount</td><td>double</td><td>null</td></tr><tr><td>payment_date</td><td>string</td><td>null</td></tr><tr><td>payment_last_update</td><td>string</td><td>null</td></tr><tr><td>i_inventory_id</td><td>int</td><td>null</td></tr><tr><td>film_id</td><td>int</td><td>null</td></tr><tr><td>i_store_id</td><td>int</td><td>null</td></tr><tr><td>i_last_update</td><td>string</td><td>null</td></tr><tr><td>staff_id</td><td>int</td><td>null</td></tr><tr><td>first_name</td><td>string</td><td>null</td></tr><tr><td>last_name</td><td>string</td><td>null</td></tr><tr><td>s_address_id</td><td>int</td><td>null</td></tr><tr><td>s_email</td><td>string</td><td>null</td></tr><tr><td>s_store_id</td><td>int</td><td>null</td></tr><tr><td>s_active</td><td>int</td><td>null</td></tr><tr><td>username</td><td>string</td><td>null</td></tr><tr><td>password</td><td>string</td><td>null</td></tr><tr><td>s_last_update</td><td>timestamp</td><td>null</td></tr><tr><td>customer_id</td><td>int</td><td>null</td></tr><tr><td>store_id</td><td>int</td><td>null</td></tr><tr><td>c_first_name</td><td>string</td><td>null</td></tr><tr><td>c_last_name</td><td>string</td><td>null</td></tr><tr><td>c_email</td><td>string</td><td>null</td></tr><tr><td>c_address_id</td><td>int</td><td>null</td></tr><tr><td>c_active</td><td>int</td><td>null</td></tr><tr><td>create_date</td><td>string</td><td>null</td></tr><tr><td>c_last_update</td><td>string</td><td>null</td></tr><tr><td>date_key</td><td>int</td><td>null</td></tr><tr><td>full_date</td><td>date</td><td>null</td></tr><tr><td>date_name</td><td>string</td><td>null</td></tr><tr><td>date_name_us</td><td>string</td><td>null</td></tr><tr><td>date_name_eu</td><td>string</td><td>null</td></tr><tr><td>day_of_week</td><td>int</td><td>null</td></tr><tr><td>day_name_of_week</td><td>string</td><td>null</td></tr><tr><td>day_of_month</td><td>int</td><td>null</td></tr><tr><td>day_of_year</td><td>int</td><td>null</td></tr><tr><td>weekday_weekend</td><td>string</td><td>null</td></tr><tr><td>week_of_year</td><td>int</td><td>null</td></tr><tr><td>month_name</td><td>string</td><td>null</td></tr><tr><td>month_of_year</td><td>int</td><td>null</td></tr><tr><td>is_last_day_of_month</td><td>string</td><td>null</td></tr><tr><td>calendar_quarter</td><td>int</td><td>null</td></tr><tr><td>calendar_year</td><td>int</td><td>null</td></tr><tr><td>calendar_year_month</td><td>string</td><td>null</td></tr><tr><td>calendar_year_qtr</td><td>string</td><td>null</td></tr><tr><td>fiscal_month_of_year</td><td>int</td><td>null</td></tr><tr><td>fiscal_quarter</td><td>int</td><td>null</td></tr><tr><td>fiscal_year</td><td>int</td><td>null</td></tr><tr><td>fiscal_year_month</td><td>string</td><td>null</td></tr><tr><td>fiscal_year_qtr</td><td>string</td><td>null</td></tr><tr><td></td><td></td><td></td></tr><tr><td># Detailed Table Information</td><td></td><td></td></tr><tr><td>Catalog</td><td>spark_catalog</td><td></td></tr><tr><td>Database</td><td>sakila_dlh</td><td></td></tr><tr><td>Table</td><td>fact_rental_payment_silver</td><td></td></tr><tr><td>Type</td><td>MANAGED</td><td></td></tr><tr><td>Location</td><td>dbfs:/FileStore/ds2002-final-project/sakila_dlh/fact_rental_payment_silver</td><td></td></tr><tr><td>Provider</td><td>delta</td><td></td></tr><tr><td>Owner</td><td>root</td><td></td></tr><tr><td>Is_managed_location</td><td>true</td><td></td></tr><tr><td>Table Properties</td><td>[delta.minReaderVersion=1,delta.minWriterVersion=2]</td><td></td></tr></tbody></table></div>"
      ]
     },
     "metadata": {
      "application/vnd.databricks.v1+output": {
       "addedWidgets": {},
       "aggData": [],
       "aggError": "",
       "aggOverflow": false,
       "aggSchema": [],
       "aggSeriesLimitReached": false,
       "aggType": "",
       "arguments": {},
       "columnCustomDisplayInfos": {},
       "data": [
        [
         "payment_key",
         "bigint",
         null
        ],
        [
         "customer_key",
         "bigint",
         null
        ],
        [
         "staff_key",
         "bigint",
         null
        ],
        [
         "rental_date",
         "string",
         null
        ],
        [
         "inventory_id",
         "bigint",
         null
        ],
        [
         "rental_customer_id",
         "bigint",
         null
        ],
        [
         "return_date",
         "string",
         null
        ],
        [
         "rental_staff_id",
         "bigint",
         null
        ],
        [
         "payment_customer_id",
         "bigint",
         null
        ],
        [
         "payment_staff_id",
         "bigint",
         null
        ],
        [
         "rental_id",
         "bigint",
         null
        ],
        [
         "amount",
         "double",
         null
        ],
        [
         "payment_date",
         "string",
         null
        ],
        [
         "payment_last_update",
         "string",
         null
        ],
        [
         "i_inventory_id",
         "int",
         null
        ],
        [
         "film_id",
         "int",
         null
        ],
        [
         "i_store_id",
         "int",
         null
        ],
        [
         "i_last_update",
         "string",
         null
        ],
        [
         "staff_id",
         "int",
         null
        ],
        [
         "first_name",
         "string",
         null
        ],
        [
         "last_name",
         "string",
         null
        ],
        [
         "s_address_id",
         "int",
         null
        ],
        [
         "s_email",
         "string",
         null
        ],
        [
         "s_store_id",
         "int",
         null
        ],
        [
         "s_active",
         "int",
         null
        ],
        [
         "username",
         "string",
         null
        ],
        [
         "password",
         "string",
         null
        ],
        [
         "s_last_update",
         "timestamp",
         null
        ],
        [
         "customer_id",
         "int",
         null
        ],
        [
         "store_id",
         "int",
         null
        ],
        [
         "c_first_name",
         "string",
         null
        ],
        [
         "c_last_name",
         "string",
         null
        ],
        [
         "c_email",
         "string",
         null
        ],
        [
         "c_address_id",
         "int",
         null
        ],
        [
         "c_active",
         "int",
         null
        ],
        [
         "create_date",
         "string",
         null
        ],
        [
         "c_last_update",
         "string",
         null
        ],
        [
         "date_key",
         "int",
         null
        ],
        [
         "full_date",
         "date",
         null
        ],
        [
         "date_name",
         "string",
         null
        ],
        [
         "date_name_us",
         "string",
         null
        ],
        [
         "date_name_eu",
         "string",
         null
        ],
        [
         "day_of_week",
         "int",
         null
        ],
        [
         "day_name_of_week",
         "string",
         null
        ],
        [
         "day_of_month",
         "int",
         null
        ],
        [
         "day_of_year",
         "int",
         null
        ],
        [
         "weekday_weekend",
         "string",
         null
        ],
        [
         "week_of_year",
         "int",
         null
        ],
        [
         "month_name",
         "string",
         null
        ],
        [
         "month_of_year",
         "int",
         null
        ],
        [
         "is_last_day_of_month",
         "string",
         null
        ],
        [
         "calendar_quarter",
         "int",
         null
        ],
        [
         "calendar_year",
         "int",
         null
        ],
        [
         "calendar_year_month",
         "string",
         null
        ],
        [
         "calendar_year_qtr",
         "string",
         null
        ],
        [
         "fiscal_month_of_year",
         "int",
         null
        ],
        [
         "fiscal_quarter",
         "int",
         null
        ],
        [
         "fiscal_year",
         "int",
         null
        ],
        [
         "fiscal_year_month",
         "string",
         null
        ],
        [
         "fiscal_year_qtr",
         "string",
         null
        ],
        [
         "",
         "",
         ""
        ],
        [
         "# Detailed Table Information",
         "",
         ""
        ],
        [
         "Catalog",
         "spark_catalog",
         ""
        ],
        [
         "Database",
         "sakila_dlh",
         ""
        ],
        [
         "Table",
         "fact_rental_payment_silver",
         ""
        ],
        [
         "Type",
         "MANAGED",
         ""
        ],
        [
         "Location",
         "dbfs:/FileStore/ds2002-final-project/sakila_dlh/fact_rental_payment_silver",
         ""
        ],
        [
         "Provider",
         "delta",
         ""
        ],
        [
         "Owner",
         "root",
         ""
        ],
        [
         "Is_managed_location",
         "true",
         ""
        ],
        [
         "Table Properties",
         "[delta.minReaderVersion=1,delta.minWriterVersion=2]",
         ""
        ]
       ],
       "datasetInfos": [],
       "dbfsResultPath": null,
       "isJsonSchema": true,
       "metadata": {},
       "overflow": false,
       "plotOptions": {
        "customPlotOptions": {},
        "displayType": "table",
        "pivotAggregation": null,
        "pivotColumns": null,
        "xColumns": null,
        "yColumns": null
       },
       "removedWidgets": [],
       "schema": [
        {
         "metadata": "{\"comment\":\"name of the column\"}",
         "name": "col_name",
         "type": "\"string\""
        },
        {
         "metadata": "{\"comment\":\"data type of the column\"}",
         "name": "data_type",
         "type": "\"string\""
        },
        {
         "metadata": "{\"comment\":\"comment of the column\"}",
         "name": "comment",
         "type": "\"string\""
        }
       ],
       "type": "table"
      }
     },
     "output_type": "display_data"
    }
   ],
   "source": [
    "%sql\n",
    "DESCRIBE EXTENDED sakila_dlh.fact_rental_payment_silver"
   ]
  },
  {
   "cell_type": "markdown",
   "metadata": {
    "application/vnd.databricks.v1+cell": {
     "cellMetadata": {},
     "inputWidgets": {},
     "nuid": "6804eb9a-7c90-4c3c-a26e-29c9b91f1b1c",
     "showTitle": false,
     "title": ""
    }
   },
   "source": [
    "##### Gold Table: Performing Aggregations\n",
    "###### First aggregation groups total amount paid by staff last name\n",
    "###### Second aggregation groups customer name, film ID, and film count by customer ID"
   ]
  },
  {
   "cell_type": "code",
   "execution_count": 0,
   "metadata": {
    "application/vnd.databricks.v1+cell": {
     "cellMetadata": {
      "byteLimit": 2048000,
      "implicitDf": true,
      "rowLimit": 10000
     },
     "inputWidgets": {},
     "nuid": "255621fc-ae98-4723-917c-898eb3c0bf96",
     "showTitle": false,
     "title": ""
    }
   },
   "outputs": [
    {
     "output_type": "display_data",
     "data": {
      "text/html": [
       "<style scoped>\n",
       "  .table-result-container {\n",
       "    max-height: 300px;\n",
       "    overflow: auto;\n",
       "  }\n",
       "  table, th, td {\n",
       "    border: 1px solid black;\n",
       "    border-collapse: collapse;\n",
       "  }\n",
       "  th, td {\n",
       "    padding: 5px;\n",
       "  }\n",
       "  th {\n",
       "    text-align: left;\n",
       "  }\n",
       "</style><div class='table-result-container'><table class='table-result'><thead style='background-color: white'><tr><th>last_name</th><th>total_amount</th></tr></thead><tbody><tr><td>Stephens</td><td>468591.3499993294</td></tr><tr><td>Hillyer</td><td>467143.16999933124</td></tr></tbody></table></div>"
      ]
     },
     "metadata": {
      "application/vnd.databricks.v1+output": {
       "addedWidgets": {},
       "aggData": [],
       "aggError": "",
       "aggOverflow": false,
       "aggSchema": [],
       "aggSeriesLimitReached": false,
       "aggType": "",
       "arguments": {},
       "columnCustomDisplayInfos": {},
       "data": [
        [
         "Stephens",
         468591.3499993294
        ],
        [
         "Hillyer",
         467143.16999933124
        ]
       ],
       "datasetInfos": [],
       "dbfsResultPath": null,
       "isJsonSchema": true,
       "metadata": {},
       "overflow": false,
       "plotOptions": {
        "customPlotOptions": {},
        "displayType": "table",
        "pivotAggregation": null,
        "pivotColumns": null,
        "xColumns": null,
        "yColumns": null
       },
       "removedWidgets": [],
       "schema": [
        {
         "metadata": "{}",
         "name": "last_name",
         "type": "\"string\""
        },
        {
         "metadata": "{}",
         "name": "total_amount",
         "type": "\"double\""
        }
       ],
       "type": "table"
      }
     },
     "output_type": "display_data"
    }
   ],
   "source": [
    "%sql\n",
    "\n",
    "SELECT last_name,\n",
    "SUM (amount) AS total_amount\n",
    "FROM sakila_dlh.fact_rental_payment_silver\n",
    "GROUP BY last_name\n",
    "ORDER BY total_amount DESC"
   ]
  },
  {
   "cell_type": "code",
   "execution_count": 0,
   "metadata": {
    "application/vnd.databricks.v1+cell": {
     "cellMetadata": {
      "byteLimit": 2048000,
      "implicitDf": true,
      "rowLimit": 10000
     },
     "inputWidgets": {},
     "nuid": "2ff0d151-e0d9-497d-b624-3c84dfbdb714",
     "showTitle": false,
     "title": ""
    }
   },
   "outputs": [
    {
     "output_type": "display_data",
     "data": {
      "text/html": [
       "<style scoped>\n",
       "  .table-result-container {\n",
       "    max-height: 300px;\n",
       "    overflow: auto;\n",
       "  }\n",
       "  table, th, td {\n",
       "    border: 1px solid black;\n",
       "    border-collapse: collapse;\n",
       "  }\n",
       "  th, td {\n",
       "    padding: 5px;\n",
       "  }\n",
       "  th {\n",
       "    text-align: left;\n",
       "  }\n",
       "</style><div class='table-result-container'><table class='table-result'><thead style='background-color: white'><tr><th>CustomerID</th><th>CustomerName</th><th>FilmID</th><th>FilmCount</th></tr></thead><tbody><tr><td>148</td><td>HUNT</td><td>709</td><td>1056</td></tr><tr><td>148</td><td>HUNT</td><td>166</td><td>1056</td></tr><tr><td>148</td><td>HUNT</td><td>285</td><td>1056</td></tr><tr><td>148</td><td>HUNT</td><td>374</td><td>1056</td></tr><tr><td>148</td><td>HUNT</td><td>708</td><td>1056</td></tr><tr><td>148</td><td>HUNT</td><td>610</td><td>1056</td></tr><tr><td>148</td><td>HUNT</td><td>552</td><td>1056</td></tr><tr><td>148</td><td>HUNT</td><td>39</td><td>1056</td></tr><tr><td>148</td><td>HUNT</td><td>957</td><td>1056</td></tr><tr><td>148</td><td>HUNT</td><td>645</td><td>1056</td></tr></tbody></table></div>"
      ]
     },
     "metadata": {
      "application/vnd.databricks.v1+output": {
       "addedWidgets": {},
       "aggData": [],
       "aggError": "",
       "aggOverflow": false,
       "aggSchema": [],
       "aggSeriesLimitReached": false,
       "aggType": "",
       "arguments": {},
       "columnCustomDisplayInfos": {},
       "data": [
        [
         148,
         "HUNT",
         709,
         1056
        ],
        [
         148,
         "HUNT",
         166,
         1056
        ],
        [
         148,
         "HUNT",
         285,
         1056
        ],
        [
         148,
         "HUNT",
         374,
         1056
        ],
        [
         148,
         "HUNT",
         708,
         1056
        ],
        [
         148,
         "HUNT",
         610,
         1056
        ],
        [
         148,
         "HUNT",
         552,
         1056
        ],
        [
         148,
         "HUNT",
         39,
         1056
        ],
        [
         148,
         "HUNT",
         957,
         1056
        ],
        [
         148,
         "HUNT",
         645,
         1056
        ]
       ],
       "datasetInfos": [],
       "dbfsResultPath": null,
       "isJsonSchema": true,
       "metadata": {},
       "overflow": false,
       "plotOptions": {
        "customPlotOptions": {},
        "displayType": "table",
        "pivotAggregation": null,
        "pivotColumns": null,
        "xColumns": null,
        "yColumns": null
       },
       "removedWidgets": [],
       "schema": [
        {
         "metadata": "{}",
         "name": "CustomerID",
         "type": "\"integer\""
        },
        {
         "metadata": "{}",
         "name": "CustomerName",
         "type": "\"string\""
        },
        {
         "metadata": "{\"scale\":0}",
         "name": "FilmID",
         "type": "\"integer\""
        },
        {
         "metadata": "{}",
         "name": "FilmCount",
         "type": "\"long\""
        }
       ],
       "type": "table"
      }
     },
     "output_type": "display_data"
    }
   ],
   "source": [
    "%sql\n",
    "\n",
    "SELECT distinct customer_id AS CustomerID\n",
    "  , c_last_name AS CustomerName\n",
    "  , film_id AS FilmID\n",
    "  , ic.FilmCount\n",
    "FROM sakila_dlh.fact_rental_payment_silver AS rp\n",
    "INNER JOIN (\n",
    "  SELECT customer_id AS CustomerID\n",
    "  , COUNT(film_id) AS FilmCount\n",
    "  FROM sakila_dlh.fact_rental_payment_silver\n",
    "  GROUP BY customer_id\n",
    ") AS ic\n",
    "ON ic.CustomerID = rp.customer_id\n",
    "ORDER BY FilmCount DESC\n",
    "LIMIT 10"
   ]
  },
  {
   "cell_type": "markdown",
   "metadata": {
    "application/vnd.databricks.v1+cell": {
     "cellMetadata": {},
     "inputWidgets": {},
     "nuid": "143f665e-eda3-4fbf-8f72-9aab08ae302b",
     "showTitle": false,
     "title": ""
    }
   },
   "source": [
    "#### 9.0. Clean up the File System"
   ]
  },
  {
   "cell_type": "code",
   "execution_count": 0,
   "metadata": {
    "application/vnd.databricks.v1+cell": {
     "cellMetadata": {
      "byteLimit": 2048000,
      "rowLimit": 10000
     },
     "inputWidgets": {},
     "nuid": "5d6447df-9b1b-4ca6-aab4-9651998583d9",
     "showTitle": false,
     "title": ""
    }
   },
   "outputs": [],
   "source": [
    "%fs rm -r /FileStore/ds2002-final-project/"
   ]
  }
 ],
 "metadata": {
  "application/vnd.databricks.v1+notebook": {
   "dashboards": [],
   "language": "python",
   "notebookMetadata": {
    "mostRecentlyExecutedCommandWithImplicitDF": {
     "commandId": 4049040065759659,
     "dataframes": [
      "_sqldf"
     ]
    },
    "pythonIndentUnit": 4
   },
   "notebookName": "Final Project",
   "widgets": {}
  }
 },
 "nbformat": 4,
 "nbformat_minor": 0
}
